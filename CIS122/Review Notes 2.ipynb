{
 "cells": [
  {
   "cell_type": "markdown",
   "metadata": {},
   "source": [
    "# Review notes 1\n"
   ]
  },
  {
   "cell_type": "markdown",
   "metadata": {},
   "source": [
    "### Create a variable \n",
    "#### Pattern\n",
    "```python\n",
    "# variable names start with letter or _ \n",
    "#     then add as many letters _ and digits as needed\n",
    "# Create a variable:\n",
    "some_name  =  some_value  \n",
    "\n",
    "```"
   ]
  },
  {
   "cell_type": "code",
   "execution_count": 8,
   "metadata": {
    "collapsed": true
   },
   "outputs": [],
   "source": [
    "my_friend = 'Taylor' # 'Taylor' is a constant \n",
    "friend2 = \"Dana\"     # \"Dana\" is another string constant\n",
    "puppies = 1          # 1 is a constant,   integer or int number 1\n",
    "puppy_weight = 6.5   # 6.5 is a constant, float number 6.5"
   ]
  },
  {
   "cell_type": "markdown",
   "metadata": {},
   "source": [
    "### Update a variable - assign a new value to a variable"
   ]
  },
  {
   "cell_type": "code",
   "execution_count": 9,
   "metadata": {
    "collapsed": true
   },
   "outputs": [],
   "source": [
    "friend2 = \"Janet\"\n",
    "puppies = 3\n",
    "puppy_weight = 6.75"
   ]
  },
  {
   "cell_type": "markdown",
   "metadata": {},
   "source": [
    "### Repeat n times\n",
    "```python\n",
    "number_of_repeats = 5\n",
    "for some_variable in range(number_of_repeats):\n",
    "    # indented block of statements get repeated\n",
    "    print(some_variable, 'some note')\n",
    "    print(\" \")\n",
    "#```"
   ]
  },
  {
   "cell_type": "code",
   "execution_count": 10,
   "metadata": {
    "collapsed": false
   },
   "outputs": [
    {
     "name": "stdout",
     "output_type": "stream",
     "text": [
      "0\n",
      "Go Ducks!\n",
      "1\n",
      "Go Ducks!\n",
      "2\n",
      "Go Ducks!\n",
      "3\n",
      "Go Ducks!\n"
     ]
    }
   ],
   "source": [
    "for count in range(4):\n",
    "    print(count)\n",
    "    print(\"Go Ducks!\")\n",
    "#"
   ]
  },
  {
   "cell_type": "markdown",
   "metadata": {},
   "source": [
    "### Choose what to do\n",
    "```python\n",
    "city = input('Type a city name: ')\n",
    "if city == 'Eugene':\n",
    "    print(city, 'is home of the Ducks!')\n",
    "else:\n",
    "    print(city, 'is not here')\n",
    "#\n",
    "\n",
    "# Comparisons\n",
    "a = 7\n",
    "b = 9\n",
    "if a == b:\n",
    "    print(a, 'has same value as', b)\n",
    "if a != b:\n",
    "    print(a, 'not the same as', b)\n",
    "if a > b:\n",
    "    print(a, 'greater than', b)\n",
    "if a >= b:\n",
    "    print(a, 'greater than or equal to', b)\n",
    "if a < b:\n",
    "    print(a, 'smaller than', b)\n",
    "if a <= b: \n",
    "    print(a, 'smaller than or equal to', b)\n",
    "\n",
    "best_cars = ['VW', 'Toyota', 'Ford', 'Jeep']\n",
    "my_car = input('Type your car brand such as Jeep: ')\n",
    "# is an item in a list?\n",
    "if my_car in best_cars:\n",
    "    print(my_car, 'is one of the best cars in 2019')\n",
    "#\n",
    "\n",
    "```"
   ]
  },
  {
   "cell_type": "code",
   "execution_count": 12,
   "metadata": {
    "collapsed": false
   },
   "outputs": [
    {
     "name": "stdout",
     "output_type": "stream",
     "text": [
      "Name of your friend: Anna\n",
      "Anna really knows advanced Python\n"
     ]
    }
   ],
   "source": [
    "my_friend = input('Name of your friend: ')\n",
    "if my_friend == 'Anna':\n",
    "    print(my_friend, \"really knows advanced Python\")\n",
    "else:\n",
    "    print(my_friend, 'is in this class')"
   ]
  },
  {
   "cell_type": "markdown",
   "metadata": {},
   "source": [
    "### Create a static list of strings\n",
    "```python\n",
    "# Square brackets surround the list\n",
    "cars = ['VW', 'Toyota', 'Ford', 'Jeep']\n",
    "```"
   ]
  },
  {
   "cell_type": "code",
   "execution_count": 13,
   "metadata": {
    "collapsed": false
   },
   "outputs": [
    {
     "name": "stdout",
     "output_type": "stream",
     "text": [
      "List of new friends this term\n",
      "Dana\n",
      "Anna\n",
      "Taylor\n",
      "Andy\n"
     ]
    }
   ],
   "source": [
    "new_friends = ['Dana', 'Anna', 'Taylor', 'Andy']\n",
    "\n",
    "# Iterate through the list\n",
    "print(\"List of new friends this term\")\n",
    "for a_friend in new_friends:\n",
    "    print(a_friend)\n",
    "#"
   ]
  },
  {
   "cell_type": "markdown",
   "metadata": {},
   "source": [
    "### Create a static list of numbers\n",
    "```python\n",
    "# Square brackets surround the list\n",
    "daily_cold_temperatures = [14, 22, 34, 19, -5]\n",
    "```\n",
    "\n",
    "### Call a function that uses a list of numbers\n",
    "####  sum len min max\n",
    "```python\n",
    "a_list = [6, 4, 3, 1, 77, 23.55, 16.7, 2.2]\n",
    "total = sum(a_list)\n",
    "number_of_items = len(a_list)\n",
    "small = min(a_list)\n",
    "big = max(a_list)\n",
    "```\n",
    "### Call a function to round a value to n decimal places\n",
    "```python\n",
    "value = 67.57 / 3\n",
    "nice_number round(value, 2)\n",
    "```"
   ]
  },
  {
   "cell_type": "code",
   "execution_count": 16,
   "metadata": {
    "collapsed": false
   },
   "outputs": [
    {
     "name": "stdout",
     "output_type": "stream",
     "text": [
      "Smallest price -52.47 Biggest 34.9\n",
      "Total due $ 39.78\n",
      "There are 5 items in the prices list.\n"
     ]
    }
   ],
   "source": [
    "prices = [14.97, 22.63, 34.90, 19.75, -52.47]\n",
    "\n",
    "smallest_price = min(prices)\n",
    "biggest_price = max(prices)\n",
    "print(\"Smallest price\", smallest_price, \"Biggest\", biggest_price)\n",
    "\n",
    "total_due = sum(prices)\n",
    "\n",
    "# Round the total_due to 2 decimal places\n",
    "rounded_total = round(total_due, 2)\n",
    "print('Total due $', rounded_total)\n",
    "\n",
    "# Number of items in a list \n",
    "how_many = len(prices)\n",
    "print('There are', how_many, 'items in the prices list.')"
   ]
  },
  {
   "cell_type": "code",
   "execution_count": null,
   "metadata": {
    "collapsed": true
   },
   "outputs": [],
   "source": [
    "### Append a new value from input( ) to a list\n",
    "```python\n",
    "costs = [4.23, 11.65, 17.90, 3.75, 2.47]\n",
    "yearbook_string = input('Type cost of Yearbook: ')\n",
    "yearbook_cost = float(yearbook_string)\n",
    "\n",
    "# append to costs\n",
    "costs.append(yearbook_cost)\n",
    "for each_cost in costs:\n",
    "    print(\"$\", each_cost)\n",
    "```"
   ]
  },
  {
   "cell_type": "code",
   "execution_count": 2,
   "metadata": {
    "collapsed": false
   },
   "outputs": [
    {
     "name": "stdout",
     "output_type": "stream",
     "text": [
      "Type cost of Yearbook: 200\n",
      "$ 4.23\n",
      "$ 11.65\n",
      "$ 17.9\n",
      "$ 3.75\n",
      "$ 2.47\n",
      "$ 200.0\n"
     ]
    }
   ],
   "source": [
    "costs = [4.23, 11.65, 17.90, 3.75, 2.47]\n",
    "yearbook_string = input('Type cost of Yearbook: ')\n",
    "yearbook_cost = float(yearbook_string)\n",
    "\n",
    "# append to costs\n",
    "costs.append(yearbook_cost)\n",
    "\n",
    "# iterate to print each cost\n",
    "for each_cost in costs:\n",
    "    print(\"$\", each_cost)\n",
    "#"
   ]
  },
  {
   "cell_type": "markdown",
   "metadata": {},
   "source": [
    "### Create an empty list  \n",
    "##### Later, you will likely append some values to it"
   ]
  },
  {
   "cell_type": "code",
   "execution_count": 18,
   "metadata": {
    "collapsed": true
   },
   "outputs": [],
   "source": [
    "candidates_next_year = [ ]\n",
    "\n",
    "best_prices = [ ]"
   ]
  },
  {
   "cell_type": "markdown",
   "metadata": {},
   "source": [
    "### if a_state in ['AZ', 'UT']:\n",
    "This kind of if statement is easy to extend (\"scales well\") and is not likely to get errors.\n",
    "\n"
   ]
  },
  {
   "cell_type": "code",
   "execution_count": 3,
   "metadata": {
    "collapsed": false
   },
   "outputs": [
    {
     "name": "stdout",
     "output_type": "stream",
     "text": [
      "AK a great state\n",
      "WA a great state\n",
      "FL a great state\n",
      "CA a great state\n",
      "AZ *** one of the best states to visit ***\n",
      "NV a great state\n",
      "UT *** one of the best states to visit ***\n",
      "OR a great state\n",
      "ME a great state\n",
      "\n",
      "Done!\n"
     ]
    }
   ],
   "source": [
    "# Iterate through state codes, select some for special treatment\n",
    "\n",
    "some_states = ['AK', 'WA', 'FL', 'CA', 'AZ', 'NV', 'UT', 'OR', 'ME']\n",
    "normal_message = 'a great state'\n",
    "special_message = '*** one of the best states to visit ***'\n",
    "\n",
    "for a_state in some_states: # Iterate through the list    \n",
    "    if a_state in ['AZ', 'UT']: # True when a_state is either AZ or UT\n",
    "        message = special_message\n",
    "    else:\n",
    "        message = normal_message\n",
    "    #\n",
    "    print(a_state, message)\n",
    "#\n",
    "print('\\nDone!')"
   ]
  },
  {
   "cell_type": "markdown",
   "metadata": {},
   "source": [
    "### Plot a bar chart - basic, no x or y axis notes, no title"
   ]
  },
  {
   "cell_type": "code",
   "execution_count": 23,
   "metadata": {
    "collapsed": false,
    "scrolled": true
   },
   "outputs": [
    {
     "data": {
      "image/png": "[encoded data removed]",
      "text/plain": [
       "<matplotlib.figure.Figure at 0x1109dbda0>"
      ]
     },
     "metadata": {},
     "output_type": "display_data"
    }
   ],
   "source": [
    "\n",
    "# Bar chart uses matplotlib's pyplot module \n",
    "import matplotlib.pyplot as plt\n",
    "%matplotlib inline\n",
    "# %matplotlib inline means 'show the plot in the notebook'\n",
    "\n",
    "x = [1, 2, 3, 4]            # x-axis (across)\n",
    "students = [31, 15, 11, 29]  # y-axis (up)\n",
    "# names not number for x-axis\n",
    "x_names = ['Fresh', 'Soph', 'Junior', 'Senior']\n",
    "# Add the names to the bar chart's x axis\n",
    "plt.xticks(x, x_names)\n",
    "# Create a bar chart\n",
    "plt.bar(x, students, align='center')\n",
    "# Show the bar chart\n",
    "plt.show()"
   ]
  },
  {
   "cell_type": "markdown",
   "metadata": {},
   "source": [
    "### Bar chart - x and y labels, title added"
   ]
  },
  {
   "cell_type": "code",
   "execution_count": 24,
   "metadata": {
    "collapsed": false
   },
   "outputs": [
    {
     "data": {
      "image/png": "[encoded data removed]",
      "text/plain": [
       "<matplotlib.figure.Figure at 0x110938908>"
      ]
     },
     "metadata": {},
     "output_type": "display_data"
    }
   ],
   "source": [
    "# Bar chart uses matplotlib's pyplot module \n",
    "import matplotlib.pyplot as plt\n",
    "%matplotlib inline\n",
    "# %matplotlib inline means 'show the plot in the notebook'\n",
    "\n",
    "x = [1, 2, 3, 4]            # x-axis (across)\n",
    "students = [31, 15, 11, 29]  # y-axis (up)\n",
    "\n",
    "# names not numbers for x-axis\n",
    "x_names = ['Fresh', 'Soph', 'Junior', 'Senior']\n",
    "\n",
    "# Add the labels to the bar chart\n",
    "plt.xticks(x, x_names)\n",
    "\n",
    "# ------ Added ---------------------------------\n",
    "# Label the axes\n",
    "plt.xlabel('Class')\n",
    "plt.ylabel('Number of Students')\n",
    "\n",
    "# Add title\n",
    "plt.title(\"Student numbers by year in school\")\n",
    "# ----------------------------------------------\n",
    "\n",
    "# Create a bar chart\n",
    "plt.bar(x, students, align='center')\n",
    "\n",
    "# Show the bar chart\n",
    "plt.show()"
   ]
  },
  {
   "cell_type": "markdown",
   "metadata": {},
   "source": [
    "### Bar chart shows a grid"
   ]
  },
  {
   "cell_type": "code",
   "execution_count": 25,
   "metadata": {
    "collapsed": false,
    "scrolled": true
   },
   "outputs": [
    {
     "data": {
      "image/png": "[encoded data removed]",
      "text/plain": [
       "<matplotlib.figure.Figure at 0x110841048>"
      ]
     },
     "metadata": {},
     "output_type": "display_data"
    }
   ],
   "source": [
    "# Bar chart uses matplotlib's pyplot module \n",
    "import matplotlib.pyplot as plt\n",
    "%matplotlib inline\n",
    "# %matplotlib inline means 'show the plot in the notebook'\n",
    "\n",
    "x = [1, 2, 3, 4]            # x-axis (across)\n",
    "students = [31, 15, 11, 29]  # y-axis (up)\n",
    "\n",
    "# names not numbers for x-axis\n",
    "x_names = ['Fresh', 'Soph', 'Junior', 'Senior']\n",
    "\n",
    "# Add the x_names to the bar chart\n",
    "plt.xticks(x, x_names)\n",
    "\n",
    "# Label the axes\n",
    "plt.xlabel('Class')\n",
    "plt.ylabel('Number of Students')\n",
    "\n",
    "# Add title\n",
    "plt.title(\"Student numbers by year in school\")\n",
    "\n",
    "# --------- Added ---------------------------------------\n",
    "# Add a grid\n",
    "plt.grid(True)  # True is a Python constant, so is False\n",
    "# -------------------------------------------------------\n",
    "\n",
    "# Create a bar chart\n",
    "plt.bar(x, students, align='center')\n",
    "\n",
    "plt.show()\n"
   ]
  },
  {
   "cell_type": "markdown",
   "metadata": {},
   "source": [
    "# Define a new function\n",
    "### compute_sales_tax version 0\n",
    "\n"
   ]
  },
  {
   "cell_type": "code",
   "execution_count": 5,
   "metadata": {
    "collapsed": false
   },
   "outputs": [
    {
     "name": "stdout",
     "output_type": "stream",
     "text": [
      "Total price of purchased items: 77.65\n",
      "Price       77.65\n",
      "Sales  tax  3.1060000000000003\n",
      "Please pay  80.756\n"
     ]
    }
   ],
   "source": [
    "# Your state uses a 4% sales tax\n",
    "\n",
    "def compute_sales_tax(amount):\n",
    "    tax_rate = 0.04   # 4% sales tax\n",
    "    tax = amount * tax_rate    \n",
    "    return tax  # exit function, sending tax as the value\n",
    "#\n",
    "\n",
    "total_price_string = input(\"Total price of purchased items: \")\n",
    "total_price = float(total_price_string)\n",
    "\n",
    "sales_tax = compute_sales_tax(total_price)\n",
    "total_due = total_price + sales_tax\n",
    "\n",
    "print(\"Price      \", total_price)\n",
    "print(\"Sales  tax \", sales_tax)\n",
    "print(\"Please pay \", total_due)"
   ]
  },
  {
   "cell_type": "markdown",
   "metadata": {},
   "source": [
    "### Note private variables known only within function\n"
   ]
  },
  {
   "cell_type": "code",
   "execution_count": 6,
   "metadata": {
    "collapsed": false
   },
   "outputs": [
    {
     "name": "stdout",
     "output_type": "stream",
     "text": [
      "Total price of purchased items: 7\n"
     ]
    },
    {
     "ename": "NameError",
     "evalue": "name 'tax_rate' is not defined",
     "output_type": "error",
     "traceback": [
      "\u001b[0;31m---------------------------------------------------------------------------\u001b[0m",
      "\u001b[0;31mNameError\u001b[0m                                 Traceback (most recent call last)",
      "\u001b[0;32m<ipython-input-6-dbb5f1594eb7>\u001b[0m in \u001b[0;36m<module>\u001b[0;34m()\u001b[0m\n\u001b[1;32m     20\u001b[0m \u001b[0;31m# variables from a function\u001b[0m\u001b[0;34m\u001b[0m\u001b[0;34m\u001b[0m\u001b[0m\n\u001b[1;32m     21\u001b[0m \u001b[0;31m# ---------------------------------------\u001b[0m\u001b[0;34m\u001b[0m\u001b[0;34m\u001b[0m\u001b[0m\n\u001b[0;32m---> 22\u001b[0;31m \u001b[0mprint\u001b[0m\u001b[0;34m(\u001b[0m\u001b[0mtax_rate\u001b[0m\u001b[0;34m)\u001b[0m \u001b[0;31m# NO NO NO\u001b[0m\u001b[0;34m\u001b[0m\u001b[0m\n\u001b[0m",
      "\u001b[0;31mNameError\u001b[0m: name 'tax_rate' is not defined"
     ]
    }
   ],
   "source": [
    "def compute_sales_tax(amount):\n",
    "    \n",
    "    # Private variables - have a value only within function\n",
    "    # 1 -  amount     copy of the value passed by the caller\n",
    "    # 2 -  tax_rate\n",
    "    # 3 -  tax\n",
    "    \n",
    "    tax_rate = 0.04   # 4% sales tax\n",
    "    tax = amount * tax_rate    \n",
    "    return tax\n",
    "#\n",
    "total_price_string = input(\"Total price of purchased items: \")\n",
    "total_price = float(total_price_string)\n",
    "\n",
    "sales_tax = compute_sales_tax(total_price)\n",
    "total_due = total_price + sales_tax\n",
    "\n",
    "# ---------------------------------------\n",
    "# This fails - you cannot access private\n",
    "# variables from a function\n",
    "# ---------------------------------------\n",
    "print(tax_rate) # NO NO NO\n"
   ]
  },
  {
   "cell_type": "markdown",
   "metadata": {},
   "source": [
    "### return rounded tax value"
   ]
  },
  {
   "cell_type": "code",
   "execution_count": 5,
   "metadata": {
    "collapsed": false
   },
   "outputs": [
    {
     "name": "stdout",
     "output_type": "stream",
     "text": [
      "Total price of purchased items: 10\n",
      "Price       10.0\n",
      "Sales  tax  0.4\n",
      "Please pay  10.4\n"
     ]
    }
   ],
   "source": [
    "# Your state uses a 4% sales tax\n",
    "def compute_sales_tax(amount):\n",
    "    tax_rate = 0.04   # 4% sales tax\n",
    "    tax = amount * tax_rate\n",
    "    \n",
    "    # Round the tax amount to 2 decimals\n",
    "    rounded_tax = round(tax, 2)\n",
    "    # Send rounded tax to caller\n",
    "    return rounded_tax\n",
    "#\n",
    "total_price_string = input(\"Total price of purchased items: \")\n",
    "total_price = float(total_price_string)\n",
    "sales_tax = compute_sales_tax(total_price)\n",
    "total_due = total_price + sales_tax\n",
    "\n",
    "print(\"Price      \", total_price)\n",
    "print(\"Sales  tax \", sales_tax)\n",
    "print(\"Please pay \", total_due)"
   ]
  },
  {
   "cell_type": "markdown",
   "metadata": {},
   "source": [
    "### Sales tax v2 - give function the tax rate\n"
   ]
  },
  {
   "cell_type": "code",
   "execution_count": 4,
   "metadata": {
    "collapsed": false
   },
   "outputs": [
    {
     "name": "stdout",
     "output_type": "stream",
     "text": [
      "Total price of purchased items: 10\n",
      "Price       10.0\n",
      "Sales  tax  0.4\n",
      "Please pay  10.4\n"
     ]
    }
   ],
   "source": [
    "# Your state may change the sales tax rate\n",
    "\n",
    "def compute_sales_tax(amount, rate):\n",
    "    # rate of 4 means 4%\n",
    "    tax_rate = rate / 100.0\n",
    "    tax = amount * tax_rate\n",
    "    \n",
    "    # Round the tax amount to 2 decimals\n",
    "    rounded_tax = round(tax, 2)\n",
    "    # Send rounded tax to caller\n",
    "    return rounded_tax\n",
    "#\n",
    "total_price_string = input(\"Total price of purchased items: \")\n",
    "total_price = float(total_price_string)\n",
    "sales_tax_percent = 4.0\n",
    "sales_tax = compute_sales_tax(total_price, sales_tax_percent)\n",
    "#                             -----------  *****************\n",
    "total_due = round(total_price + sales_tax, 2)\n",
    "\n",
    "print(\"Price      \", total_price)\n",
    "print(\"Sales  tax \", sales_tax)\n",
    "print(\"Please pay \", total_due)"
   ]
  },
  {
   "cell_type": "code",
   "execution_count": null,
   "metadata": {
    "collapsed": true
   },
   "outputs": [],
   "source": []
  }
 ],
 "metadata": {
  "anaconda-cloud": {},
  "kernelspec": {
   "display_name": "Python [conda root]",
   "language": "python",
   "name": "conda-root-py"
  },
  "language_info": {
   "codemirror_mode": {
    "name": "ipython",
    "version": 3
   },
   "file_extension": ".py",
   "mimetype": "text/x-python",
   "name": "python",
   "nbconvert_exporter": "python",
   "pygments_lexer": "ipython3",
   "version": "3.5.2"
  }
 },
 "nbformat": 4,
 "nbformat_minor": 1
}
