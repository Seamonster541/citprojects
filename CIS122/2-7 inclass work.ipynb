{
 "cells": [
  {
   "cell_type": "markdown",
   "metadata": {},
   "source": [
    "# Empty list of railroads"
   ]
  },
  {
   "cell_type": "code",
   "execution_count": 3,
   "metadata": {
    "collapsed": false
   },
   "outputs": [
    {
     "name": "stdout",
     "output_type": "stream",
     "text": [
      "Name of railroad or \"Quit\" to stop juk\n",
      "Name of railroad or \"Quit\" to stop tuk\n",
      "Name of railroad or \"Quit\" to stop mok\n",
      "Name of railroad or \"Quit\" to stop huk\n",
      "Name of railroad or \"Quit\" to stop Quit\n",
      "4 railroads in our list.\n",
      "['juk', 'tuk', 'mok', 'huk']\n"
     ]
    }
   ],
   "source": [
    "railroads = []\n",
    "\n",
    "# Get some data, append it to railroads list\n",
    "\n",
    "rr = input('Name of railroad or \"Quit\" to stop ')\n",
    "while rr != 'Quit':\n",
    "    railroads.append(rr) # Add rr to railroad list\n",
    "    rr = input('Name of railroad or \"Quit\" to stop ')\n",
    "    \n",
    "# How many railraods ?\n",
    "number_of_railroads = len(railroads)\n",
    "print(number_of_railroads, 'railroads in our list.')\n",
    "\n",
    "print(railroads)"
   ]
  },
  {
   "cell_type": "markdown",
   "metadata": {},
   "source": [
    "# Iterate - process each item in a list"
   ]
  },
  {
   "cell_type": "code",
   "execution_count": 4,
   "metadata": {
    "collapsed": true
   },
   "outputs": [],
   "source": [
    "# What python statements are legal in the body of a loop?"
   ]
  },
  {
   "cell_type": "code",
   "execution_count": null,
   "metadata": {
    "collapsed": true
   },
   "outputs": [],
   "source": []
  },
  {
   "cell_type": "markdown",
   "metadata": {},
   "source": [
    "# Modify the contents of a list"
   ]
  },
  {
   "cell_type": "code",
   "execution_count": 13,
   "metadata": {
    "collapsed": false
   },
   "outputs": [
    {
     "name": "stdout",
     "output_type": "stream",
     "text": [
      "Corrected item to 2.5\n",
      "Corrected item to 3.6\n",
      "1.0\n",
      "2.5\n",
      "0.0\n",
      "0.0\n",
      "0.4\n",
      "3.6\n",
      "9.5\n"
     ]
    }
   ],
   "source": [
    "#                  0   1    2    3    4    5     6\n",
    "rainfall_list = [1.0, 12.5, 0.0, 0.0, 0.4, 13.6, 0.5]\n",
    "\n",
    "number_of_items = len(rainfall_list)\n",
    "for index in range(0, number_of_items):\n",
    "    if rainfall_list[index] >= 10.0:\n",
    "        rainfall_list[index] = round(rainfall_list[index] - 10.0, 1)\n",
    "        print(\"Corrected item to\", rainfall_list[index])\n",
    "    #\n",
    "#\n",
    "for rain in rainfall:\n",
    "    print(rain)\n",
    "    "
   ]
  },
  {
   "cell_type": "markdown",
   "metadata": {},
   "source": [
    "# Filter data"
   ]
  },
  {
   "cell_type": "code",
   "execution_count": 7,
   "metadata": {
    "collapsed": false
   },
   "outputs": [
    {
     "name": "stdout",
     "output_type": "stream",
     "text": [
      "[]\n",
      "16.6 Total rain on wet days\n",
      "4.15 Average rain on rainy days\n"
     ]
    }
   ],
   "source": [
    "rainfall = [1.0, 2.5, 0.0, 0.0, 0.4, 3.6, 9.5]\n",
    "\n",
    "# Let's get wet days 1.0 inches or more\n",
    "\n",
    "wet_days_list = [ ]\n",
    "for rain in rainfall:\n",
    "    if rain >= 1.0:\n",
    "        wet_days_list.append(rain)\n",
    "    #   list        add to (value to add)\n",
    "#\n",
    "print(wet_days)\n",
    "total_wet_days_rain = sum(wet_days_list)\n",
    "print(total_wet_days_rain, 'Total rain on wet days')\n",
    "average_rain = total_wet_days_rain / len(wet_days_list)\n",
    "print(average_rain, 'Average rain on rainy days')"
   ]
  },
  {
   "cell_type": "markdown",
   "metadata": {},
   "source": [
    "# Define a function"
   ]
  },
  {
   "cell_type": "code",
   "execution_count": 18,
   "metadata": {
    "collapsed": false
   },
   "outputs": [
    {
     "name": "stdout",
     "output_type": "stream",
     "text": [
      "3560 Bolivars bought $ 3.56\n"
     ]
    }
   ],
   "source": [
    "def bolivars_to_dollars(bolivars):\n",
    "    ''' Black marke conversion of Venezuelan \n",
    "        bolivar currency to us dollars\n",
    "        float number in -> float number returned to caller\n",
    "    '''\n",
    "    rate = 1000 # black-market rate\n",
    "    dollars = round(bolivars / rate, 2)\n",
    "    return dollars\n",
    "\n",
    "number_of_bolivars = 3560\n",
    "us_dollars = bolivars_to_dollars(number_of_bolivars)\n",
    "print(number_of_bolivars, \"Bolivars bought $\", us_dollars)"
   ]
  },
  {
   "cell_type": "code",
   "execution_count": 19,
   "metadata": {
    "collapsed": false
   },
   "outputs": [
    {
     "name": "stdout",
     "output_type": "stream",
     "text": [
      "Help on function bolivars_to_dollars in module __main__:\n",
      "\n",
      "bolivars_to_dollars(bolivars)\n",
      "    Black marke conversion of Venezuelan \n",
      "    bolivar currency to us dollars\n",
      "    float number in -> float number returned to caller\n",
      "\n"
     ]
    }
   ],
   "source": [
    "help(bolivars_to_dollars)"
   ]
  },
  {
   "cell_type": "code",
   "execution_count": null,
   "metadata": {
    "collapsed": true
   },
   "outputs": [],
   "source": []
  }
 ],
 "metadata": {
  "kernelspec": {
   "display_name": "Python [conda root]",
   "language": "python",
   "name": "conda-root-py"
  },
  "language_info": {
   "codemirror_mode": {
    "name": "ipython",
    "version": 3
   },
   "file_extension": ".py",
   "mimetype": "text/x-python",
   "name": "python",
   "nbconvert_exporter": "python",
   "pygments_lexer": "ipython3",
   "version": "3.5.2"
  }
 },
 "nbformat": 4,
 "nbformat_minor": 1
}
