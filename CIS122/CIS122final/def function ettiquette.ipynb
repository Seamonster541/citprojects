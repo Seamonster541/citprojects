{
 "cells": [
  {
   "cell_type": "markdown",
   "metadata": {},
   "source": [
    "# Define a function - \n",
    "## Best Practice / Stuff to Avoid"
   ]
  },
  {
   "cell_type": "markdown",
   "metadata": {},
   "source": [
    "# <span style='color:blue'>Good</span>\n",
    "\n",
    "## General hint:\n",
    "### Keep it simple:\n",
    "### Do one task only"
   ]
  },
  {
   "cell_type": "code",
   "execution_count": 3,
   "metadata": {
    "collapsed": false
   },
   "outputs": [
    {
     "name": "stdout",
     "output_type": "stream",
     "text": [
      "Number: 25 Square root: 5.0\n",
      "Value: 121 Square root: 11.0\n"
     ]
    }
   ],
   "source": [
    "def square_root(x):\n",
    "    ''' Given number x >= 0, \n",
    "        returns its square_root\n",
    "    '''\n",
    "    sq_root = x ** 0.5\n",
    "    return sq_root\n",
    "\n",
    "# Check\n",
    "number = 25\n",
    "root = square_root(number)\n",
    "print('Number:', number, 'Square root:', root)\n",
    "\n",
    "value = 121\n",
    "sq_value = square_root(value)\n",
    "print('Value:', value, 'Square root:', sq_value)\n",
    "\n",
    "    "
   ]
  },
  {
   "cell_type": "markdown",
   "metadata": {
    "collapsed": true
   },
   "source": [
    "### Bad"
   ]
  },
  {
   "cell_type": "code",
   "execution_count": 25,
   "metadata": {
    "collapsed": false,
    "scrolled": true
   },
   "outputs": [
    {
     "name": "stdout",
     "output_type": "stream",
     "text": [
      "Number: 25 Square root: 5.0\n",
      "Value: 121 Square root: 5.0\n",
      "\n",
      "*** Are both answer right?**\n"
     ]
    }
   ],
   "source": [
    "def square_root(x):\n",
    "    ''' Given number x >= 0, \n",
    "        returns its square_root\n",
    "    '''\n",
    "    sq_root = number ** 0.5\n",
    "    return sq_root\n",
    "\n",
    "# Check\n",
    "\n",
    "# This works  ... but square_root ignores x and works \n",
    "# with main program's variable number (error-prone)\n",
    "number = 25\n",
    "root = square_root(number)\n",
    "print('Number:', number, 'Square root:', root)\n",
    "\n",
    "# ==========  Oops ===============================\n",
    "# This does not work at all; we asked square_root\n",
    "# to find the square root of 121 but it just \n",
    "# ignored 121 and used number (still 25)\n",
    "\n",
    "value = 121\n",
    "sq_value = square_root(value)\n",
    "print('Value:', value, 'Square root:', sq_value)\n",
    "print()\n",
    "print('*** Are both answer right?**')"
   ]
  },
  {
   "cell_type": "markdown",
   "metadata": {},
   "source": [
    "## Bad, maybe worse"
   ]
  },
  {
   "cell_type": "code",
   "execution_count": 5,
   "metadata": {
    "collapsed": false,
    "scrolled": true
   },
   "outputs": [
    {
     "name": "stdout",
     "output_type": "stream",
     "text": [
      "Number: 25 Square root: 5.0\n",
      "Value: 121 Square root: 11.0\n"
     ]
    }
   ],
   "source": [
    "def square_root(x):\n",
    "    ''' Given number x >= 0, \n",
    "        returns its square_root\n",
    "    '''\n",
    "    sq_root = number ** 0.5\n",
    "    #         ******\n",
    "    return sq_root\n",
    "\n",
    "# Check\n",
    "\n",
    "# This works OK ... square_root ignores x and works \n",
    "# with number (a dangerous practice)\n",
    "number = 25\n",
    "root = square_root(number)\n",
    "print('Number:', number, 'Square root:', root)\n",
    "\n",
    "# ==========  Oops ===============================\n",
    "# So, every time we need the square root of another\n",
    "# variable, just define yet another definition \n",
    "# of square root!  Ugly and not all workable if you\n",
    "# need a number of different square roots\n",
    "\n",
    "def square_root(x):\n",
    "    ''' Given number x >= 0, \n",
    "        returns its square_root\n",
    "    '''\n",
    "    sq_root = value ** 0.5\n",
    "    #         *****\n",
    "    return sq_root\n",
    "\n",
    "value = 121\n",
    "sq_value = square_root(value)\n",
    "print('Value:', value, 'Square root:', sq_value)\n",
    "\n",
    "y = 1456 \n",
    "# Suppose I want square root of y - do I need yet another function??\n"
   ]
  },
  {
   "cell_type": "markdown",
   "metadata": {},
   "source": [
    "# <span style='color:blue'>Good</span>\n",
    "### Function works with income provided by caller,\n",
    "### returns amount of tax due"
   ]
  },
  {
   "cell_type": "code",
   "execution_count": 8,
   "metadata": {
    "collapsed": false
   },
   "outputs": [
    {
     "name": "stdout",
     "output_type": "stream",
     "text": [
      "Total income: 56700\n",
      "Total donation to charity: 1234.56\n",
      "\n",
      "State of California - Income tax\n",
      "Net income:  55465.44\n",
      "Income tax:  5546.54\n"
     ]
    }
   ],
   "source": [
    "def tax_due(income):\n",
    "    '''Given income, returns tax due\n",
    "       on that income\n",
    "    '''\n",
    "    rate = 0.10\n",
    "    tax = round(income * rate, 2)\n",
    "    return tax\n",
    "\n",
    "# SIMPLE_TAX tax preparation program\n",
    "\n",
    "# Get data for income tax\n",
    "gross_income = float(input(\"Total income: \"))\n",
    "deductions = float(input('Total donation to charity: '))\n",
    "net_income = gross_income - deductions\n",
    "\n",
    "# print heading\n",
    "print()\n",
    "print(\"State of California - Income tax\")\n",
    "\n",
    "# Calculate tax due on net_income\n",
    "tax_owed = tax_due(net_income)\n",
    "print(\"Net income: \", net_income)\n",
    "print(\"Income tax: \", tax_owed)\n"
   ]
  },
  {
   "cell_type": "markdown",
   "metadata": {},
   "source": [
    "# Bad\n",
    "### function ignores income given it by caller,\n",
    "### asks for income again"
   ]
  },
  {
   "cell_type": "code",
   "execution_count": 10,
   "metadata": {
    "collapsed": false
   },
   "outputs": [
    {
     "name": "stdout",
     "output_type": "stream",
     "text": [
      "Total income: 56700\n",
      "Total donation to charity: 1000\n",
      "State of California - Income tax\n",
      "What is your income? 22333\n",
      "Net income:  55700.0\n",
      "Income tax:  2233.3\n"
     ]
    }
   ],
   "source": [
    "def tax_due(income):\n",
    "    '''Given income, returns tax due\n",
    "       on that income\n",
    "    '''\n",
    "    # BAD This ignores the income between ( )   \n",
    "    income = float(input(\"What is your income? \"))\n",
    "    \n",
    "    rate = 0.10\n",
    "    tax = round(income * rate,2)\n",
    "    return tax\n",
    "\n",
    "# SIMPLE_TAX tax preparation program\n",
    "\n",
    "# Get data for income tax\n",
    "gross_income = float(input(\"Total income: \"))\n",
    "deductions = float(input('Total donation to charity: '))\n",
    "net_income = gross_income - deductions\n",
    "\n",
    "# print heading\n",
    "print()\n",
    "print(\"State of California - Income tax\")\n",
    "\n",
    "# Calculate tax due on net_income\n",
    "tax_owed = tax_due(net_income)\n",
    "print(\"Net income: \", net_income)\n",
    "print(\"Income tax: \", tax_owed)"
   ]
  },
  {
   "cell_type": "markdown",
   "metadata": {},
   "source": [
    "# BAD\n",
    "## Computes tax correctly, then prints\n",
    "## but does NOT return a value to caller"
   ]
  },
  {
   "cell_type": "code",
   "execution_count": 13,
   "metadata": {
    "collapsed": false,
    "scrolled": true
   },
   "outputs": [
    {
     "name": "stdout",
     "output_type": "stream",
     "text": [
      "Total income: 56000\n",
      "Total donation to charity: 4000\n",
      "\n",
      "State of California - Income tax\n",
      "Pay $ 5200.0 or risk jail time!\n",
      "Net income:  52000.0\n",
      "Income tax:  None\n"
     ]
    }
   ],
   "source": [
    "def tax_due(income):\n",
    "    '''Given income, returns tax due\n",
    "       on that income\n",
    "    '''\n",
    "    rate = 0.10\n",
    "    tax = round(income * rate, 2)\n",
    "    #\n",
    "    # Need to return tax, not print it!\n",
    "    #\n",
    "    print(\"Pay $\", tax, \"or risk jail time!\")  # Bad bad bad\n",
    "    \n",
    "\n",
    "# SIMPLE_TAX tax preparation program\n",
    "\n",
    "# Get data for income tax\n",
    "gross_income = float(input(\"Total income: \"))\n",
    "deductions = float(input('Total donation to charity: '))\n",
    "net_income = gross_income - deductions\n",
    "\n",
    "# print heading\n",
    "print()\n",
    "print(\"State of California - Income tax\")\n",
    "\n",
    "# Calculate tax due on net_income\n",
    "# No return statement in function means 'return None'\n",
    "tax_owed = tax_due(net_income)\n",
    "\n",
    "print(\"Net income: \", net_income)\n",
    "print(\"Income tax: \", tax_owed)\n"
   ]
  },
  {
   "cell_type": "markdown",
   "metadata": {},
   "source": [
    "# <span style='color:blue'>Good</span>\n",
    "### Functions can <span style='color:blue'>create variables</span> such as x = 7\n",
    "### without messing up variables with same name\n",
    "### in your main program"
   ]
  },
  {
   "cell_type": "code",
   "execution_count": 14,
   "metadata": {
    "collapsed": false
   },
   "outputs": [
    {
     "name": "stdout",
     "output_type": "stream",
     "text": [
      "Purchase price 50.0 Data 6.7895\n",
      "Did calculate_tax function mess up data?\n",
      "Purchase price 50.0 Data 6.7895 Sales tax 5.0\n"
     ]
    }
   ],
   "source": [
    "def calculate_tax(value):\n",
    "    ''' Calculate a 10% sales tax'''\n",
    "    # Assigning a value to data creates a **private variable**\n",
    "    # within the function\n",
    "    \n",
    "    # (Think of it as if it were really \"calculate_tax.data\")\n",
    "    data = value * 0.10\n",
    "    return data\n",
    "\n",
    "data = 6.7895 # Result of major calculations; very important\n",
    "\n",
    "purchase = 50.00\n",
    "print(\"Purchase price\", purchase, \"Data\", data)\n",
    "\n",
    "sales_tax = calculate_tax(purchase)\n",
    "print(\"Did calculate_tax function mess up data?\")\n",
    "print(\"Purchase price\", purchase, \"Data\", data, \"Sales tax\", sales_tax)\n",
    "\n",
    "# The function changed its own \"data\" variable; it had\n",
    "# no effect on the main program's \"data\" variable."
   ]
  },
  {
   "cell_type": "markdown",
   "metadata": {},
   "source": [
    "# <span style='color:blue'>Good (optional)</span>\n",
    "\n",
    "### Functions can return several values"
   ]
  },
  {
   "cell_type": "code",
   "execution_count": 22,
   "metadata": {
    "collapsed": false
   },
   "outputs": [
    {
     "name": "stdout",
     "output_type": "stream",
     "text": [
      "Type your income: 23555\n",
      "\n",
      "Income:   23555.0   tax rate: 12 %\n",
      "Tax due:  2826.6\n"
     ]
    }
   ],
   "source": [
    "def income_tax(taxable_income):\n",
    "    '''Given taxable income, finds rate,\n",
    "       computes ammount due; \n",
    "       returns rate (such as 7.0 for 7%)\n",
    "       and tax_due (such as 4300.00)\n",
    "       \n",
    "    '''\n",
    "    if taxable_income <= 20000:\n",
    "        rate = 2\n",
    "    elif taxable_income <= 87000:\n",
    "        rate = 12\n",
    "    elif taxable_income <= 250000:\n",
    "        rate = 20\n",
    "    else:\n",
    "        rate = 25\n",
    "    #\n",
    "    tax_due = round(taxable_income * rate /100, 2)\n",
    "    return rate, tax_due\n",
    "\n",
    "prompt = \"Type your income: \"\n",
    "typing = input(prompt)\n",
    "income = float(typing)\n",
    "\n",
    "tax_rate, tax = income_tax(income)\n",
    "print()\n",
    "print(\"Income:  \", income, '  tax rate:', tax_rate, \"%\")\n",
    "print(\"Tax due: \", tax)"
   ]
  }
 ],
 "metadata": {
  "kernelspec": {
   "display_name": "Python [conda root]",
   "language": "python",
   "name": "conda-root-py"
  },
  "language_info": {
   "codemirror_mode": {
    "name": "ipython",
    "version": 3
   },
   "file_extension": ".py",
   "mimetype": "text/x-python",
   "name": "python",
   "nbconvert_exporter": "python",
   "pygments_lexer": "ipython3",
   "version": "3.5.2"
  }
 },
 "nbformat": 4,
 "nbformat_minor": 2
}
