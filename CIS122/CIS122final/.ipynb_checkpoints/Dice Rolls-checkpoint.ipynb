{
 "cells": [
  {
   "cell_type": "code",
   "execution_count": null,
   "metadata": {
    "collapsed": true
   },
   "outputs": [],
   "source": []
  },
  {
   "cell_type": "code",
   "execution_count": null,
   "metadata": {
    "collapsed": true
   },
   "outputs": [],
   "source": [
    "# Dice rolls\n",
    "\n",
    "# Part 1) How to think about finding longest run of 6's\n",
    "\n",
    "# Part 2) Testing part 2's ideas\n",
    "\n",
    "# Part 3) Create a list of random dice rolls\n",
    "\n",
    "# Part 4) Putting random dice rolls to work \n",
    "#         with code to find longest runs of 6's\n"
   ]
  },
  {
   "cell_type": "markdown",
   "metadata": {
    "collapsed": true
   },
   "source": [
    "# Counting runs of 6's\n",
    "\n",
    "### ---------------------------------------\n",
    "## We need to know the longest_run ever\n",
    "## and the length of the current_run\n",
    " \n",
    "## We could create 2 variables\n",
    "``` \n",
    "longest_run = 0\n",
    "current_run = 0\n",
    "```\n",
    "\n",
    "## Let's try slightly more exciting names\n",
    "###   <span style='color:red'>best = 0</span>\n",
    "###   <span style='color:blue'>now = 0</span>\n",
    "### ----------------------------------------\n",
    "\n"
   ]
  },
  {
   "cell_type": "markdown",
   "metadata": {},
   "source": [
    "We will try some partial solutions, gradually improving things\n",
    "\n",
    "First, we will create a phony list of dice rolls so we can\n",
    "check out our program to see if can handle two runs.\n",
    "\n",
    "We also use lots of print statements to watch our program\n",
    "-- you also might want to use pythontutor.com."
   ]
  },
  {
   "cell_type": "code",
   "execution_count": 28,
   "metadata": {
    "collapsed": false
   },
   "outputs": [
    {
     "name": "stdout",
     "output_type": "stream",
     "text": [
      "Looking at dice roll 6\n",
      "Got a 6, add 1 to now\n",
      "\n",
      "Looking at dice roll 3\n",
      "Need to check best with 1\n",
      "Then zero out now\n",
      "\n",
      "Looking at dice roll 3\n",
      "Need to check best with 1\n",
      "Then zero out now\n",
      "\n",
      "Looking at dice roll 6\n",
      "Got a 6, add 1 to now\n",
      "\n",
      "Looking at dice roll 6\n",
      "Got a 6, add 1 to now\n",
      "\n",
      "Looking at dice roll 3\n",
      "Need to check best with 3\n",
      "Then zero out now\n",
      "\n",
      "Looking at dice roll 3\n",
      "Need to check best with 3\n",
      "Then zero out now\n",
      "\n",
      "Looking at dice roll 4\n",
      "Need to check best with 3\n",
      "Then zero out now\n",
      "\n",
      "Looking at dice roll 3\n",
      "Need to check best with 3\n",
      "Then zero out now\n",
      "\n",
      "Looking at dice roll 3\n",
      "Need to check best with 3\n",
      "Then zero out now\n",
      "\n",
      "Do anything at end of loop?\n",
      "Best run length 0\n"
     ]
    }
   ],
   "source": [
    "# For testing, easier to start with a specific list\n",
    "#                        *****\n",
    "\n",
    "# Goal: Find longest run of 6's in a row\n",
    "#       Answer for this case:  2\n",
    "\n",
    "dice_rolls = [6, 3, 3, 6, 6, 3, 3, 4, 3, 3]\n",
    "#             #        ####  (a \"run\" of length 2)\n",
    "\n",
    "best = 0     # longest run found\n",
    "now = 0      # length of current run\n",
    "\n",
    "# Iterate through our dice rolls list\n",
    "for dice in dice_rolls:\n",
    "    # What to do when we get a 6?\n",
    "    #   Add 1 to now\n",
    "    \n",
    "    # Option 1\n",
    "    #    Check now against best\n",
    "     \n",
    "    # Option 2\n",
    "    #    Wait until end of run to check now\n",
    "    #    against best\n",
    "    \n",
    "    # Let's try the 2nd option\n",
    "    \n",
    "    print(\"Looking at dice roll\", dice)\n",
    "    if dice == 6:\n",
    "        print(\"Got a 6, add 1 to now\")\n",
    "        new_now = now + 1   # or   now += 1\n",
    "        now = new_now\n",
    "        print()\n",
    "    elif now > 0: # end of a run (it's not a 6 and now is > 0)\n",
    "        # may need to update best\n",
    "        print(\"Need to check best with\", now)\n",
    "        print(\"Then zero out now\")\n",
    "        print()\n",
    "    else:\n",
    "        print (\"Nothing much to do\")\n",
    "        print()\n",
    "# Note : we have not implemented all we need to\n",
    "\n",
    "# Anything special at end of for loop?\n",
    "print(\"Do anything at end of loop?\")\n",
    "print(\"Best run length\", best)\n",
    "# What happens if longest run is at end of list?"
   ]
  },
  {
   "cell_type": "markdown",
   "metadata": {
    "collapsed": true
   },
   "source": [
    "### Let's write some more code to improve things"
   ]
  },
  {
   "cell_type": "code",
   "execution_count": 29,
   "metadata": {
    "collapsed": false
   },
   "outputs": [
    {
     "name": "stdout",
     "output_type": "stream",
     "text": [
      "Looking at dice roll 6\n",
      "Got a 6, add 1 to now\n",
      "\n",
      "Looking at dice roll 3\n",
      "New best: 1\n",
      "Zero out now 0\n",
      "\n",
      "Looking at dice roll 3\n",
      "Nothing interesting, now is 0\n",
      "\n",
      "Looking at dice roll 6\n",
      "Got a 6, add 1 to now\n",
      "\n",
      "Looking at dice roll 6\n",
      "Got a 6, add 1 to now\n",
      "\n",
      "Looking at dice roll 3\n",
      "New best: 2\n",
      "Zero out now 0\n",
      "\n",
      "Looking at dice roll 3\n",
      "Nothing interesting, now is 0\n",
      "\n",
      "Looking at dice roll 4\n",
      "Nothing interesting, now is 0\n",
      "\n",
      "Looking at dice roll 3\n",
      "Nothing interesting, now is 0\n",
      "\n",
      "Looking at dice roll 3\n",
      "Nothing interesting, now is 0\n",
      "\n",
      "Anything to do at end of loop?\n",
      "Best run length 2\n"
     ]
    }
   ],
   "source": [
    "# Let's start implementing a bit more\n",
    "dice_rolls = [6, 3, 3, 6, 6, 3, 3, 4, 3, 3]\n",
    "\n",
    "best = 0     # longest run found\n",
    "now = 0      # length of current run\n",
    "\n",
    "# Iterate through our dice rolls list\n",
    "for dice in dice_rolls:\n",
    "    # What to do when we get a 6?\n",
    "    # Add 1 to now\n",
    "    # Wait until end of run to check now\n",
    "    # against best\n",
    "    print(\"Looking at dice roll\", dice)\n",
    "    if dice == 6:\n",
    "        print(\"Got a 6, add 1 to now\")\n",
    "        new_now = now + 1   # or   now += 1\n",
    "        now = new_now\n",
    "        print()\n",
    "    elif now > best: # end of a long run ?\n",
    "        # wil need to update best\n",
    "        best = now\n",
    "        print(\"New best:\", now)\n",
    "        now = 0  # Start new sequence \n",
    "        print(\"Zero out now\", now)\n",
    "        print()\n",
    "    else:  # not a 6, not better than best\n",
    "        now = 0   # just to make sure\n",
    "        print(\"Nothing interesting, now is\", now)\n",
    "        print()\n",
    "# Note : we have not implemented all we need to\n",
    "\n",
    "# Anything special at end of for loop?\n",
    "print(\"Anything to do at end of loop?\")\n",
    "# What happens if longest run is at end of list?\n",
    "print(\"Best run length\", best)"
   ]
  },
  {
   "cell_type": "code",
   "execution_count": 1,
   "metadata": {
    "collapsed": false,
    "scrolled": false
   },
   "outputs": [
    {
     "name": "stdout",
     "output_type": "stream",
     "text": [
      "Looking at dice roll 6\n",
      "Got a 6, add 1 to now\n",
      "Updated now 1\n",
      "\n",
      "Looking at dice roll 3\n",
      "New best: 1\n",
      "Zero out now 0\n",
      "\n",
      "Looking at dice roll 3\n",
      "Nothing interesting, now is 0\n",
      "\n",
      "Looking at dice roll 6\n",
      "Got a 6, add 1 to now\n",
      "Updated now 1\n",
      "\n",
      "Looking at dice roll 6\n",
      "Got a 6, add 1 to now\n",
      "Updated now 2\n",
      "\n",
      "Looking at dice roll 3\n",
      "New best: 2\n",
      "Zero out now 0\n",
      "\n",
      "Looking at dice roll 3\n",
      "Nothing interesting, now is 0\n",
      "\n",
      "Looking at dice roll 6\n",
      "Got a 6, add 1 to now\n",
      "Updated now 1\n",
      "\n",
      "Looking at dice roll 6\n",
      "Got a 6, add 1 to now\n",
      "Updated now 2\n",
      "\n",
      "Looking at dice roll 6\n",
      "Got a 6, add 1 to now\n",
      "Updated now 3\n",
      "\n",
      "Anything to do at end of loop?\n",
      "Best run length 3\n"
     ]
    }
   ],
   "source": [
    "# Let's start implementing a bit more\n",
    "dice_rolls = [6, 3, 3, 6, 6, 3, 3, 6, 6, 6]\n",
    "#        Long run now ends list   ******** \n",
    "\n",
    "best = 0    # longest run found\n",
    "now = 0     # length of current run\n",
    "\n",
    "# Iterate through our dice rolls list\n",
    "for dice in dice_rolls:\n",
    "    # What to do when we get a 6?\n",
    "    # Add 1 to now\n",
    "    # Wait until end of run to check now\n",
    "    # against best\n",
    "    print(\"Looking at dice roll\", dice)\n",
    "    if dice == 6:\n",
    "        print(\"Got a 6, add 1 to now\")\n",
    "        new_now = now + 1   # or   now += 1\n",
    "        now = new_now\n",
    "        print(\"Updated now\", now)\n",
    "        print()\n",
    "    elif now > best: # end of a long run ?\n",
    "        # wil need to update best\n",
    "        best = now\n",
    "        print(\"New best:\", now)\n",
    "        now = 0\n",
    "        print(\"Zero out now\", now)\n",
    "        print()\n",
    "    else:  # not a 6, not better than best\n",
    "        now = 0   # just to make sure\n",
    "        print(\"Nothing interesting, now is\", now)\n",
    "        print()\n",
    "# Note : we have not implemented all we need to\n",
    "\n",
    "# Anything special at end of for loop?\n",
    "print(\"Anything to do at end of loop?\")\n",
    "# What happens if longest run is at end of list?\n",
    "if now > best:\n",
    "    best = now\n",
    "#\n",
    "print(\"Best run length\", best)"
   ]
  },
  {
   "cell_type": "markdown",
   "metadata": {},
   "source": [
    "  ### Create random list of dice rolls"
   ]
  },
  {
   "cell_type": "code",
   "execution_count": 20,
   "metadata": {
    "collapsed": false
   },
   "outputs": [
    {
     "name": "stdout",
     "output_type": "stream",
     "text": [
      "[2, 5, 5, 1, 3, 3, 4, 1, 6, 5]\n"
     ]
    }
   ],
   "source": [
    "import random\n",
    "\n",
    "n = 10    # number of dice rolls to create\n",
    "\n",
    "dice_rolls = [ ]  # Start with empty list\n",
    "for count in range(n):\n",
    "    dice = random.randint(1,6) # Roll 1, 2, ..., 6\n",
    "    # append dice number to dice_rolls list\n",
    "    dice_rolls.append(dice)\n",
    "#\n",
    "\n",
    "# Check short lists with a print\n",
    "print(dice_rolls)\n",
    "    "
   ]
  },
  {
   "cell_type": "markdown",
   "metadata": {},
   "source": [
    "## Check long lists - this is the working version"
   ]
  },
  {
   "cell_type": "code",
   "execution_count": 1,
   "metadata": {
    "collapsed": false
   },
   "outputs": [
    {
     "name": "stdout",
     "output_type": "stream",
     "text": [
      "Best run length 4\n"
     ]
    }
   ],
   "source": [
    "import random\n",
    "\n",
    "n = 1000    # number of dice rolls\n",
    "\n",
    "# Create a list of dice rolls\n",
    "dice_rolls = [ ]  # Start with an empty list\n",
    "\n",
    "for count in range(n):\n",
    "    dice = random.randint(1,6) # Roll 1, 2, ..., 6\n",
    "    dice_rolls.append(dice)    \n",
    "\n",
    "# Check short lists with a print\n",
    "if n < 300:\n",
    "    print(dice_rolls)\n",
    "#    \n",
    "# Start looking for 'runs' of 6's  \n",
    "# Example: this contains a run of 2 6's:  [1, 2, 6, 6, 5] \n",
    "\n",
    "best = 0    # longest run found, so far\n",
    "now = 0     # length of current run\n",
    "\n",
    "# Iterate through our dice rolls list\n",
    "for dice in dice_rolls:\n",
    "    if dice == 6:\n",
    "        now = now + 1   # or   now += 1\n",
    "    elif now > best: # end of a long run ?\n",
    "        best = now\n",
    "        now = 0\n",
    "    else:  # not a 6, not better than best\n",
    "        now = 0   # just to make sure\n",
    "    #\n",
    "#\n",
    "if now > best:\n",
    "    best = now\n",
    "#\n",
    "print(\"Best run length\", best)"
   ]
  },
  {
   "cell_type": "code",
   "execution_count": null,
   "metadata": {
    "collapsed": true
   },
   "outputs": [],
   "source": []
  }
 ],
 "metadata": {
  "kernelspec": {
   "display_name": "Python [conda root]",
   "language": "python",
   "name": "conda-root-py"
  },
  "language_info": {
   "codemirror_mode": {
    "name": "ipython",
    "version": 3
   },
   "file_extension": ".py",
   "mimetype": "text/x-python",
   "name": "python",
   "nbconvert_exporter": "python",
   "pygments_lexer": "ipython3",
   "version": "3.5.2"
  }
 },
 "nbformat": 4,
 "nbformat_minor": 2
}
