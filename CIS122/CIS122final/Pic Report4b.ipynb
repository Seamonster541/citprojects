{
 "cells": [
  {
   "cell_type": "markdown",
   "metadata": {},
   "source": [
    "# Download pictures to your program folder:\n",
    "#### Chapman.jpg, Fenton.jpg, Peterson.jpg, Condon.jpg,\n",
    "#### Lillis.jpg, Willamette.jpg"
   ]
  },
  {
   "cell_type": "markdown",
   "metadata": {},
   "source": [
    "# 1)  Get data\n",
    "## Get a dictionary of some UO buildings\n",
    "#### Each value is a short list - year built, current use"
   ]
  },
  {
   "cell_type": "code",
   "execution_count": 2,
   "metadata": {
    "collapsed": false,
    "scrolled": true
   },
   "outputs": [
    {
     "name": "stdout",
     "output_type": "stream",
     "text": [
      "Chapman 1939 Honors College\n",
      "Condon 1925 Geography, Anthropolgy\n",
      "Deschutes 1990 Computer Science\n",
      "Fenton 1906 Mathematics\n",
      "Lillis 2003 Business College\n",
      "Peterson 1916 Business\n",
      "Willamette 1990 Physics - General, Materials Science, Theoretical\n"
     ]
    }
   ],
   "source": [
    "# we want a dictionary with entries like this\n",
    "# { 'Lillis': [2003, 'Lundquist Business College',]\n",
    "#   'Fenton': [1906, 'Mathematics']}\n",
    "\n",
    "UO_dictionary = \\\n",
    "    {'Chapman': [1939, 'Honors College'],\n",
    "     'Fenton': [1906, 'Mathematics'],\n",
    "     'Peterson': [1916, 'Business'], \n",
    "     'Condon': [1925, 'Geography, Anthropolgy'],\n",
    "     'Deschutes': [1990, 'Computer Science'],\n",
    "     'Lillis': [2003, 'Business College'],\n",
    "     'Willamette': [1990, \n",
    "        'Physics - General, Materials Science, Theoretical']}\n",
    "\n",
    "for building in sorted(UO_dictionary):\n",
    "    data_list = UO_dictionary[building]  # building is key; list is value\n",
    "    year = data_list[0]\n",
    "    note = data_list[1]\n",
    "    print(building, year, note)\n",
    "#"
   ]
  },
  {
   "cell_type": "markdown",
   "metadata": {},
   "source": [
    "#### Make data line up in columns with .format"
   ]
  },
  {
   "cell_type": "code",
   "execution_count": 3,
   "metadata": {
    "collapsed": false
   },
   "outputs": [
    {
     "name": "stdout",
     "output_type": "stream",
     "text": [
      "Chapman      built 1939 Honors College\n",
      "Condon       built 1925 Geography, Anthropolgy\n",
      "Deschutes    built 1990 Computer Science\n",
      "Fenton       built 1906 Mathematics\n",
      "Lillis       built 2003 Business College\n",
      "Peterson     built 1916 Business\n",
      "Willamette   built 1990 Physics - General, Materials Science, Theoretical\n"
     ]
    }
   ],
   "source": [
    "# Make report look better\n",
    "\n",
    "for building in sorted(UO_dictionary):\n",
    "    # value     dictionary [key]\n",
    "    data_list = UO_dictionary[building]  \n",
    "    year = data_list[0]\n",
    "    note = data_list[1]\n",
    "    #    string len 15    4 digits string\n",
    "    print(\"{0:12s} built {1:4d} {2:s}\" \\\n",
    "          .format(building, year, note))\n",
    "#                   0        1      2"
   ]
  },
  {
   "cell_type": "markdown",
   "metadata": {},
   "source": [
    "#### Let's open a series of images"
   ]
  },
  {
   "cell_type": "code",
   "execution_count": 4,
   "metadata": {
    "collapsed": false
   },
   "outputs": [],
   "source": [
    "from PIL import Image\n",
    "\n",
    "for building in UO_dictionary:\n",
    "    file_name = building\n",
    "    infile = file_name + '.jpg'\n",
    "    image = Image.open(infile)\n",
    "    image.show()"
   ]
  },
  {
   "cell_type": "markdown",
   "metadata": {
    "collapsed": false
   },
   "source": [
    "# 2) Create thumbnails of images\n",
    "#### Open images, create and save thumbnail images"
   ]
  },
  {
   "cell_type": "code",
   "execution_count": 4,
   "metadata": {
    "collapsed": false
   },
   "outputs": [],
   "source": [
    "from PIL import Image\n",
    "\n",
    "for building in UO_dictionary:\n",
    "    file_name = building\n",
    "    infile = file_name + '.jpg'\n",
    "    image = Image.open(infile)\n",
    "\n",
    "    # Create thumbnail file\n",
    "    size = (128, 128)\n",
    "    outfile =  file_name + '_thumbnail.jpg'\n",
    "    image_thumb = image\n",
    "    image_thumb.thumbnail(size)\n",
    "    image_thumb.save(outfile, \"JPEG\")\n",
    "    image_thumb.show()\n",
    "#"
   ]
  },
  {
   "cell_type": "markdown",
   "metadata": {},
   "source": [
    "# 3) Picture +  printed report\n",
    "### Report on buildings; include a picture\n",
    "### But pictures are all in separate windows!"
   ]
  },
  {
   "cell_type": "code",
   "execution_count": 5,
   "metadata": {
    "collapsed": false,
    "scrolled": true
   },
   "outputs": [
    {
     "name": "stdout",
     "output_type": "stream",
     "text": [
      "Lillis 2003 Business College Lillis_thumbnail.jpg\n",
      "Fenton 1906 Mathematics Fenton_thumbnail.jpg\n",
      "Peterson 1916 Business Peterson_thumbnail.jpg\n",
      "Deschutes 1990 Computer Science Deschutes_thumbnail.jpg\n",
      "Willamette 1990 Physics - General, Materials Science, Theoretical Willamette_thumbnail.jpg\n",
      "Chapman 1939 Honors College Chapman_thumbnail.jpg\n",
      "Condon 1925 Geography, Anthropolgy Condon_thumbnail.jpg\n"
     ]
    }
   ],
   "source": [
    "for building in UO_dictionary:\n",
    "    data_list = UO_dictionary[building]  \n",
    "    year = data_list[0]\n",
    "    note = data_list[1]\n",
    "\n",
    "    file_name = building\n",
    "    # show small images\n",
    "    infile = file_name + '_thumbnail.jpg'\n",
    "    image = Image.open(infile)\n",
    "    print(building, year, note, infile)\n",
    "    image.show()\n",
    "    #    "
   ]
  },
  {
   "cell_type": "markdown",
   "metadata": {},
   "source": [
    "## IPython.display can put images near text"
   ]
  },
  {
   "cell_type": "code",
   "execution_count": 6,
   "metadata": {
    "collapsed": false
   },
   "outputs": [
    {
     "data": {
      "image/jpeg": "[encoded data removed]",
      "text/plain": [
       "<IPython.core.display.Image object>"
      ]
     },
     "metadata": {},
     "output_type": "display_data"
    },
    {
     "name": "stdout",
     "output_type": "stream",
     "text": [
      "Lillis 2003 Business College\n",
      "----------------------------------------------------------------------\n"
     ]
    },
    {
     "data": {
      "image/jpeg": "[encoded data removed]",
      "text/plain": [
       "<IPython.core.display.Image object>"
      ]
     },
     "metadata": {},
     "output_type": "display_data"
    },
    {
     "name": "stdout",
     "output_type": "stream",
     "text": [
      "Fenton 1906 Mathematics\n",
      "----------------------------------------------------------------------\n"
     ]
    },
    {
     "data": {
      "image/jpeg": "[encoded data removed]",
      "text/plain": [
       "<IPython.core.display.Image object>"
      ]
     },
     "metadata": {},
     "output_type": "display_data"
    },
    {
     "name": "stdout",
     "output_type": "stream",
     "text": [
      "Peterson 1916 Business\n",
      "----------------------------------------------------------------------\n"
     ]
    },
    {
     "data": {
      "image/jpeg": "[encoded data removed]",
      "text/plain": [
       "<IPython.core.display.Image object>"
      ]
     },
     "metadata": {},
     "output_type": "display_data"
    },
    {
     "name": "stdout",
     "output_type": "stream",
     "text": [
      "Deschutes 1990 Computer Science\n",
      "----------------------------------------------------------------------\n"
     ]
    },
    {
     "data": {
      "image/jpeg": "[encoded data removed]",
      "text/plain": [
       "<IPython.core.display.Image object>"
      ]
     },
     "metadata": {},
     "output_type": "display_data"
    },
    {
     "name": "stdout",
     "output_type": "stream",
     "text": [
      "Willamette 1990 Physics - General, Materials Science, Theoretical\n",
      "----------------------------------------------------------------------\n"
     ]
    },
    {
     "data": {
      "image/jpeg": "[encoded data removed]",
      "text/plain": [
       "<IPython.core.display.Image object>"
      ]
     },
     "metadata": {},
     "output_type": "display_data"
    },
    {
     "name": "stdout",
     "output_type": "stream",
     "text": [
      "Chapman 1939 Honors College\n",
      "----------------------------------------------------------------------\n"
     ]
    },
    {
     "data": {
      "image/jpeg": "[encoded data removed]",
      "text/plain": [
       "<IPython.core.display.Image object>"
      ]
     },
     "metadata": {},
     "output_type": "display_data"
    },
    {
     "name": "stdout",
     "output_type": "stream",
     "text": [
      "Condon 1925 Geography, Anthropolgy\n",
      "----------------------------------------------------------------------\n"
     ]
    }
   ],
   "source": [
    "from IPython.display import display, Image as Im\n",
    "for building in UO_dictionary:\n",
    "    data_list = UO_dictionary[building]  \n",
    "    year = data_list[0]\n",
    "    note = data_list[1]\n",
    "    \n",
    "    file_name = building\n",
    "    infile = file_name + '_thumbnail.jpg' # Ex: 'Lillis_thumbnail.jpg'\n",
    "    an_image = Im(filename=infile) # Get image from disk\n",
    "\n",
    "    # Display our image, then print a line of text under it:\n",
    "    display(an_image)  \n",
    "    \n",
    "    print(building, year, note)\n",
    "    print('-' * 70) # Long dashed line\n",
    "#   "
   ]
  },
  {
   "cell_type": "markdown",
   "metadata": {},
   "source": [
    "# <span style='color:red'>OPTIONAL</span>\n",
    "\n",
    "# 3b) Display data,  picture with <span style='color:blue'>html</span> table\n",
    "##### Writes html table; uses IPython to display the table"
   ]
  },
  {
   "cell_type": "code",
   "execution_count": 20,
   "metadata": {
    "collapsed": false
   },
   "outputs": [
    {
     "data": {
      "text/html": [
       "<h1 style=\"color:green\">UO Buildings</h1>"
      ],
      "text/plain": [
       "<IPython.core.display.HTML object>"
      ]
     },
     "metadata": {},
     "output_type": "display_data"
    },
    {
     "data": {
      "text/html": [
       "<table border=\"1\"><thead><tr><th style=\"width:80px;font-weight:bold;color:blue\">Building</th><th style=\"width:136px;\">Picture </th><th style=\"width:8px;  \">Year    </th><th style=\"width:300px \">Notes   </th></tr></thead>"
      ],
      "text/plain": [
       "<IPython.core.display.HTML object>"
      ]
     },
     "metadata": {},
     "output_type": "display_data"
    },
    {
     "data": {
      "text/html": [
       "<tr><td style=\"width:80px;font-weight:bold;color:blue; \">Chapman</td><td style=\"width:136px;\"><a href=\"<a href=\"\"><img src=\"Chapman_thumbnail.jpg\"></a></td><td style=\"width:8px; color:red\">1939</td><td style=\"width:300px\">Honors College</td></tr>"
      ],
      "text/plain": [
       "<IPython.core.display.HTML object>"
      ]
     },
     "metadata": {},
     "output_type": "display_data"
    },
    {
     "data": {
      "text/html": [
       "<tr><td style=\"width:80px;font-weight:bold;color:blue; \">Condon</td><td style=\"width:136px;\"><a href=\"<a href=\"\"><img src=\"Condon_thumbnail.jpg\"></a></td><td style=\"width:8px; color:red\">1925</td><td style=\"width:300px\">Geography, Anthropolgy</td></tr>"
      ],
      "text/plain": [
       "<IPython.core.display.HTML object>"
      ]
     },
     "metadata": {},
     "output_type": "display_data"
    },
    {
     "data": {
      "text/html": [
       "<tr><td style=\"width:80px;font-weight:bold;color:blue; \">Deschutes</td><td style=\"width:136px;\"><a href=\"<a href=\"\"><img src=\"Deschutes_thumbnail.jpg\"></a></td><td style=\"width:8px; color:red\">1990</td><td style=\"width:300px\">Computer Science</td></tr>"
      ],
      "text/plain": [
       "<IPython.core.display.HTML object>"
      ]
     },
     "metadata": {},
     "output_type": "display_data"
    },
    {
     "data": {
      "text/html": [
       "<tr><td style=\"width:80px;font-weight:bold;color:blue; \">Fenton</td><td style=\"width:136px;\"><a href=\"<a href=\"\"><img src=\"Fenton_thumbnail.jpg\"></a></td><td style=\"width:8px; color:red\">1906</td><td style=\"width:300px\">Mathematics</td></tr>"
      ],
      "text/plain": [
       "<IPython.core.display.HTML object>"
      ]
     },
     "metadata": {},
     "output_type": "display_data"
    },
    {
     "data": {
      "text/html": [
       "<tr><td style=\"width:80px;font-weight:bold;color:blue; \">Lillis</td><td style=\"width:136px;\"><a href=\"<a href=\"\"><img src=\"Lillis_thumbnail.jpg\"></a></td><td style=\"width:8px; color:red\">2003</td><td style=\"width:300px\">Business College</td></tr>"
      ],
      "text/plain": [
       "<IPython.core.display.HTML object>"
      ]
     },
     "metadata": {},
     "output_type": "display_data"
    },
    {
     "data": {
      "text/html": [
       "<tr><td style=\"width:80px;font-weight:bold;color:blue; \">Peterson</td><td style=\"width:136px;\"><a href=\"<a href=\"\"><img src=\"Peterson_thumbnail.jpg\"></a></td><td style=\"width:8px; color:red\">1916</td><td style=\"width:300px\">Business</td></tr>"
      ],
      "text/plain": [
       "<IPython.core.display.HTML object>"
      ]
     },
     "metadata": {},
     "output_type": "display_data"
    },
    {
     "data": {
      "text/html": [
       "<tr><td style=\"width:80px;font-weight:bold;color:blue; \">Willamette</td><td style=\"width:136px;\"><a href=\"<a href=\"\"><img src=\"Willamette_thumbnail.jpg\"></a></td><td style=\"width:8px; color:red\">1990</td><td style=\"width:300px\">Physics - General, Materials Science, Theoretical</td></tr>"
      ],
      "text/plain": [
       "<IPython.core.display.HTML object>"
      ]
     },
     "metadata": {},
     "output_type": "display_data"
    },
    {
     "name": "stdout",
     "output_type": "stream",
     "text": [
      "\n"
     ]
    }
   ],
   "source": [
    "from IPython.display import display, HTML\n",
    "\n",
    "def create_table_header():\n",
    "    '''\n",
    "        Returns a string of html for table header\n",
    "        for building, picture, year, note\n",
    "    '''\n",
    "    h0 = '<table border=\"1\">'  # table\n",
    "    \n",
    "    h1 = '<thead><tr>'         # table head, table row\n",
    "    \n",
    "    h2 = '<th style=\"width:80px;font-weight:bold;color:blue\">'+ \\\n",
    "         'Building</th>'\n",
    "    \n",
    "    h3 = '<th style=\"width:136px;\">Picture </th>' \n",
    "    \n",
    "    h4 = '<th style=\"width:8px;  \">Year    </th>'\n",
    "    \n",
    "    h5 = '<th style=\"width:300px \">Notes   </th>'\n",
    "    \n",
    "    h6 = '</tr></thead>'\n",
    "    \n",
    "    html_table_header = h0 + h1 + h2 + h3 + h4 + h5 + h6    \n",
    "    return html_table_header\n",
    "    \n",
    "def create_table_row(building, year, note):\n",
    "    ''' Given a building name, year of construction and note,\n",
    "    \n",
    "        returns a string of html for a table row\n",
    "        with a building, a thumbnail image_thumbnail and \n",
    "        year built, a note about the building;\n",
    "        \n",
    "        html sets a width in pixels for each item\n",
    "    '''\n",
    "    pic = building + '_thumbnail.jpg'  # Name of picture \n",
    "\n",
    "    part0 = '<tr>'                     # Start of table row    \n",
    "\n",
    "    # <td> is html for a cell in a table (\"table data\")\n",
    "    \n",
    "    part1 = '<td style=\"width:80px;font-weight:bold;color:blue; \">' + \\\n",
    "            building + '</td>'\n",
    "    \n",
    "    part2 = '<td style=\"width:136px;\">'  + \\\n",
    "            '<img src=\"' + pic + '\"></td>'\n",
    "\n",
    "    # convert year to a string (int not allowed in html)\n",
    "    part3 = '<td style=\"width:8px; color:red\">' + \\\n",
    "            str(year) + '</td>'        \n",
    "\n",
    "    part4 = '<td style=\"width:300px\">' + note + '</td>'    \n",
    "\n",
    "    part5 = '</tr>'    \n",
    "\n",
    "    row = part0 + part1 + part2 + part3 + part4 + part5    \n",
    "    return row\n",
    "              \n",
    "html_title = '<h1 style=\"color:green\">UO Buildings</h1>'\n",
    "html_table_head = create_table_header()\n",
    "\n",
    "display(HTML(html_title))\n",
    "display(HTML(html_table_head))\n",
    "\n",
    "for building in sorted(UO_dictionary):\n",
    "    data_list = UO_dictionary[building]\n",
    "    year = data_list[0]\n",
    "    note = data_list[1]    \n",
    "    # display an html table row for building\n",
    "    my_row = create_table_row(building, year, note)\n",
    "    display(HTML(my_row))\n",
    "#\n",
    "print()"
   ]
  },
  {
   "cell_type": "markdown",
   "metadata": {},
   "source": [
    "# <span style='color:red'>OPTIONAL</span>\n",
    "# 4) Ask, display buildings\n",
    "### Ask for a building, display it if it's in the dictionary"
   ]
  },
  {
   "cell_type": "code",
   "execution_count": 12,
   "metadata": {
    "collapsed": false
   },
   "outputs": [
    {
     "name": "stdout",
     "output_type": "stream",
     "text": [
      "Building to find, or Stop to quit Fenton\n"
     ]
    },
    {
     "data": {
      "text/html": [
       "<table border=\"1\"><thead><tr><th style=\"width:80px; \">Building</th><th style=\"width:136px;\">Picture </th><th style=\"width:8px;  \">Year    </th><th style=\"width:300px \">Notes   </th></tr></thead>"
      ],
      "text/plain": [
       "<IPython.core.display.HTML object>"
      ]
     },
     "metadata": {},
     "output_type": "display_data"
    },
    {
     "data": {
      "text/html": [
       "<tr><td style=\"width:80px;font-weight:bold;color:blue; \">Fenton</td><td style=\"width:136px;\"><img src=\"Fenton_thumbnail.jpg\"></td><td style=\"width:8px;color:red;\">1906</td><td style=\"width:300px\">Mathematics</td></tr>"
      ],
      "text/plain": [
       "<IPython.core.display.HTML object>"
      ]
     },
     "metadata": {},
     "output_type": "display_data"
    },
    {
     "name": "stdout",
     "output_type": "stream",
     "text": [
      "Building to find, or Stop to quit stop\n"
     ]
    }
   ],
   "source": [
    "from IPython.display import display, HTML\n",
    "\n",
    "def create_table_header():\n",
    "    '''\n",
    "        Returns a string of html for table header\n",
    "        for building, picture, year, note\n",
    "    '''\n",
    "    h0 = '<table border=\"1\">' \n",
    "    \n",
    "    h1 = '<thead><tr>' \n",
    "    \n",
    "    h2 = '<th style=\"width:80px; \">Building</th>'\n",
    "    \n",
    "    h3 = '<th style=\"width:136px;\">Picture </th>' \n",
    "    \n",
    "    h4 = '<th style=\"width:8px;  \">Year    </th>'\n",
    "    \n",
    "    h5 = '<th style=\"width:300px \">Notes   </th>'\n",
    "    \n",
    "    h6 = '</tr></thead>'\n",
    "    \n",
    "    html_table_header = h0 + h1 + h2 + h3 + h4 + h5 + h6\n",
    "    \n",
    "    return html_table_header\n",
    "\n",
    "def create_table_row(building, year, note):\n",
    "    '''Returns a string of html for a table row\n",
    "       with a building, a thumbnail image name.thumbnail and \n",
    "       year built, a note about the building;\n",
    "       html sets a width in pixels for each item\n",
    "    '''\n",
    "    pic = building + '_thumbnail.jpg'\n",
    "    \n",
    "    part0 = '<tr>'\n",
    "    \n",
    "    part1 = '<td style=\"width:80px;font-weight:bold;color:blue; \">' + \\\n",
    "            building + '</td>'\n",
    "\n",
    "    part2 = '<td style=\"width:136px;\">' + \\\n",
    "            '<img src=\"' + pic + '\"></td>'\n",
    "        \n",
    "    part3 = '<td style=\"width:8px;color:red;\">' + \\\n",
    "            str(year) + '</td>'\n",
    "        \n",
    "    part4 = '<td style=\"width:300px\">' + note + '</td>'\n",
    "    \n",
    "    part5 = '</tr>'\n",
    "    row = part0 + part1 + part2 + part3 + part4 + part5\n",
    "    ##print(\"#DEBUG\", row)\n",
    "    return row\n",
    "\n",
    "def show_building_data(bldg):\n",
    "    '''\n",
    "        Displays some data about a building and \n",
    "        displays a thumbnail image of the building\n",
    "        \n",
    "        returns None\n",
    "    '''\n",
    "    html_title = '<h1 style=\"color:green\">UO Buildings</h1>'\n",
    "\n",
    "    html_table_head = create_table_header()\n",
    "    display(HTML(html_table_head))\n",
    "\n",
    "    if bldg in UO_dictionary:\n",
    "        data_list = UO_dictionary[bldg]\n",
    "        year = data_list[0]\n",
    "        note = data_list[1]\n",
    "        \n",
    "        # call create... to build a row in html for us\n",
    "        my_row = create_table_row(bldg, year, note)\n",
    "        display(HTML(my_row))\n",
    "    #\n",
    "    return None\n",
    "#\n",
    "\n",
    "bldg = input(\"Building to find, or Stop to quit \").title()\n",
    "\n",
    "while bldg != 'Stop':\n",
    "    if bldg in UO_dictionary:\n",
    "        show_building_data(bldg)\n",
    "    else:\n",
    "        print(\"Sorry, data not available for\", bldg)\n",
    "\n",
    "    # Get next user request\n",
    "    bldg = input(\"Building to find, or Stop to quit \").title()\n",
    "#"
   ]
  }
 ],
 "metadata": {
  "kernelspec": {
   "display_name": "Python [conda root]",
   "language": "python",
   "name": "conda-root-py"
  },
  "language_info": {
   "codemirror_mode": {
    "name": "ipython",
    "version": 3
   },
   "file_extension": ".py",
   "mimetype": "text/x-python",
   "name": "python",
   "nbconvert_exporter": "python",
   "pygments_lexer": "ipython3",
   "version": "3.5.2"
  }
 },
 "nbformat": 4,
 "nbformat_minor": 2
}
