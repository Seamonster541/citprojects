{
 "cells": [
  {
   "cell_type": "markdown",
   "metadata": {
    "collapsed": true
   },
   "source": [
    "# pandas report, plot"
   ]
  },
  {
   "cell_type": "markdown",
   "metadata": {},
   "source": [
    "### A large file; we'll have a much shorter one for exam"
   ]
  },
  {
   "cell_type": "code",
   "execution_count": 6,
   "metadata": {
    "collapsed": false
   },
   "outputs": [
    {
     "data": {
      "text/html": [
       "<div>\n",
       "<table border=\"1\" class=\"dataframe\">\n",
       "  <thead>\n",
       "    <tr style=\"text-align: right;\">\n",
       "      <th></th>\n",
       "      <th>year</th>\n",
       "      <th>name</th>\n",
       "      <th>gender</th>\n",
       "      <th>count</th>\n",
       "      <th>popularity</th>\n",
       "    </tr>\n",
       "  </thead>\n",
       "  <tbody>\n",
       "    <tr>\n",
       "      <th>0</th>\n",
       "      <td>1880</td>\n",
       "      <td>Mary</td>\n",
       "      <td>F</td>\n",
       "      <td>7065</td>\n",
       "      <td>1</td>\n",
       "    </tr>\n",
       "    <tr>\n",
       "      <th>1</th>\n",
       "      <td>1880</td>\n",
       "      <td>Anna</td>\n",
       "      <td>F</td>\n",
       "      <td>2604</td>\n",
       "      <td>2</td>\n",
       "    </tr>\n",
       "    <tr>\n",
       "      <th>2</th>\n",
       "      <td>1880</td>\n",
       "      <td>Emma</td>\n",
       "      <td>F</td>\n",
       "      <td>2003</td>\n",
       "      <td>3</td>\n",
       "    </tr>\n",
       "    <tr>\n",
       "      <th>3</th>\n",
       "      <td>1880</td>\n",
       "      <td>Elizabeth</td>\n",
       "      <td>F</td>\n",
       "      <td>1939</td>\n",
       "      <td>4</td>\n",
       "    </tr>\n",
       "    <tr>\n",
       "      <th>4</th>\n",
       "      <td>1880</td>\n",
       "      <td>Minnie</td>\n",
       "      <td>F</td>\n",
       "      <td>1746</td>\n",
       "      <td>5</td>\n",
       "    </tr>\n",
       "  </tbody>\n",
       "</table>\n",
       "</div>"
      ],
      "text/plain": [
       "   year       name gender  count  popularity\n",
       "0  1880       Mary      F   7065           1\n",
       "1  1880       Anna      F   2604           2\n",
       "2  1880       Emma      F   2003           3\n",
       "3  1880  Elizabeth      F   1939           4\n",
       "4  1880     Minnie      F   1746           5"
      ]
     },
     "execution_count": 6,
     "metadata": {},
     "output_type": "execute_result"
    }
   ],
   "source": [
    "import pandas as pd\n",
    "import matplotlib.pyplot as plt\n",
    "%matplotlib inline\n",
    "\n",
    "url_path = 'http://www.cs.uoregon.edu/Classes/17W/cis122/data/'\n",
    "filename = 'yob_all.csv'\n",
    "url = url_path + filename\n",
    "\n",
    "name_history = pd.read_csv(url)\n",
    "name_history.head()"
   ]
  },
  {
   "cell_type": "markdown",
   "metadata": {},
   "source": [
    "### Interact with user\n",
    "1. Ask for a name\n",
    "2. Change name to title( )  emily --> Emily\n",
    "3. Search for name, display matches\n",
    "4. Plot results too\n"
   ]
  },
  {
   "cell_type": "code",
   "execution_count": 11,
   "metadata": {
    "collapsed": false
   },
   "outputs": [
    {
     "name": "stdout",
     "output_type": "stream",
     "text": [
      "Type a name to look for: sophia\n",
      "Type F for female or M for male: female\n",
      "\n",
      "         year    name gender  count  popularity\n",
      "117      1880  Sophia      F    138         118\n",
      "2130     1881  Sophia      F    122         131\n",
      "4050     1882  Sophia      F    179         116\n",
      "6190     1883  Sophia      F    159         129\n",
      "8280     1884  Sophia      F    170         135\n",
      "10576    1885  Sophia      F    185         134\n",
      "12864    1886  Sophia      F    218         128\n",
      "15265    1887  Sophia      F    192         137\n",
      "17637    1888  Sophia      F    251         136\n",
      "20291    1889  Sophia      F    251         139\n",
      "22886    1890  Sophia      F    245         144\n",
      "25590    1891  Sophia      F    220         153\n",
      "28259    1892  Sophia      F    241         162\n",
      "31177    1893  Sophia      F    247         159\n",
      "34005    1894  Sophia      F    276         156\n",
      "36954    1895  Sophia      F    259         164\n",
      "39999    1896  Sophia      F    278         160\n",
      "43094    1897  Sophia      F    278         164\n",
      "46147    1898  Sophia      F    240         189\n",
      "49402    1899  Sophia      F    238         180\n",
      "52461    1900  Sophia      F    259         197\n",
      "56182    1901  Sophia      F    221         187\n",
      "59328    1902  Sophia      F    256         180\n",
      "62709    1903  Sophia      F    213         199\n",
      "66096    1904  Sophia      F    230         197\n",
      "69658    1905  Sophia      F    237         198\n",
      "73309    1906  Sophia      F    247         194\n",
      "76946    1907  Sophia      F    265         198\n",
      "80899    1908  Sophia      F    276         203\n",
      "84936    1909  Sophia      F    256         222\n",
      "...       ...     ...    ...    ...         ...\n",
      "981577   1986  Sophia      F   1060         245\n",
      "1002212  1987  Sophia      F   1122         238\n",
      "1023599  1988  Sophia      F   1163         226\n",
      "1045987  1989  Sophia      F   1058         254\n",
      "1069753  1990  Sophia      F   1125         251\n",
      "1094445  1991  Sophia      F   1259         228\n",
      "1119532  1992  Sophia      F   1353         211\n",
      "1144938  1993  Sophia      F   1498         196\n",
      "1170886  1994  Sophia      F   1613         185\n",
      "1196867  1995  Sophia      F   1763         168\n",
      "1222904  1996  Sophia      F   2513         125\n",
      "1249293  1997  Sophia      F   3639          94\n",
      "1276238  1998  Sophia      F   4305          73\n",
      "1304112  1999  Sophia      F   5422          53\n",
      "1332647  2000  Sophia      F   6562          42\n",
      "1362406  2001  Sophia      F   7158          37\n",
      "1392660  2002  Sophia      F   8663          27\n",
      "1423212  2003  Sophia      F   9683          20\n",
      "1454386  2004  Sophia      F  10915          15\n",
      "1486423  2005  Sophia      F  12667          12\n",
      "1518959  2006  Sophia      F  13496           9\n",
      "1553029  2007  Sophia      F  17018           6\n",
      "1587971  2008  Sophia      F  16075           7\n",
      "1623019  2009  Sophia      F  16929           4\n",
      "1657706  2010  Sophia      F  20623           2\n",
      "1691755  2011  Sophia      F  21824           1\n",
      "1725635  2012  Sophia      F  22279           1\n",
      "1759332  2013  Sophia      F  21171           1\n",
      "1792563  2014  Sophia      F  18563           3\n",
      "1825739  2015  Sophia      F  17327           3\n",
      "\n",
      "[136 rows x 5 columns]\n"
     ]
    },
    {
     "data": {
      "image/png": "[encoded data removed]",
      "text/plain": [
       "<matplotlib.figure.Figure at 0x112983f98>"
      ]
     },
     "metadata": {},
     "output_type": "display_data"
    }
   ],
   "source": [
    "import pandas as pd\n",
    "import matplotlib.pyplot as plt\n",
    "%matplotlib inline\n",
    "\n",
    "\n",
    "name_prompt = 'Type a name to look for: '\n",
    "typing = input(name_prompt)\n",
    "who = typing.title() # 'ann' --> 'Ann'\n",
    "\n",
    "gender_prompt = 'Type F for female or M for male: '\n",
    "typing = input(gender_prompt)\n",
    "fm = typing.title()[0]  # Get 1st letter [0], change to title()\n",
    "#                       # 'female' --> 'F'\n",
    "print()\n",
    "\n",
    "# in query, @who means the value of variable who\n",
    "# note that query uses a string; entire query is within quotes\n",
    "\n",
    "found_names = name_history.query('name == @who and gender == @fm')\n",
    "print(found_names)\n",
    "\n",
    "# x        y                        \n",
    "found_names.plot('year', 'count', \n",
    "                 kind='line', \n",
    "                 title=who, \n",
    "                 figsize=(7,7),  # bigger plot\n",
    "                 grid=True)      # draw grid\n",
    "plt.show()"
   ]
  },
  {
   "cell_type": "code",
   "execution_count": 9,
   "metadata": {
    "collapsed": false
   },
   "outputs": [
    {
     "name": "stdout",
     "output_type": "stream",
     "text": [
      "Popularity (1 is most popular): 1\n",
      "         year      name gender  count  popularity\n",
      "0        1880      Mary      F   7065           1\n",
      "2000     1881      Mary      F   6919           1\n",
      "3935     1882      Mary      F   8148           1\n",
      "6062     1883      Mary      F   8012           1\n",
      "8146     1884      Mary      F   9217           1\n",
      "10443    1885      Mary      F   9128           1\n",
      "12737    1886      Mary      F   9889           1\n",
      "15129    1887      Mary      F   9888           1\n",
      "17502    1888      Mary      F  11754           1\n",
      "20153    1889      Mary      F  11648           1\n",
      "22743    1890      Mary      F  12078           1\n",
      "25438    1891      Mary      F  11703           1\n",
      "28098    1892      Mary      F  13172           1\n",
      "31019    1893      Mary      F  12784           1\n",
      "33850    1894      Mary      F  13151           1\n",
      "36791    1895      Mary      F  13446           1\n",
      "39840    1896      Mary      F  13811           1\n",
      "42931    1897      Mary      F  13413           1\n",
      "45959    1898      Mary      F  14406           1\n",
      "49223    1899      Mary      F  13172           1\n",
      "52265    1900      Mary      F  16707           1\n",
      "55996    1901      Mary      F  13136           1\n",
      "59149    1902      Mary      F  14486           1\n",
      "62511    1903      Mary      F  14275           1\n",
      "65900    1904      Mary      F  14962           1\n",
      "69461    1905      Mary      F  16067           1\n",
      "73116    1906      Mary      F  16370           1\n",
      "76749    1907      Mary      F  17580           1\n",
      "80697    1908      Mary      F  18666           1\n",
      "84715    1909      Mary      F  19259           1\n",
      "...       ...       ...    ...    ...         ...\n",
      "981333   1986   Jessica      F  52667           1\n",
      "1001975  1987   Jessica      F  55990           1\n",
      "1023374  1988   Jessica      F  51532           1\n",
      "1045734  1989   Jessica      F  47885           1\n",
      "1069503  1990   Jessica      F  46470           1\n",
      "1094218  1991    Ashley      F  43482           1\n",
      "1119322  1992    Ashley      F  38452           1\n",
      "1144743  1993   Jessica      F  34987           1\n",
      "1170702  1994   Jessica      F  32117           1\n",
      "1196700  1995   Jessica      F  27935           1\n",
      "1222780  1996     Emily      F  25150           1\n",
      "1249200  1997     Emily      F  25731           1\n",
      "1276166  1998     Emily      F  26179           1\n",
      "1304060  1999     Emily      F  26537           1\n",
      "1332606  2000     Emily      F  25953           1\n",
      "1362370  2001     Emily      F  25052           1\n",
      "1392634  2002     Emily      F  24459           1\n",
      "1423193  2003     Emily      F  25685           1\n",
      "1454372  2004     Emily      F  25028           1\n",
      "1486412  2005     Emily      F  23930           1\n",
      "1518951  2006     Emily      F  21393           1\n",
      "1553024  2007     Emily      F  19350           1\n",
      "1587965  2008      Emma      F  18803           1\n",
      "1623016  2009  Isabella      F  22283           1\n",
      "1657705  2010  Isabella      F  22890           1\n",
      "1691755  2011    Sophia      F  21824           1\n",
      "1725635  2012    Sophia      F  22279           1\n",
      "1759332  2013    Sophia      F  21171           1\n",
      "1792561  2014      Emma      F  20886           1\n",
      "1825737  2015      Emma      F  20355           1\n",
      "\n",
      "[136 rows x 5 columns]\n"
     ]
    }
   ],
   "source": [
    "popularity_prompt = 'Popularity (1 is most popular): '\n",
    "typing = input(popularity_prompt)\n",
    "pop = int(typing) # '12' --> 12\n",
    "\n",
    "# in query, @pop means the value of variable pop\n",
    "found_names = name_history.query('popularity == @pop and gender == \"F\"')\\\n",
    "    .sort_values('year')\n",
    "print(found_names)"
   ]
  }
 ],
 "metadata": {
  "kernelspec": {
   "display_name": "Python [conda root]",
   "language": "python",
   "name": "conda-root-py"
  },
  "language_info": {
   "codemirror_mode": {
    "name": "ipython",
    "version": 3
   },
   "file_extension": ".py",
   "mimetype": "text/x-python",
   "name": "python",
   "nbconvert_exporter": "python",
   "pygments_lexer": "ipython3",
   "version": "3.5.2"
  }
 },
 "nbformat": 4,
 "nbformat_minor": 1
}
