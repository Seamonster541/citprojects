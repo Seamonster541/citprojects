{
 "cells": [
  {
   "cell_type": "markdown",
   "metadata": {},
   "source": [
    "# Challenge question pj 2"
   ]
  },
  {
   "cell_type": "code",
   "execution_count": 13,
   "metadata": {
    "collapsed": false
   },
   "outputs": [
    {
     "name": "stdout",
     "output_type": "stream",
     "text": [
      "Godzilla(1998)\n",
      "SupermanVBatman\n",
      "SuicideSquad\n",
      "Ghostbusters(2016)\n",
      "Avatar: The last Airbender\n",
      "Dragonball\n",
      "Catwoman\n",
      "Jack and Jill\n",
      "Birdemic: Shock and Terror\n",
      "The Room\n"
     ]
    }
   ],
   "source": [
    "worst_movies_ever = ['Godzilla(1998)', 'SupermanVBatman', 'SuicideSquad', 'Ghostbusters(2016)', 'Avatar: The last Airbender',\n",
    "                    'Dragonball', 'Catwoman', 'Jack and Jill', 'Birdemic: Shock and Terror', 'The Room']\n",
    "\n",
    "for i in range(10):\n",
    "    print(worst_movies_ever[i])"
   ]
  },
  {
   "cell_type": "markdown",
   "metadata": {},
   "source": [
    "# lab"
   ]
  },
  {
   "cell_type": "code",
   "execution_count": 3,
   "metadata": {
    "collapsed": false
   },
   "outputs": [
    {
     "name": "stdout",
     "output_type": "stream",
     "text": [
      "type in the name of the last city you visited:eugene\n"
     ]
    },
    {
     "data": {
      "text/plain": [
       "'eugene'"
      ]
     },
     "execution_count": 3,
     "metadata": {},
     "output_type": "execute_result"
    }
   ],
   "source": [
    "input(\"type in the name of the last city you visited:\")"
   ]
  },
  {
   "cell_type": "code",
   "execution_count": null,
   "metadata": {
    "collapsed": false
   },
   "outputs": [],
   "source": [
    "for i in range(3):\n",
    "    pin_code = input(\"please type in the end code:\")\n",
    "    numerical_pin_code = int(pin_code)\n",
    "    \n",
    "    if numerical_pin_code ==2345:\n",
    "        print('You gained access to the secret message.')\n",
    "        break"
   ]
  },
  {
   "cell_type": "code",
   "execution_count": 4,
   "metadata": {
    "collapsed": false
   },
   "outputs": [
    {
     "name": "stdout",
     "output_type": "stream",
     "text": [
      "['FIRST', 'second', 'LAST']\n"
     ]
    }
   ],
   "source": [
    "l = ['first', 'second', 'third']\n",
    "l[0] = 'FIRST'\n",
    "l[-1] = 'LAST'\n",
    "print(l)"
   ]
  },
  {
   "cell_type": "code",
   "execution_count": 5,
   "metadata": {
    "collapsed": false
   },
   "outputs": [
    {
     "name": "stdout",
     "output_type": "stream",
     "text": [
      "[]\n",
      "['Eugene']\n",
      "['Eugene', 'Seattle']\n",
      "['Eugene', 'Seattle', 'New York']\n"
     ]
    }
   ],
   "source": [
    "city_names =[]\n",
    "print(city_names)\n",
    "city_names.append('Eugene')\n",
    "print(city_names)\n",
    "city_names.append('Seattle')\n",
    "print(city_names)\n",
    "city_names.append('New York')\n",
    "print(city_names)"
   ]
  },
  {
   "cell_type": "code",
   "execution_count": 10,
   "metadata": {
    "collapsed": false
   },
   "outputs": [
    {
     "name": "stdout",
     "output_type": "stream",
     "text": [
      "type city name that you visited:slame\n",
      "type city name that you visited:salem\n",
      "type city name that you visited:eugene\n",
      "type city name that you visited:boston\n",
      "type city name that you visited:chicago\n"
     ]
    }
   ],
   "source": [
    "city_names_list = []\n",
    "\n",
    "for count in range(5):\n",
    "    city_name = input('type city name that you visited:')\n",
    "    city_names_list.append(city_name)"
   ]
  },
  {
   "cell_type": "code",
   "execution_count": null,
   "metadata": {
    "collapsed": true
   },
   "outputs": [],
   "source": []
  }
 ],
 "metadata": {
  "anaconda-cloud": {},
  "kernelspec": {
   "display_name": "Python [conda root]",
   "language": "python",
   "name": "conda-root-py"
  },
  "language_info": {
   "codemirror_mode": {
    "name": "ipython",
    "version": 3
   },
   "file_extension": ".py",
   "mimetype": "text/x-python",
   "name": "python",
   "nbconvert_exporter": "python",
   "pygments_lexer": "ipython3",
   "version": "3.5.2"
  }
 },
 "nbformat": 4,
 "nbformat_minor": 1
}
