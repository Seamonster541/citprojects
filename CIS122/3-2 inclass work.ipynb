{
 "cells": [
  {
   "cell_type": "code",
   "execution_count": 14,
   "metadata": {
    "collapsed": false
   },
   "outputs": [
    {
     "name": "stdout",
     "output_type": "stream",
     "text": [
      "lnp, ly lwasl opepnetgp, xpe dfp, esp daj\n",
      "kmo, kx kvzrk nodomdsfo, wod ceo, dro czi\n",
      "jln, jw juyqj mncnlcren, vnc bdn, cqn byh\n",
      "ikm, iv itxpi lmbmkbqdm, umb acm, bpm axg\n",
      "hjl, hu hswoh klaljapcl, tla zbl, aol zwf\n",
      "gik, gt grvng jkzkizobk, skz yak, znk yve\n",
      "fhj, fs fqumf ijyjhynaj, rjy xzj, ymj xud\n",
      "egi, er eptle hixigxmzi, qix wyi, xli wtc\n",
      "dfh, dq doskd ghwhfwlyh, phw vxh, wkh vsb\n",
      "ceg, cp cnrjc fgvgevkxg, ogv uwg, vjg ura\n",
      "bdf, bo bmqib efufdujwf, nfu tvf, uif tqz\n",
      "ace, an alpha detective, met sue, the spy\n",
      "zbd, zm zkogz cdsdbshud, lds rtd, sgd rox\n",
      "yac, yl yjnfy bcrcargtc, kcr qsc, rfc qnw\n",
      "xzb, xk ximex abqbzqfsb, jbq prb, qeb pmv\n",
      "wya, wj whldw zapaypera, iap oqa, pda olu\n",
      "vxz, vi vgkcv yzozxodqz, hzo npz, ocz nkt\n",
      "uwy, uh ufjbu xynywncpy, gyn moy, nby mjs\n",
      "tvx, tg teiat wxmxvmbox, fxm lnx, max lir\n",
      "suw, sf sdhzs vwlwulanw, ewl kmw, lzw khq\n",
      "rtv, re rcgyr uvkvtkzmv, dvk jlv, kyv jgp\n",
      "qsu, qd qbfxq tujusjylu, cuj iku, jxu ifo\n",
      "prt, pc paewp stitrixkt, bti hjt, iwt hen\n",
      "oqs, ob ozdvo rshsqhwjs, ash gis, hvs gdm\n",
      "npr, na nycun qrgrpgvir, zrg fhr, gur fcl\n",
      "moq, mz mxbtm pqfqofuhq, yqf egq, ftq ebk\n"
     ]
    }
   ],
   "source": [
    "import random\n",
    "\n",
    "def encode_letter(letter, key):\n",
    "    letter = letter.lower()\n",
    "    alphabet = 'abcdefghijklmnopqrstuvwxyz'\n",
    "    length = len(alphabet)\n",
    "    if letter not in alphabet:\n",
    "        return letter\n",
    "    \n",
    "    number = ord(letter) - ord('a')\n",
    "    code_number = number + key\n",
    "    code_position = code_number % length\n",
    "    code_letter = alphabet[code_position]\n",
    "    return code_letter\n",
    "\n",
    "def decode_letter(letter, key):\n",
    "    decode_key = - key\n",
    "    good_letter = encode_letter(letter, decode_key)\n",
    "    return good_letter\n",
    "\n",
    "msg = 'Ace, an alpha detective, met Sue, the spy'\n",
    "code_msg = ''\n",
    "key = random.randint(1, 25)\n",
    "for character in msg:\n",
    "    code = encode_letter(character, key)\n",
    "    code_msg = code_msg + code\n",
    "print(code_msg)\n",
    "\n",
    "\n",
    "for possible_key in range(1, 26):\n",
    "    good_msg = ''\n",
    "    for char in code_msg:\n",
    "        good_letter = decode_letter(char, possible_key)\n",
    "        good_msg = good_msg + good_letter\n",
    "    print(good_msg)\n"
   ]
  },
  {
   "cell_type": "code",
   "execution_count": 17,
   "metadata": {
    "collapsed": true
   },
   "outputs": [],
   "source": [
    "import random\n",
    "?random.random\n",
    "?random.sample\n",
    "?random.randint"
   ]
  },
  {
   "cell_type": "code",
   "execution_count": 30,
   "metadata": {
    "collapsed": false
   },
   "outputs": [
    {
     "name": "stdout",
     "output_type": "stream",
     "text": [
      "[2, 5, 4, 4, 4, 1, 2, 3, 4, 1, 4, 3, 1, 6, 2, 2, 3, 1, 3, 5]\n"
     ]
    }
   ],
   "source": [
    "dice_list = []\n",
    "\n",
    "for i in range(20):\n",
    "    dice_roll = random.randint(1,6)\n",
    "    dice_list.append(dice_roll)\n",
    "    \n",
    "print(dice_list)"
   ]
  },
  {
   "cell_type": "code",
   "execution_count": 2,
   "metadata": {
    "collapsed": false
   },
   "outputs": [
    {
     "name": "stdout",
     "output_type": "stream",
     "text": [
      "[4, 3, 2, 5, 4, 6, 4, 2, 2, 3]\n",
      "ammount of 6's:  1\n"
     ]
    }
   ],
   "source": [
    "import random\n",
    "\n",
    "dice_list = []\n",
    "count = 0\n",
    "count_two = 0\n",
    "\n",
    "for i in range(10):\n",
    "    dice_roll = random.randint(1,6)\n",
    "    dice_list.append(dice_roll)\n",
    "    \n",
    "    if dice_roll == 6:\n",
    "        count += 1  \n",
    "        \n",
    "        \n",
    "print(dice_list)\n",
    "print(\"ammount of 6's: \", count)"
   ]
  },
  {
   "cell_type": "code",
   "execution_count": null,
   "metadata": {
    "collapsed": true
   },
   "outputs": [],
   "source": []
  },
  {
   "cell_type": "code",
   "execution_count": null,
   "metadata": {
    "collapsed": true
   },
   "outputs": [],
   "source": []
  }
 ],
 "metadata": {
  "anaconda-cloud": {},
  "kernelspec": {
   "display_name": "Python [conda root]",
   "language": "python",
   "name": "conda-root-py"
  },
  "language_info": {
   "codemirror_mode": {
    "name": "ipython",
    "version": 3
   },
   "file_extension": ".py",
   "mimetype": "text/x-python",
   "name": "python",
   "nbconvert_exporter": "python",
   "pygments_lexer": "ipython3",
   "version": "3.5.2"
  }
 },
 "nbformat": 4,
 "nbformat_minor": 1
}
