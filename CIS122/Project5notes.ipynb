{
 "cells": [
  {
   "cell_type": "markdown",
   "metadata": {},
   "source": [
    "# Topics\n",
    "\n",
    "### 1. Iteration  \n",
    "```python\n",
    "a_list = ['BIO', 'BUS', 'CHEM', 'CIS', 'ECON', 'JR', 'PHY']\n",
    "for i in range (17):\n",
    "    print(\"Something\")\n",
    "    \n",
    "for index in range(len(a_list)):\n",
    "    if a_list[i] == 'JR'\n",
    "        a_list[i] = 'J'\n",
    "    #\n",
    "    \n",
    "for item in a_list:\n",
    "    print(item)\n",
    "    print()\n",
    "\n",
    "a_dictionary = {'BUS': 'Lillis', 'CHEM':'Klamath', 'CIS':'Deschutes'}\n",
    "for a_key in a_dictionary:\n",
    "    hall = a_dictionary[a_key]\n",
    "```\n"
   ]
  },
  {
   "cell_type": "markdown",
   "metadata": {},
   "source": [
    "### Iteration - Repeat number times\n",
    "#### for some_variable in range(number):  # Repeat number times"
   ]
  },
  {
   "cell_type": "code",
   "execution_count": null,
   "metadata": {
    "collapsed": true
   },
   "outputs": [],
   "source": [
    "# Repeat 17 times\n",
    "for i in range (17):\n",
    "    print(\"Chant with me\")"
   ]
  },
  {
   "cell_type": "code",
   "execution_count": null,
   "metadata": {
    "collapsed": true
   },
   "outputs": [],
   "source": [
    "# Repeat n times\n",
    "typing = input(\"Repeat how many times (1-7) \")\n",
    "n = int(typing)\n",
    "for count in range(n):\n",
    "    print(\"Go Ducks!\")\n"
   ]
  },
  {
   "cell_type": "markdown",
   "metadata": {},
   "source": [
    "### Iteration -\n",
    "#### a_list = ['Alpha', 'Bravo', 'Charlee', 'Data']\n",
    "#### for some_index in range(len(a_list): "
   ]
  },
  {
   "cell_type": "code",
   "execution_count": null,
   "metadata": {
    "collapsed": true
   },
   "outputs": [],
   "source": [
    "# This is just a test list; our real list has 17,477 items\n",
    "# so you need a program to examine the list for known bad values\n",
    "\n",
    "a_list = ['Alpha', 'Bravo', 'Charlee', 'Data', 'Echo']\n",
    "# Iterate\n",
    "# Check each item in list for known errors\n",
    "# Change wrong items to right values\n",
    "for index in range(len(a_list)):\n",
    "    item = a_list[index]\n",
    "    if item == 'Charlee':\n",
    "        a_list[index] = 'Charlie'\n",
    "    if item == 'Data':\n",
    "        a_list[index] = 'Data'"
   ]
  },
  {
   "cell_type": "markdown",
   "metadata": {},
   "source": [
    "### Iteration\n",
    "#### transportation_list = ['Plane', 'Bike', 'Train', 'Cable Car', 'Auto', 'Truck', 'Canoe']\n",
    "#### for each_item in transportation_list:\n"
   ]
  },
  {
   "cell_type": "code",
   "execution_count": 9,
   "metadata": {
    "collapsed": false,
    "scrolled": true
   },
   "outputs": [
    {
     "name": "stdout",
     "output_type": "stream",
     "text": [
      "Plane use in any city\n",
      "Bike use in any city\n",
      "Train use in any city\n",
      "Cable Car -- only use in San Francisco\n",
      "Auto use in any city\n",
      "Truck use in any city\n",
      "Canoe use in any city\n"
     ]
    }
   ],
   "source": [
    "transportation_list = ['Plane', 'Bike', 'Train', 'Cable Car', \n",
    "          'Auto', 'Truck', 'Canoe']\n",
    "for each_item in transportation_list:\n",
    "    if each_item == 'Cable Car':\n",
    "        comment = '-- only use in San Francisco'\n",
    "    else:\n",
    "        comment = 'use in any city'\n",
    "    print(each_item, comment) # all on the same line\n",
    "#"
   ]
  },
  {
   "cell_type": "code",
   "execution_count": 10,
   "metadata": {
    "collapsed": false
   },
   "outputs": [
    {
     "name": "stdout",
     "output_type": "stream",
     "text": [
      "Plane\n",
      "Bike\n",
      "Train\n",
      "Cable Car\n",
      "Auto\n",
      "Truck\n",
      "Canoe\n",
      "Monorail\n",
      "\n",
      "Done\n"
     ]
    }
   ],
   "source": [
    "transportation_list.append('Monorail')\n",
    "for each_vehicle in transportation_list:\n",
    "    print(each_vehicle)\n",
    "#\n",
    "print(\"\\nDone\")"
   ]
  },
  {
   "cell_type": "markdown",
   "metadata": {},
   "source": [
    "## Iteration - going through keys in a dictionary\n",
    "```python\n",
    "state_trees_dict = {'WA': 'western hemlock', 'ID': 'white pine', \n",
    "                    'OR': 'douglas fir', 'NV': 'pinyon pine'}\n",
    "# Here the keys are 'WA', 'ID', 'OR', 'NV'\n",
    "\n",
    "for state in state_trees_dict:\n",
    "    tree = state_trees_dict[state]\n",
    "    print(tree)\n",
    "```"
   ]
  },
  {
   "cell_type": "markdown",
   "metadata": {},
   "source": [
    "## Iteration - while some_condition is true\n",
    "### animal_list = [ ]\n",
    "### animal_name = input('Name of animal or / to stop? ')\n",
    "### while animal_name != '/':"
   ]
  },
  {
   "cell_type": "code",
   "execution_count": 12,
   "metadata": {
    "collapsed": false
   },
   "outputs": [
    {
     "name": "stdout",
     "output_type": "stream",
     "text": [
      "WA western hemlock\n",
      "NV pinyon pine\n",
      "ID white pine\n",
      "OR douglas fir\n"
     ]
    }
   ],
   "source": [
    "state_trees_dict = {'WA': 'western hemlock', 'ID': 'white pine', \n",
    "                    'OR': 'douglas fir', 'NV': 'pinyon pine'}\n",
    "# Here the keys are 'WA', 'ID', 'OR', 'NV'\n",
    "\n",
    "for key_state in state_trees_dict:\n",
    "    tree = state_trees_dict[key_state]\n",
    "    print(key_state, tree)"
   ]
  },
  {
   "cell_type": "code",
   "execution_count": 13,
   "metadata": {
    "collapsed": false
   },
   "outputs": [
    {
     "name": "stdout",
     "output_type": "stream",
     "text": [
      "ID white pine\n",
      "NV pinyon pine\n",
      "OR douglas fir\n",
      "WA western hemlock\n"
     ]
    }
   ],
   "source": [
    "# Sort the keys\n",
    "state_trees_dict = {'WA': 'western hemlock', 'ID': 'white pine', \n",
    "                    'OR': 'douglas fir', 'NV': 'pinyon pine'}\n",
    "# Here the keys are 'WA', 'ID', 'OR', 'NV'\n",
    "\n",
    "for key_state in sorted(state_trees_dict):\n",
    "    #            ******\n",
    "    tree = state_trees_dict[key_state]\n",
    "    print(key_state, tree)"
   ]
  },
  {
   "cell_type": "markdown",
   "metadata": {},
   "source": [
    "## while"
   ]
  },
  {
   "cell_type": "code",
   "execution_count": null,
   "metadata": {
    "collapsed": true
   },
   "outputs": [],
   "source": []
  },
  {
   "cell_type": "code",
   "execution_count": 11,
   "metadata": {
    "collapsed": false
   },
   "outputs": [
    {
     "name": "stdout",
     "output_type": "stream",
     "text": [
      "Name of animal or / to stop: Giraffe\n",
      "Name of animal or / to stop: Monkey\n",
      "Name of animal or / to stop: Dog\n",
      "Name of animal or / to stop: Cat\n",
      "Name of animal or / to stop: /\n",
      "Animals in our list\n",
      "Giraffe\n",
      "Monkey\n",
      "Dog\n",
      "Cat\n",
      "Done!\n"
     ]
    }
   ],
   "source": [
    "animal_list = [ ] # start with empty list\n",
    "request = 'Name of animal or / to stop: '\n",
    "animal_name = input(request)\n",
    "while animal_name != '/':\n",
    "    animal_list.append(animal_name)\n",
    "    \n",
    "    # Must get another or we'll get stuck in infinite loop\n",
    "    animal_name = input(request)\n",
    "#\n",
    "\n",
    "print(\"\\nAnimals in our list\")\n",
    "for animal in animal_list:\n",
    "    print(animal)\n",
    "#\n",
    "print(\"Done!\")"
   ]
  },
  {
   "cell_type": "markdown",
   "metadata": {},
   "source": [
    "# Filter\n",
    "## Create a filtered list from a large list\n",
    "### 1. Create an empty filtered list\n",
    "### 2. Iterate through the large list,\n",
    "### 3. If an item qualifies, append it to the filtered list"
   ]
  },
  {
   "cell_type": "code",
   "execution_count": 14,
   "metadata": {
    "collapsed": false
   },
   "outputs": [
    {
     "name": "stdout",
     "output_type": "stream",
     "text": [
      "Luxury car prices\n",
      "Total: $ 238400\n",
      "Number of luxury cars 3\n",
      "Average cost $ 79466.67\n"
     ]
    }
   ],
   "source": [
    "car_prices = [12675, 19200, 22500, 37300, 58900, 72000, 107500, 5000]\n",
    "luxury_car_prices = []   # luxury cars cost more than $50,000\n",
    "\n",
    "# Iterate, selecting the luxury car prices\n",
    "for price in car_prices:\n",
    "    if price > 50000:\n",
    "        # filtered_list.append(value)\n",
    "        # Adds the price to the end of the luxury car prices list\n",
    "        luxury_car_prices.append(price)\n",
    "    #\n",
    "#\n",
    "# Get some data about the filetered data\n",
    "total_luxury_car_prices = sum(luxury_car_prices)\n",
    "number_of_luxury_cars = len(luxury_car_prices)\n",
    "average_luxury_price = \\\n",
    "    round(total_luxury_car_prices / number_of_luxury_cars, 2)\n",
    "print(\"Luxury car prices\")\n",
    "print(\"Total: $\", total_luxury_car_prices)\n",
    "print(\"Number of luxury cars\", number_of_luxury_cars)\n",
    "print(\"Average cost $\", average_luxury_price)\n",
    "    "
   ]
  },
  {
   "cell_type": "markdown",
   "metadata": {},
   "source": [
    "# Put into categories   if    elif    elif  elif   else"
   ]
  },
  {
   "cell_type": "code",
   "execution_count": 19,
   "metadata": {
    "collapsed": false
   },
   "outputs": [
    {
     "name": "stdout",
     "output_type": "stream",
     "text": [
      "17 is Unacceptable\n",
      "98 is Excellent\n",
      "100 is Excellent\n",
      "54 is Unacceptable\n",
      "56 is Poor\n",
      "65 is OK\n",
      "72 is OK\n",
      "89 is Good\n",
      "90 is Excellent\n"
     ]
    }
   ],
   "source": [
    "# Prineville University wants to change scores into words\n",
    "# range of scores      word\n",
    "#   90 - 100           \"Excellent\"\n",
    "#   78 - 89            \"Good\"\n",
    "#   65 - 77            \"OK\"\n",
    "#   55 - 64            \"Poor\"\n",
    "#   0  - 54            \"Unacceptable\"\n",
    "\n",
    "score_list = [17, 98, 100, 54, 56, 65, 72, 89, 90]\n",
    "word_list  = [ ]\n",
    "\n",
    "for score in score_list:\n",
    "    if score >= 90:\n",
    "        word = \"Excellent\"\n",
    "        # at this point, Python jumps past all remaining elifs and else\n",
    "    elif score >= 78:\n",
    "        word = \"Good\"\n",
    "        # at this point, Python jumps past all remaining elifs and else\n",
    "    elif score >= 65:\n",
    "        word = \"OK\"\n",
    "        # at this point, Python jumps past all remaining elifs and else\n",
    "    elif score >= 55:\n",
    "        word = \"Poor\"\n",
    "        # at this point, Python jumps past the remaining else        \n",
    "    else:\n",
    "        word = \"Unacceptable\"\n",
    "    #\n",
    "    # Add word to word_list\n",
    "    word_list.append(word)\n",
    "#\n",
    "\n",
    "n = len(score_list)\n",
    "for index in range(n):\n",
    "    score = score_list[index]\n",
    "    word = word_list[index]\n",
    "    print(score, 'is', word)\n",
    "#"
   ]
  },
  {
   "cell_type": "markdown",
   "metadata": {},
   "source": [
    "## pandas to read, then filter data"
   ]
  },
  {
   "cell_type": "code",
   "execution_count": 20,
   "metadata": {
    "collapsed": false,
    "scrolled": true
   },
   "outputs": [
    {
     "data": {
      "text/html": [
       "<div>\n",
       "<table border=\"1\" class=\"dataframe\">\n",
       "  <thead>\n",
       "    <tr style=\"text-align: right;\">\n",
       "      <th></th>\n",
       "      <th>name</th>\n",
       "      <th>gender</th>\n",
       "      <th>count</th>\n",
       "    </tr>\n",
       "  </thead>\n",
       "  <tbody>\n",
       "    <tr>\n",
       "      <th>0</th>\n",
       "      <td>Emily</td>\n",
       "      <td>F</td>\n",
       "      <td>21385</td>\n",
       "    </tr>\n",
       "    <tr>\n",
       "      <th>1</th>\n",
       "      <td>Emma</td>\n",
       "      <td>F</td>\n",
       "      <td>19104</td>\n",
       "    </tr>\n",
       "    <tr>\n",
       "      <th>2</th>\n",
       "      <td>Madison</td>\n",
       "      <td>F</td>\n",
       "      <td>18610</td>\n",
       "    </tr>\n",
       "    <tr>\n",
       "      <th>3</th>\n",
       "      <td>Isabella</td>\n",
       "      <td>F</td>\n",
       "      <td>18212</td>\n",
       "    </tr>\n",
       "    <tr>\n",
       "      <th>4</th>\n",
       "      <td>Ava</td>\n",
       "      <td>F</td>\n",
       "      <td>16935</td>\n",
       "    </tr>\n",
       "    <tr>\n",
       "      <th>5</th>\n",
       "      <td>Abigail</td>\n",
       "      <td>F</td>\n",
       "      <td>15621</td>\n",
       "    </tr>\n",
       "    <tr>\n",
       "      <th>6</th>\n",
       "      <td>Olivia</td>\n",
       "      <td>F</td>\n",
       "      <td>15487</td>\n",
       "    </tr>\n",
       "    <tr>\n",
       "      <th>7</th>\n",
       "      <td>Hannah</td>\n",
       "      <td>F</td>\n",
       "      <td>14535</td>\n",
       "    </tr>\n",
       "    <tr>\n",
       "      <th>8</th>\n",
       "      <td>Sophia</td>\n",
       "      <td>F</td>\n",
       "      <td>13493</td>\n",
       "    </tr>\n",
       "    <tr>\n",
       "      <th>9</th>\n",
       "      <td>Samantha</td>\n",
       "      <td>F</td>\n",
       "      <td>12453</td>\n",
       "    </tr>\n",
       "    <tr>\n",
       "      <th>10</th>\n",
       "      <td>Elizabeth</td>\n",
       "      <td>F</td>\n",
       "      <td>12411</td>\n",
       "    </tr>\n",
       "    <tr>\n",
       "      <th>11</th>\n",
       "      <td>Ashley</td>\n",
       "      <td>F</td>\n",
       "      <td>12336</td>\n",
       "    </tr>\n",
       "    <tr>\n",
       "      <th>12</th>\n",
       "      <td>Mia</td>\n",
       "      <td>F</td>\n",
       "      <td>12015</td>\n",
       "    </tr>\n",
       "    <tr>\n",
       "      <th>13</th>\n",
       "      <td>Alexis</td>\n",
       "      <td>F</td>\n",
       "      <td>11219</td>\n",
       "    </tr>\n",
       "    <tr>\n",
       "      <th>14</th>\n",
       "      <td>Sarah</td>\n",
       "      <td>F</td>\n",
       "      <td>11140</td>\n",
       "    </tr>\n",
       "    <tr>\n",
       "      <th>15</th>\n",
       "      <td>Grace</td>\n",
       "      <td>F</td>\n",
       "      <td>10962</td>\n",
       "    </tr>\n",
       "  </tbody>\n",
       "</table>\n",
       "</div>"
      ],
      "text/plain": [
       "         name gender  count\n",
       "0       Emily      F  21385\n",
       "1        Emma      F  19104\n",
       "2     Madison      F  18610\n",
       "3    Isabella      F  18212\n",
       "4         Ava      F  16935\n",
       "5     Abigail      F  15621\n",
       "6      Olivia      F  15487\n",
       "7      Hannah      F  14535\n",
       "8      Sophia      F  13493\n",
       "9    Samantha      F  12453\n",
       "10  Elizabeth      F  12411\n",
       "11     Ashley      F  12336\n",
       "12        Mia      F  12015\n",
       "13     Alexis      F  11219\n",
       "14      Sarah      F  11140\n",
       "15      Grace      F  10962"
      ]
     },
     "execution_count": 20,
     "metadata": {},
     "output_type": "execute_result"
    }
   ],
   "source": [
    "import pandas as pd\n",
    "\n",
    "url = 'http://www.cs.uoregon.edu/Classes/17W/cis122/data/yob2006.csv'\n",
    "name_data = pd.read_csv(url)\n",
    "name_data[0:10] # show 1st 10 rows of data\n",
    "# Emily F 21385\n",
    "# in 2006, \"Emily\" was the name for 21385 Female babies (\"F\") born in USA\n",
    "# Column names\n",
    "#   name    baby name such as 'Madison'\n",
    "#   gender  F or M\n",
    "#   count   int number of babies born with this name"
   ]
  },
  {
   "cell_type": "markdown",
   "metadata": {},
   "source": [
    "## filter pandas data to names_found"
   ]
  },
  {
   "cell_type": "code",
   "execution_count": 21,
   "metadata": {
    "collapsed": false
   },
   "outputs": [
    {
     "data": {
      "text/html": [
       "<div>\n",
       "<table border=\"1\" class=\"dataframe\">\n",
       "  <thead>\n",
       "    <tr style=\"text-align: right;\">\n",
       "      <th></th>\n",
       "      <th>name</th>\n",
       "      <th>gender</th>\n",
       "      <th>count</th>\n",
       "    </tr>\n",
       "  </thead>\n",
       "  <tbody>\n",
       "    <tr>\n",
       "      <th>2</th>\n",
       "      <td>Madison</td>\n",
       "      <td>F</td>\n",
       "      <td>18610</td>\n",
       "    </tr>\n",
       "    <tr>\n",
       "      <th>22037</th>\n",
       "      <td>Madison</td>\n",
       "      <td>M</td>\n",
       "      <td>67</td>\n",
       "    </tr>\n",
       "  </tbody>\n",
       "</table>\n",
       "</div>"
      ],
      "text/plain": [
       "          name gender  count\n",
       "2      Madison      F  18610\n",
       "22037  Madison      M     67"
      ]
     },
     "execution_count": 21,
     "metadata": {},
     "output_type": "execute_result"
    }
   ],
   "source": [
    "who = 'Madison'\n",
    "# in a query string, @xxx refers to a variable xxx\n",
    "names_found = name_data.query('name == @who') # @who means the variable who\n",
    "names_found"
   ]
  }
 ],
 "metadata": {
  "kernelspec": {
   "display_name": "Python [conda root]",
   "language": "python",
   "name": "conda-root-py"
  },
  "language_info": {
   "codemirror_mode": {
    "name": "ipython",
    "version": 3
   },
   "file_extension": ".py",
   "mimetype": "text/x-python",
   "name": "python",
   "nbconvert_exporter": "python",
   "pygments_lexer": "ipython3",
   "version": "3.5.2"
  }
 },
 "nbformat": 4,
 "nbformat_minor": 2
}
