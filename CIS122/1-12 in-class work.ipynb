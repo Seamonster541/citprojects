{
 "cells": [
  {
   "cell_type": "markdown",
   "metadata": {},
   "source": [
    "# Call sum() function   (# = bigger ### = smaller)"
   ]
  },
  {
   "cell_type": "code",
   "execution_count": 11,
   "metadata": {
    "collapsed": false
   },
   "outputs": [
    {
     "name": "stdout",
     "output_type": "stream",
     "text": [
      "Grades [22, 27, 29, 14, 30, 21]\n",
      "Total Points 143\n",
      "Average 23.833333333333332\n",
      "Rounded average 23.8\n",
      "Max 30\n",
      "Min 14\n"
     ]
    }
   ],
   "source": [
    "#variables with defined values grade has values total adds up those values number gets the ammount of grades\n",
    "grade_points = [22, 27,29, 14, 30, 21]\n",
    "total_points = sum(grade_points)\n",
    "number_of_grades = len(grade_points)\n",
    "\n",
    "#print the grades and total\n",
    "print(\"Grades\", grade_points)\n",
    "print(\"Total Points\", total_points)\n",
    "\n",
    "#computes and print the average grade\n",
    "average_grade = total_points / number_of_grades\n",
    "print(\"Average\", average_grade)\n",
    "\n",
    "#computes and print the rounded average value round(x, # of dec)\n",
    "rounded_average = round(average_grade, 1)\n",
    "print(\"Rounded average\", rounded_average)\n",
    "\n",
    "#max/min of the grades given\n",
    "print(\"Max\", max(grade_points))\n",
    "print(\"Min\", min(grade_points))"
   ]
  },
  {
   "cell_type": "markdown",
   "metadata": {},
   "source": [
    "# Budget    (<=, >=, ==, !=)"
   ]
  },
  {
   "cell_type": "code",
   "execution_count": 18,
   "metadata": {
    "collapsed": false
   },
   "outputs": [
    {
     "name": "stdout",
     "output_type": "stream",
     "text": [
      "Price: 37.5 is within budget: 50.0\n",
      "Buy the product\n",
      "New Budget amount: 12.5\n"
     ]
    }
   ],
   "source": [
    "#variables with value\n",
    "budget = 50.00\n",
    "price = 37.50\n",
    "\n",
    "#if/else statement that works with given variables and computes it\n",
    "if price <= budget:\n",
    "    print(\"Price:\" , price, \"is within budget:\", budget)\n",
    "    print(\"Buy the product\")\n",
    "    remaining = budget - price\n",
    "    budget = remaining\n",
    "    print(\"New Budget amount:\", budget)\n",
    "else:\n",
    "    print(\"Price:\", price, \"bigger than budget:\", budget)\n",
    "    print(\"DO NOT buy the product!\")   "
   ]
  }
 ],
 "metadata": {
  "anaconda-cloud": {},
  "kernelspec": {
   "display_name": "Python [conda root]",
   "language": "python",
   "name": "conda-root-py"
  },
  "language_info": {
   "codemirror_mode": {
    "name": "ipython",
    "version": 3
   },
   "file_extension": ".py",
   "mimetype": "text/x-python",
   "name": "python",
   "nbconvert_exporter": "python",
   "pygments_lexer": "ipython3",
   "version": "3.5.2"
  }
 },
 "nbformat": 4,
 "nbformat_minor": 1
}
