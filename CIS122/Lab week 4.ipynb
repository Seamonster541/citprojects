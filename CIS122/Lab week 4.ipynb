{
 "cells": [
  {
   "cell_type": "code",
   "execution_count": null,
   "metadata": {
    "collapsed": false
   },
   "outputs": [],
   "source": [
    "number_of_transactions = 3\n",
    "list_of_transactions = []\n",
    "list_of_transaction_details = []\n",
    "\n",
    "for count in range(number_of_transactions):\n",
    "    transaction = input('type amount of transaction: ')\n",
    "    number = float(transaction)\n",
    "    list_of_transactions.append(number)\n",
    "    \n",
    "    detail = input('describe transaction: ')\n",
    "    list_of_transaction_details.append(detail)\n",
    "    \n",
    "minimum = min(list_of_transactions)\n",
    "maximum = max(list_of_transactions)\n",
    "avg = sum(list_of_transactions)/len(list_of_transactions)\n",
    "print('min: ', minimum, '\\nmax: ', maximum, '\\navg: ', avg)\n",
    "\n",
    "#for transaction in list_of_transactions:\n",
    " #   if transaction > avg:\n",
    "#      print(transaction)\n",
    "\n",
    "for i in range(len(list_of_transactions)):\n",
    "    transaction = list_of_transactions[i]\n",
    "    detail = list_of_transaction_details[i]\n",
    "    \n",
    "    if transaction > avg:\n",
    "        print(detail, transaction)\n"
   ]
  },
  {
   "cell_type": "code",
   "execution_count": 9,
   "metadata": {
    "collapsed": false
   },
   "outputs": [
    {
     "data": {
      "text/plain": [
       "([<matplotlib.axis.XTick at 0xd1bae4bc18>,\n",
       "  <matplotlib.axis.XTick at 0xd1bae4bf98>,\n",
       "  <matplotlib.axis.XTick at 0xd1bae36c88>],\n",
       " <a list of 3 Text xticklabel objects>)"
      ]
     },
     "execution_count": 9,
     "metadata": {},
     "output_type": "execute_result"
    },
    {
     "data": {
      "image/png": "[encoded data removed]",
      "text/plain": [
       "<matplotlib.figure.Figure at 0xd1bade3860>"
      ]
     },
     "metadata": {},
     "output_type": "display_data"
    }
   ],
   "source": [
    "import matplotlib.pyplot as plt\n",
    "%matplotlib inline\n",
    "\n",
    "x = [1, 2, 3]\n",
    "plt.bar(x, list_of_transactions, align='center')\n",
    "plt.xticks(x, list_of_transaction_details)"
   ]
  },
  {
   "cell_type": "code",
   "execution_count": null,
   "metadata": {
    "collapsed": true
   },
   "outputs": [],
   "source": []
  }
 ],
 "metadata": {
  "anaconda-cloud": {},
  "kernelspec": {
   "display_name": "Python [conda root]",
   "language": "python",
   "name": "conda-root-py"
  },
  "language_info": {
   "codemirror_mode": {
    "name": "ipython",
    "version": 3
   },
   "file_extension": ".py",
   "mimetype": "text/x-python",
   "name": "python",
   "nbconvert_exporter": "python",
   "pygments_lexer": "ipython3",
   "version": "3.5.2"
  }
 },
 "nbformat": 4,
 "nbformat_minor": 1
}
