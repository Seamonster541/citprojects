{
 "cells": [
  {
   "cell_type": "markdown",
   "metadata": {},
   "source": [
    "# Bar Chart, labels, title, colors\n",
    "Let's add some *colors* in my **plot**"
   ]
  },
  {
   "cell_type": "code",
   "execution_count": 12,
   "metadata": {
    "collapsed": false
   },
   "outputs": [
    {
     "data": {
      "image/png": "[encoded data removed]",
      "text/plain": [
       "<matplotlib.figure.Figure at 0x673d1a74e0>"
      ]
     },
     "metadata": {},
     "output_type": "display_data"
    }
   ],
   "source": [
    "# required\n",
    "import matplotlib.pyplot as plt\n",
    "\n",
    "# \"Magic\" notebook command\n",
    "%matplotlib inline\n",
    "\n",
    "hill_heights = [44, 55, 22, 66, 78.9]\n",
    "\n",
    "hill_numbers = [0, 1, 2, 3, 4]\n",
    "hill_colors = ['Red', 'Red', 'Gold', 'Red', 'Red']\n",
    "\n",
    "hill_names = ['Skinner\\n Butte', 'Kelly\\n Butte', 'College\\n Hill', 'Spencer\\n Butte', 'Mt. Pisgah']\n",
    "\n",
    "# Create a bar chart\n",
    "plt.bar(hill_numbers, hill_heights, color=hill_colors, align='center')\n",
    "\n",
    "# Add the labels to the bar chart\n",
    "plt.xticks(hill_numbers, hill_names)\n",
    "\n",
    "# Label the axes\n",
    "plt.xlabel('Hills')\n",
    "plt.ylabel('Heights of hills')\n",
    "\n",
    "# Add a title\n",
    "plt.title(\"Eugene Springfield Hills\")\n",
    "\n",
    "# Show the bar chart\n",
    "plt.show()"
   ]
  },
  {
   "cell_type": "markdown",
   "metadata": {},
   "source": [
    "# Practice escape sequences"
   ]
  },
  {
   "cell_type": "code",
   "execution_count": 7,
   "metadata": {
    "collapsed": false
   },
   "outputs": [
    {
     "name": "stdout",
     "output_type": "stream",
     "text": [
      "Never\n",
      "Ever\n",
      "Do that again\n"
     ]
    }
   ],
   "source": [
    "print(\"Never\\nEver\\nDo that again\")"
   ]
  },
  {
   "cell_type": "code",
   "execution_count": 9,
   "metadata": {
    "collapsed": false
   },
   "outputs": [
    {
     "name": "stdout",
     "output_type": "stream",
     "text": [
      "I don't know\n",
      "She said \"who's there?\"\n"
     ]
    }
   ],
   "source": [
    "print(\"I don\\'t know\")\n",
    "print('She said \"who\\'s there?\"')"
   ]
  },
  {
   "cell_type": "markdown",
   "metadata": {},
   "source": [
    "# Plain iteration - work through the list"
   ]
  },
  {
   "cell_type": "code",
   "execution_count": 40,
   "metadata": {
    "collapsed": false
   },
   "outputs": [
    {
     "name": "stdout",
     "output_type": "stream",
     "text": [
      "Some western states\n",
      "['Hawaii', 'Alaska', 'Washington', 'Idaho', 'Montana', 'Colorado', 'Oregon', 'California']\n",
      "Hawaii \t A sunny Pacific state!\n",
      "\n",
      "Alaska \t \n",
      "\n",
      "Washington \t \n",
      "\n",
      "Idaho \t \n",
      "\n",
      "Montana \t \n",
      "\n",
      "Colorado \t \n",
      "\n",
      "Oregon \t \n",
      "\n",
      "California \t A sunny Pacific state!\n",
      "\n",
      "Done!\n"
     ]
    }
   ],
   "source": [
    "western_states = ['Hawaii', 'Alaska', 'Washington', 'Idaho', 'Montana', 'Colorado',\n",
    "                 'Oregon', 'California']\n",
    "note =''\n",
    "title = 'Some western states'\n",
    "print(title)\n",
    "print(western_states)\n",
    "\n",
    "# Iterate\n",
    "for state in western_states:\n",
    "    \n",
    "    if (state =='Hawaii') or (state =='California'):\n",
    "        note = 'A sunny Pacific state!'\n",
    "    else:\n",
    "        note = ''\n",
    "    #\n",
    "    print(state, '\\t', note)\n",
    "    print()\n",
    "#\n",
    "print('Done!')"
   ]
  },
  {
   "cell_type": "markdown",
   "metadata": {},
   "source": [
    "# Iterate through a list of numbers"
   ]
  },
  {
   "cell_type": "code",
   "execution_count": 17,
   "metadata": {
    "collapsed": false
   },
   "outputs": [
    {
     "name": "stdout",
     "output_type": "stream",
     "text": [
      "Points earned and running total of points\n",
      "\n",
      "Score: 44 Running total: 44 \n",
      "Score: 37.5 Running total: 81.5 \n",
      "Score: 199 Running total: 280.5 ** Great score! **\n",
      "Score: 214 Running total: 494.5 ** Great score! **\n",
      "Score: 76 Running total: 570.5 \n",
      "\n",
      "Grand total: 570.5\n"
     ]
    }
   ],
   "source": [
    "running_total = 0\n",
    "good_score = 100\n",
    "point_list = [44,37.5, 199, 214, 76]\n",
    "\n",
    "print(\"Points earned and running total of points\")\n",
    "print()\n",
    "\n",
    "#Iterate\n",
    "for score in point_list:\n",
    "    new_total = running_total + score\n",
    "    running_total = new_total\n",
    "    \n",
    "    message ='' #no message, usually\n",
    "    \n",
    "    if score >= good_score:\n",
    "            message = \"** Great score! **\"\n",
    "\n",
    "    print(\"Score:\", score, \"Running total:\", running_total, message)\n",
    "#\n",
    "print()\n",
    "print(\"Grand total:\", running_total)"
   ]
  },
  {
   "cell_type": "code",
   "execution_count": null,
   "metadata": {
    "collapsed": true
   },
   "outputs": [],
   "source": []
  }
 ],
 "metadata": {
  "anaconda-cloud": {},
  "kernelspec": {
   "display_name": "Python [conda root]",
   "language": "python",
   "name": "conda-root-py"
  },
  "language_info": {
   "codemirror_mode": {
    "name": "ipython",
    "version": 3
   },
   "file_extension": ".py",
   "mimetype": "text/x-python",
   "name": "python",
   "nbconvert_exporter": "python",
   "pygments_lexer": "ipython3",
   "version": "3.5.2"
  }
 },
 "nbformat": 4,
 "nbformat_minor": 1
}
