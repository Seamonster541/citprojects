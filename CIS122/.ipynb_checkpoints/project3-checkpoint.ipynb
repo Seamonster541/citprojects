{
 "cells": [
  {
   "cell_type": "markdown",
   "metadata": {
    "collapsed": true
   },
   "source": [
    "# Project 3 by Simon Eeds"
   ]
  },
  {
   "cell_type": "markdown",
   "metadata": {},
   "source": [
    "### Part A    Get input data, convert to a number as needed\n",
    "*6 points* (1 point for input data, 1 point for conversion if any)\n",
    "\n",
    "Using the **input( )** function to get *data from a user*<br>\n",
    "```python\n",
    "my_major = input(\"Type your major: \")\n",
    "\n",
    "Type your major: \n",
    "\n",
    "# (Now the person using the program types something like MATH)\n",
    "\n",
    "```\n",
    "\n",
    "Converting typed data (str) to a whole number (int)<br>\n",
    "```python\n",
    "my_answer = input(\"How many laptop computers do you own? \")\n",
    "print(type(my_answer))\n",
    "\n",
    "# convert to an int (whole number)\n",
    "computers = int(my_answer)\n",
    "print(type(computers))\n",
    "print(\"You own\", computers, \"laptops\")\n",
    "\n",
    "# User sees\n",
    "How many computers do you own? 1\n",
    "\n",
    "<class str>     # from print(type(my_answer)) \n",
    "<class int>     # from print(type(computers)) \n",
    "You own 1 laptops\n",
    "\n",
    "```\n",
    "Get the **name** of a person (it is a string so no conversion needed)<br>\n",
    "Get the person's **age** and **convert** the answer to an **int** (whole number)<br>\n",
    "Get the **price** of an item and **convert** it to a **float** (decimal number)<br>\n",
    "\n",
    "Print the person's name and age<br>\n",
    "Print how old the person will be 3 years from now<br>\n",
    "Print the total due after adding a 10% sales tax to the price"
   ]
  },
  {
   "cell_type": "code",
   "execution_count": 8,
   "metadata": {
    "collapsed": false
   },
   "outputs": [
    {
     "name": "stdout",
     "output_type": "stream",
     "text": [
      "Person name: j\n",
      "Person age: 1\n",
      "j is 1\n",
      "j will be 4 in three years.\n",
      "Price: 20\n",
      "The total price after tax is $ 22.0\n"
     ]
    }
   ],
   "source": [
    "# Your Python goes here:\n",
    "\n",
    "name = input(\"Person name: \")\n",
    "age = input(\"Person age: \")\n",
    "age = int(age)\n",
    "\n",
    "print(name, \"is\", age)\n",
    "print(name, \"will be\", (age+3), \"in three years.\")\n",
    "\n",
    "price = input(\"Price: \")\n",
    "price = float(price)\n",
    "tax = price * .10\n",
    "total = price + tax\n",
    "print(\"The total price after tax is $\", total)"
   ]
  },
  {
   "cell_type": "markdown",
   "metadata": {},
   "source": [
    "### Part B\n",
    "*6 points*<br>\n",
    "Work with **static lists**; **iterate**"
   ]
  },
  {
   "cell_type": "code",
   "execution_count": 3,
   "metadata": {
    "collapsed": false
   },
   "outputs": [
    {
     "name": "stdout",
     "output_type": "stream",
     "text": [
      "32\n",
      "29\n",
      "24\n",
      "21\n",
      "13\n",
      "13\n",
      "24\n",
      "28\n",
      "35\n",
      "34\n",
      "29\n",
      "26\n",
      "24\n",
      "21\n",
      "21\n",
      "24\n",
      "27\n",
      "45\n",
      "40\n",
      "\n",
      "32 Freeze\n",
      "29 Freeze\n",
      "24 Freeze\n",
      "21 Freeze\n",
      "13 Freeze\n",
      "13 Freeze\n",
      "24 Freeze\n",
      "28 Freeze\n",
      "35 \n",
      "34 \n",
      "29 Freeze\n",
      "26 Freeze\n",
      "24 Freeze\n",
      "21 Freeze\n",
      "21 Freeze\n",
      "24 Freeze\n",
      "27 Freeze\n",
      "45 \n",
      "40 \n",
      "\n",
      "32  \n",
      "29  \n",
      "24  \n",
      "21  \n",
      "13 Coldest \n",
      "13 Coldest \n",
      "24  \n",
      "28  \n",
      "35  \n",
      "34  \n",
      "29  \n",
      "26  \n",
      "24  \n",
      "21  \n",
      "21  \n",
      "24  \n",
      "27  \n",
      "45  Warmest\n",
      "40  \n"
     ]
    }
   ],
   "source": [
    "# Official low daily temperatures, Eugene, 2017 through Jan 19\n",
    " \n",
    "low_temperatures = [32, 29, 24, 21, 13, 13, 24, 28, 35, 34,\n",
    "                    29, 26, 24, 21, 21, 24, 27, 45, 40]\n",
    "\n",
    "# a) Iterate through the list displaying each temperature on a separate line\n",
    "#    1 point (iterate)\n",
    "\n",
    "\n",
    "for temp in low_temperatures:\n",
    "    print(temp)\n",
    "print()\n",
    "\n",
    "#  b)Iterate again, but add a comment 'Freeze' for each day the \n",
    "#    temperature is 32 or lower.  2 points (iterate, Freeze)\n",
    "\n",
    "for temp in low_temperatures:\n",
    "    if temp <= 32:\n",
    "        Freeze = \"Freeze\"      #or print(temp, \"Freeze\")\n",
    "    else:\n",
    "        Freeze = \"\"            #or print(temp)\n",
    "    print(temp, Freeze)\n",
    "print()\n",
    "    \n",
    "\n",
    "#  c)Iterate again, adding a comment \"Coldest\" on the coldest day or \n",
    "#    days and adding a comment \"Warmest\" on the warmest day or days\n",
    "#    3 points (iterate, Coldest, Warmest)\n",
    "\n",
    "cold = min(low_temperatures)\n",
    "warm = max(low_temperatures)\n",
    "\n",
    "for temp in low_temperatures:\n",
    "    if (temp == cold):\n",
    "        Coldest = \"Coldest\"\n",
    "    elif (temp == warm):\n",
    "        Warmest = \"Warmest\"\n",
    "    else:\n",
    "        Coldest =''\n",
    "        Warmest =''\n",
    "        \n",
    "    print(temp, Coldest, Warmest)"
   ]
  },
  {
   "cell_type": "markdown",
   "metadata": {},
   "source": [
    "### Part C  modify individual items in a list\n",
    "*6 points*<br>\n",
    "Use index values to **modify** values of individual items in a list\n",
    "\n",
    "Why are we setting limits on what you can do to clean up our list?\n",
    "Later, we will be reading **files** or **web pages** to gather lots of data; some of it will need fixing.<br> \n",
    "\n",
    "If you just type corrections to the data and fix, say 20, bad names but then need to rerun your program, you will have to type all 20 fixes yet again.<br>\n",
    "\n",
    "Instead, *using your program to make fixes is a better idea*.\n",
    "So that is what we are practicing in this exercise."
   ]
  },
  {
   "cell_type": "code",
   "execution_count": 26,
   "metadata": {
    "collapsed": false
   },
   "outputs": [
    {
     "name": "stdout",
     "output_type": "stream",
     "text": [
      "Portland\n",
      "Salem\n",
      "Eugene\n",
      "Medford\n",
      "Ashland\n"
     ]
    }
   ],
   "source": [
    "#           0            1         2        3          4\n",
    "cities = ['Portland', 'Salen', 'Eugene', 'Medford', 'Beaverton']\n",
    "# Do NOT MODIFY the line above or you will get 0 points.\n",
    "\n",
    "# Instead write a Python statement to modify the item with 'Salen';\n",
    "# update it to have the value 'Salem'\n",
    "# Write your Python below.\n",
    "# 2 points\n",
    "\n",
    "cities[1] = 'Salem'\n",
    "#print(cities)\n",
    "\n",
    "\n",
    "# Write Python to find the length (number of items) in the cities list.\n",
    "# 1 point\n",
    "\n",
    "list = len(cities)\n",
    "#print(list)\n",
    "\n",
    "\n",
    "# Write Python to change the last city in the list to 'Ashland'\n",
    "# 2 points\n",
    "\n",
    "cities[4] = 'Ashland'\n",
    "#print(cities)\n",
    "\n",
    "\n",
    "# Iterate through the list, printing each city from the modified list,\n",
    "# one city per line\n",
    "# 1 point\n",
    "\n",
    "for list in cities:\n",
    "    print(list)\n",
    "\n"
   ]
  },
  {
   "cell_type": "markdown",
   "metadata": {},
   "source": [
    "### Part D Append new data to a list\n",
    "*6 points*\n",
    "```python\n",
    "my_list = [ ]\n",
    "\n",
    "animal_1 = 'Elephant'\n",
    "my_list.append(animal_1)\n",
    "\n",
    "animal_2 = 'Giraffe'\n",
    "my_list.append(animal_2)\n",
    "\n",
    "print(my_list)\n",
    "\n",
    "# prints\n",
    "['Elephant', 'Giraffe']\n",
    "```"
   ]
  },
  {
   "cell_type": "code",
   "execution_count": 1,
   "metadata": {
    "collapsed": false
   },
   "outputs": [
    {
     "name": "stdout",
     "output_type": "stream",
     "text": [
      "Favorite tree: maple\n",
      "Favorite tree: timber\n",
      "Favorite tree: apple\n",
      "Favorite tree: sakura\n",
      "Favorite tree: fur\n",
      "Favorite tree: oak\n",
      "\n",
      "maple\n",
      "timber\n",
      "apple\n",
      "sakura\n",
      "fur\n",
      "oak\n"
     ]
    }
   ],
   "source": [
    "# Create an empty list to hold your 6 favorite kinds of trees.\n",
    "# Ask a user to input her favorite kinds of trees.\n",
    "# Append each answer to the list.\n",
    "\n",
    "# When you have the favorites, iterate through the list to print each on \n",
    "# a separate line.\n",
    "\n",
    "# 1 point  well-named empty list \n",
    "# 1 points for loop that runs 6 times \n",
    "# 1 point  call input to get tree\n",
    "# 2 points append tree to your list\n",
    "# 1 iterate, printing \n",
    "\n",
    "trees = []\n",
    "for i in range(6):\n",
    "    tree_list = input(\"Favorite tree: \")\n",
    "    trees.append(tree_list)\n",
    "print()\n",
    "\n",
    "for list in trees:\n",
    "    print(list)"
   ]
  },
  {
   "cell_type": "markdown",
   "metadata": {},
   "source": [
    "### Part E Iteration with selective action for several states\n",
    "*6 points*<br>\n",
    "Select a group of states from a **states_list** such as 'OK', 'MT'<br>\n",
    "iterate through the list, adding a comment 'great place to visit'\n",
    "to the selected states (OK and MT in this example) <br>\n",
    "\t\n",
    "Hint: <br>\n",
    "Iterate using a **for** loop, \n",
    "Select using something like **if** state **in [**'OK', 'MT'**]:** "
   ]
  },
  {
   "cell_type": "code",
   "execution_count": 38,
   "metadata": {
    "collapsed": false
   },
   "outputs": [
    {
     "name": "stdout",
     "output_type": "stream",
     "text": [
      "AK\n",
      "AZ great place to visit\n",
      "CA great place to visit\n",
      "CO\n",
      "HI\n",
      "MI\n",
      "MN\n",
      "MT\n",
      "ND\n",
      "NM\n",
      "NV great place to visit\n",
      "OH\n",
      "OK\n",
      "OR\n",
      "SD\n",
      "UT great place to visit\n",
      "WA\n",
      "WI\n",
      "WY\n"
     ]
    }
   ],
   "source": [
    "states_list = ['AK', 'AZ', 'CA', 'CO', \n",
    "               'HI', 'MI', 'MN', 'MT', \n",
    "               'ND', 'NM', 'NV', 'OH', \n",
    "               'OK', 'OR', 'SD', 'UT', \n",
    "               'WA', 'WI', 'WY']\n",
    "\n",
    "# Iterate through this states_list,\n",
    "# if the state is any one of AZ, CA, UT or NV, add a comment\n",
    "# 'great place to visit' to the state code.\n",
    "# Print each state along with a comment when needed, all on \n",
    "# separate lines.\n",
    "\n",
    "# 1 point, iterate\n",
    "# 3 points if to check for any of the states needing special attention\n",
    "# 2 points print state code and if needed, a comment\n",
    "\n",
    "for states in states_list:\n",
    "    if states in ['AZ', 'CA', 'UT', 'NV']:\n",
    "        print(states, 'great place to visit')\n",
    "    else:\n",
    "        print(states)\n",
    "\n",
    "\n",
    "\n"
   ]
  },
  {
   "cell_type": "markdown",
   "metadata": {},
   "source": [
    "### Bonus\n",
    "*2 points*<br>\n",
    "Display this data as a Pie Chart\n",
    "\n",
    "One year for University of Prineville\n",
    "```\n",
    "Tuition       4,675.00\n",
    "Books           432.75\n",
    "Room & Board  9,674.00\n",
    "Misc.         1,500.00\n",
    "```"
   ]
  },
  {
   "cell_type": "code",
   "execution_count": 12,
   "metadata": {
    "collapsed": false
   },
   "outputs": [
    {
     "data": {
      "image/png": "[encoded data removed]",
      "text/plain": [
       "<matplotlib.figure.Figure at 0x94e98604a8>"
      ]
     },
     "metadata": {},
     "output_type": "display_data"
    }
   ],
   "source": [
    "### Pie Chart\n",
    "import matplotlib.pyplot as plt\n",
    "%matplotlib inline\n",
    "\n",
    "cost = [4675.00, 432.75, 9674.00, 1500.00]\n",
    "\n",
    "cost_labels = ['Tuition', 'Books', 'Room & Board', 'Misc.']\n",
    "\n",
    "plt.title(\"One year for University of Prineville\")\n",
    "\n",
    "plt.pie(cost, labels=cost_labels)\n",
    "\n",
    "plt.show()"
   ]
  }
 ],
 "metadata": {
  "anaconda-cloud": {},
  "kernelspec": {
   "display_name": "Python [conda root]",
   "language": "python",
   "name": "conda-root-py"
  },
  "language_info": {
   "codemirror_mode": {
    "name": "ipython",
    "version": 3
   },
   "file_extension": ".py",
   "mimetype": "text/x-python",
   "name": "python",
   "nbconvert_exporter": "python",
   "pygments_lexer": "ipython3",
   "version": "3.5.2"
  }
 },
 "nbformat": 4,
 "nbformat_minor": 1
}
