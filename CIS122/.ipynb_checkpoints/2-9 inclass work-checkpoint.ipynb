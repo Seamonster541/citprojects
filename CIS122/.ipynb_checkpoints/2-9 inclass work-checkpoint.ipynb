{
 "cells": [
  {
   "cell_type": "code",
   "execution_count": 10,
   "metadata": {
    "collapsed": false
   },
   "outputs": [
    {
     "name": "stdout",
     "output_type": "stream",
     "text": [
      "Number of turkeys? no\n",
      "oops - please type a digits only\n",
      "Number of turkeys? 22\n",
      "22 wild turkeys noticed today\n"
     ]
    }
   ],
   "source": [
    "def get_int (prompt_string):\n",
    "    \"\"\" Display prompt string, get user input,\n",
    "        try to convert it to a number return the number\n",
    "    \"\"\"\n",
    "    better_prompt = prompt_string + ' '\n",
    "    typing = input(better_prompt)\n",
    "    try:\n",
    "        number = int(typing)\n",
    "    except:\n",
    "        print('oops - please type a digits only')\n",
    "        number = get_int(prompt_string)\n",
    "    return number \n",
    "\n",
    "my_request = \"Number of turkeys?\"\n",
    "\n",
    "turkeys_count = get_int(my_request)\n",
    "\n",
    "print(turkeys_count, \"wild turkeys noticed today\")"
   ]
  },
  {
   "cell_type": "code",
   "execution_count": 12,
   "metadata": {
    "collapsed": false
   },
   "outputs": [
    {
     "name": "stdout",
     "output_type": "stream",
     "text": [
      "Type test score 20\n",
      "20 earns a grade of N\n"
     ]
    }
   ],
   "source": [
    "def get_int (prompt_string):\n",
    "    \"\"\" Display prompt string, get user input,\n",
    "        try to convert it to a number return the number\n",
    "    \"\"\"\n",
    "    better_prompt = prompt_string + ' '\n",
    "    typing = input(better_prompt)\n",
    "    try:\n",
    "        number = int(typing)\n",
    "    except:\n",
    "        print('oops - please type a digits only')\n",
    "        number = get_int(prompt_string)\n",
    "    return number \n",
    "\n",
    "prompt = 'Type test score'\n",
    "score = get_int(prompt)\n",
    "\n",
    "if score >= 90:\n",
    "    grade = 'A'\n",
    "elif score >= 83:\n",
    "    grade = 'B'\n",
    "elif score >= 68:\n",
    "    grade = 'C'\n",
    "else:\n",
    "    grade = 'N'\n",
    "#\n",
    "print(score, 'earns a grade of', grade)"
   ]
  },
  {
   "cell_type": "code",
   "execution_count": 17,
   "metadata": {
    "collapsed": false
   },
   "outputs": [
    {
     "name": "stdout",
     "output_type": "stream",
     "text": [
      "{'PSU': 'Protland', 'OSU': 'Corvallis', 'WSU': 'Pullman', 'NCC': 'Eugene', 'UO': 'Eugene'}\n",
      "Protland home of PSU\n",
      "key is PSU value is Protland\n",
      "key is OSU value is Corvallis\n",
      "key is WSU value is Pullman\n",
      "key is NCC value is Eugene\n",
      "key is UO value is Eugene\n",
      "Done!\n"
     ]
    }
   ],
   "source": [
    "college_dict = {'UO' : 'Eugene',\n",
    "               'OSU' : 'Corvallis',\n",
    "               'PSU' : 'Protland',\n",
    "               'WSU' : 'Pullman',\n",
    "               'NCC' : 'Eugene'}\n",
    "print(college_dict)\n",
    "city = college_dict['PSU']\n",
    "print(city, 'home of', 'PSU')\n",
    "\n",
    "# iterate through the dictionary\n",
    "for college in college_dict:\n",
    "    city = college_dict[college]\n",
    "    print('key is', college, 'value is', city)\n",
    "#\n",
    "print('Done!')"
   ]
  },
  {
   "cell_type": "code",
   "execution_count": 18,
   "metadata": {
    "collapsed": true
   },
   "outputs": [],
   "source": [
    "# Create a new item in dictionary\n",
    "college_dict['EU'] = 'Euteka'"
   ]
  },
  {
   "cell_type": "code",
   "execution_count": 19,
   "metadata": {
    "collapsed": true
   },
   "outputs": [],
   "source": [
    "# update a item in dictionary\n",
    "college_dict['EU'] = 'Eureka'"
   ]
  },
  {
   "cell_type": "code",
   "execution_count": 20,
   "metadata": {
    "collapsed": false
   },
   "outputs": [
    {
     "name": "stdout",
     "output_type": "stream",
     "text": [
      "EU Eureka\n",
      "\n",
      "NCC Eugene\n",
      "\n",
      "OSU Corvallis\n",
      "\n",
      "PSU Protland\n",
      "\n",
      "UO Eugene\n",
      "\n",
      "WSU Pullman\n",
      "\n",
      "Done\n"
     ]
    }
   ],
   "source": [
    "# print dictionary sorted by key\n",
    "\n",
    "for college in sorted(college_dict):\n",
    "    #key\n",
    "    town = college_dict[college]\n",
    "    print(college, town)\n",
    "    print()\n",
    "#\n",
    "print('Done')\n"
   ]
  },
  {
   "cell_type": "code",
   "execution_count": 24,
   "metadata": {
    "collapsed": false
   },
   "outputs": [
    {
     "name": "stdout",
     "output_type": "stream",
     "text": [
      "Type bird such as duck or quit to end duck\n",
      "Type bird such as duck or quit to end duck\n",
      "Type bird such as duck or quit to end eagle\n",
      "Type bird such as duck or quit to end turkey\n",
      "Type bird such as duck or quit to end swan\n",
      "Type bird such as duck or quit to end duck\n",
      "Type bird such as duck or quit to end turkey\n",
      "Type bird such as duck or quit to end quit\n"
     ]
    }
   ],
   "source": [
    "bird_counts = { }\n",
    "\n",
    "bird = input(\"Type bird such as duck or quit to end \")\n",
    "while bird != 'quit':\n",
    "    if bird not in bird_counts:\n",
    "        bird_counts[bird] = 0\n",
    "      \n",
    "    bird_counts[bird] += 1\n",
    "    #new_count = bird_counts[bird] + 1\n",
    "    #bird_counts[bird] = new_count\n",
    "    \n",
    "    bird = input(\"Type bird such as duck or quit to end \")\n",
    "    "
   ]
  },
  {
   "cell_type": "code",
   "execution_count": 26,
   "metadata": {
    "collapsed": false
   },
   "outputs": [
    {
     "name": "stdout",
     "output_type": "stream",
     "text": [
      "\n",
      "duck \t 3\n",
      "eagle \t 1\n",
      "swan \t 1\n",
      "turkey \t 2\n",
      "Done!\n"
     ]
    }
   ],
   "source": [
    "print()\n",
    "for bird in sorted(bird_counts):\n",
    "    count = bird_counts[bird]\n",
    "    print(bird, '\\t', count)\n",
    "print('Done!')"
   ]
  },
  {
   "cell_type": "code",
   "execution_count": null,
   "metadata": {
    "collapsed": true
   },
   "outputs": [],
   "source": []
  }
 ],
 "metadata": {
  "anaconda-cloud": {},
  "kernelspec": {
   "display_name": "Python [conda root]",
   "language": "python",
   "name": "conda-root-py"
  },
  "language_info": {
   "codemirror_mode": {
    "name": "ipython",
    "version": 3
   },
   "file_extension": ".py",
   "mimetype": "text/x-python",
   "name": "python",
   "nbconvert_exporter": "python",
   "pygments_lexer": "ipython3",
   "version": "3.5.2"
  }
 },
 "nbformat": 4,
 "nbformat_minor": 1
}
