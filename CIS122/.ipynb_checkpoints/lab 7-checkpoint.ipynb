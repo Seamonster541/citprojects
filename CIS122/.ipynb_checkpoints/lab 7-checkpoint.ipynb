{
 "cells": [
  {
   "cell_type": "code",
   "execution_count": 1,
   "metadata": {
    "collapsed": true
   },
   "outputs": [],
   "source": [
    "transactions = [12.99, 4.24, 1.2, 40, 13.23, 5, 7.8 , 9.43, 1.3, 4]"
   ]
  },
  {
   "cell_type": "code",
   "execution_count": 2,
   "metadata": {
    "collapsed": false
   },
   "outputs": [
    {
     "name": "stdout",
     "output_type": "stream",
     "text": [
      "12.99\n",
      "4.24\n",
      "1.2\n",
      "40\n",
      "13.23\n",
      "5\n",
      "7.8\n",
      "9.43\n",
      "1.3\n",
      "4\n"
     ]
    }
   ],
   "source": [
    "for i in transactions:\n",
    "    print(i)"
   ]
  },
  {
   "cell_type": "code",
   "execution_count": 6,
   "metadata": {
    "collapsed": false
   },
   "outputs": [
    {
     "name": "stdout",
     "output_type": "stream",
     "text": [
      "[12.99, 40, 13.23, 7.8, 9.43]\n"
     ]
    }
   ],
   "source": [
    "list = []\n",
    "\n",
    "for i in transactions:\n",
    "    if i > 5:\n",
    "        list.append(i)\n",
    "    \n",
    "print(list)\n",
    "    "
   ]
  },
  {
   "cell_type": "code",
   "execution_count": 10,
   "metadata": {
    "collapsed": false
   },
   "outputs": [
    {
     "name": "stdout",
     "output_type": "stream",
     "text": [
      "9.5 euros\n"
     ]
    }
   ],
   "source": [
    "def usd_to_euro(n):\n",
    "    usd_to_euro = n*0.95\n",
    "    return usd_to_euro\n",
    "\n",
    "print(usd_to_euro(10), \"euros\")\n"
   ]
  },
  {
   "cell_type": "code",
   "execution_count": 16,
   "metadata": {
    "collapsed": false
   },
   "outputs": [
    {
     "name": "stdout",
     "output_type": "stream",
     "text": [
      "12.3405\n",
      "4.028\n",
      "1.14\n",
      "38.0\n",
      "12.5685\n",
      "4.75\n",
      "7.409999999999999\n",
      "8.958499999999999\n",
      "1.2349999999999999\n",
      "3.8\n"
     ]
    }
   ],
   "source": [
    "for i in transactions:\n",
    "    euro = usd_to_euro(i)\n",
    "    print(euro)"
   ]
  },
  {
   "cell_type": "code",
   "execution_count": 30,
   "metadata": {
    "collapsed": false
   },
   "outputs": [
    {
     "name": "stdout",
     "output_type": "stream",
     "text": [
      "-10\n",
      "-9\n",
      "-8\n",
      "-7\n",
      "-6\n",
      "-5\n",
      "-4\n",
      "-3\n",
      "-2\n",
      "-1\n"
     ]
    }
   ],
   "source": [
    "counter = 10\n",
    "\n",
    "while counter > 0:\n",
    "    print(counter)\n",
    "    counter -= 1  #or counter - 1"
   ]
  },
  {
   "cell_type": "code",
   "execution_count": 38,
   "metadata": {
    "collapsed": false
   },
   "outputs": [
    {
     "name": "stdout",
     "output_type": "stream",
     "text": [
      "type transaction value:42\n",
      "type transaction value:30\n",
      "type transaction value:400\n",
      "type transaction value:-2\n"
     ]
    }
   ],
   "source": [
    "transaction_list = []\n",
    "\n",
    "user_input = input('type transaction value:')\n",
    "transaction = float(user_input)\n",
    "\n",
    "while transaction > 0:\n",
    "    transaction_list.append(transaction)\n",
    "    user_input = input('type transaction value:')\n",
    "    transaction = float(user_input)"
   ]
  },
  {
   "cell_type": "code",
   "execution_count": 39,
   "metadata": {
    "collapsed": false
   },
   "outputs": [
    {
     "data": {
      "text/plain": [
       "[42.0, 30.0, 400.0]"
      ]
     },
     "execution_count": 39,
     "metadata": {},
     "output_type": "execute_result"
    }
   ],
   "source": [
    "transaction_list"
   ]
  },
  {
   "cell_type": "code",
   "execution_count": 61,
   "metadata": {
    "collapsed": false
   },
   "outputs": [],
   "source": [
    "import pandas as pd"
   ]
  },
  {
   "cell_type": "code",
   "execution_count": 64,
   "metadata": {
    "collapsed": false
   },
   "outputs": [],
   "source": [
    "df = pd.read_csv('https://goo.gl/NXeJsR')"
   ]
  },
  {
   "cell_type": "code",
   "execution_count": 66,
   "metadata": {
    "collapsed": false
   },
   "outputs": [
    {
     "data": {
      "text/plain": [
       "0     7.405664e+05\n",
       "1     7.739610e+05\n",
       "2     7.634237e+05\n",
       "3     7.313070e+05\n",
       "4     7.112502e+05\n",
       "5     7.111966e+05\n",
       "6     7.258983e+05\n",
       "7     7.364551e+05\n",
       "8     7.805222e+05\n",
       "9     7.091644e+05\n",
       "10    7.453724e+05\n",
       "11    7.647098e+05\n",
       "12    7.288000e+05\n",
       "13    7.701190e+05\n",
       "14    7.568643e+05\n",
       "15    7.390216e+05\n",
       "16    7.370059e+05\n",
       "17    7.616250e+05\n",
       "18    7.520559e+05\n",
       "19    7.223385e+05\n",
       "20    7.915064e+05\n",
       "21    6.899940e+05\n",
       "22    7.087313e+05\n",
       "23    6.947571e+05\n",
       "24    7.802777e+05\n",
       "25    7.394957e+05\n",
       "26    8.186930e+05\n",
       "27    7.847122e+05\n",
       "28    7.152904e+05\n",
       "29    7.836732e+05\n",
       "30    7.628042e+05\n",
       "31    7.471815e+05\n",
       "32    7.470620e+05\n",
       "33    7.350145e+05\n",
       "34    7.268222e+05\n",
       "35    6.936717e+05\n",
       "36    6.357053e+05\n",
       "37    6.103673e+05\n",
       "38    8.415700e+05\n",
       "39    7.142785e+05\n",
       "40    6.673975e+05\n",
       "41    6.657395e+05\n",
       "42    5.282130e+05\n",
       "43    1.042520e+06\n",
       "44    9.520650e+05\n",
       "45    8.654540e+05\n",
       "46    7.579520e+05\n",
       "47    7.418940e+05\n",
       "48    6.245940e+05\n",
       "49    5.855010e+05\n",
       "dtype: float64"
      ]
     },
     "execution_count": 66,
     "metadata": {},
     "output_type": "execute_result"
    }
   ],
   "source": [
    "df['population']/df['house-seats']"
   ]
  },
  {
   "cell_type": "code",
   "execution_count": null,
   "metadata": {
    "collapsed": true
   },
   "outputs": [],
   "source": []
  }
 ],
 "metadata": {
  "anaconda-cloud": {},
  "kernelspec": {
   "display_name": "Python [conda root]",
   "language": "python",
   "name": "conda-root-py"
  },
  "language_info": {
   "codemirror_mode": {
    "name": "ipython",
    "version": 3
   },
   "file_extension": ".py",
   "mimetype": "text/x-python",
   "name": "python",
   "nbconvert_exporter": "python",
   "pygments_lexer": "ipython3",
   "version": "3.5.2"
  }
 },
 "nbformat": 4,
 "nbformat_minor": 1
}
