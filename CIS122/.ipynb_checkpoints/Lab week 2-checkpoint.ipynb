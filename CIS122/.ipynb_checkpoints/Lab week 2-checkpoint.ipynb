{
 "cells": [
  {
   "cell_type": "code",
   "execution_count": 1,
   "metadata": {
    "collapsed": true
   },
   "outputs": [],
   "source": [
    "my_friends_name ='ali'"
   ]
  },
  {
   "cell_type": "code",
   "execution_count": 2,
   "metadata": {
    "collapsed": false
   },
   "outputs": [
    {
     "name": "stdout",
     "output_type": "stream",
     "text": [
      "ali\n"
     ]
    }
   ],
   "source": [
    "print(my_friends_name)"
   ]
  },
  {
   "cell_type": "code",
   "execution_count": 3,
   "metadata": {
    "collapsed": true
   },
   "outputs": [],
   "source": [
    "my_friends_name = 'jake'"
   ]
  },
  {
   "cell_type": "code",
   "execution_count": 4,
   "metadata": {
    "collapsed": false
   },
   "outputs": [
    {
     "name": "stdout",
     "output_type": "stream",
     "text": [
      "jake\n"
     ]
    }
   ],
   "source": [
    "print(my_friends_name)"
   ]
  },
  {
   "cell_type": "code",
   "execution_count": 5,
   "metadata": {
    "collapsed": true
   },
   "outputs": [],
   "source": [
    "my_first_friend = 'ali'\n",
    "my_second_friend = 'jake'\n",
    "my_third_friend = 'bahador'"
   ]
  },
  {
   "cell_type": "code",
   "execution_count": 6,
   "metadata": {
    "collapsed": true
   },
   "outputs": [],
   "source": [
    "list_of_my_friends = ['ali', 'jake', 'bahador']"
   ]
  },
  {
   "cell_type": "code",
   "execution_count": 7,
   "metadata": {
    "collapsed": false
   },
   "outputs": [
    {
     "name": "stdout",
     "output_type": "stream",
     "text": [
      "['ali', 'jake', 'bahador']\n"
     ]
    }
   ],
   "source": [
    "print(list_of_my_friends)"
   ]
  },
  {
   "cell_type": "code",
   "execution_count": 5,
   "metadata": {
    "collapsed": true
   },
   "outputs": [],
   "source": [
    "visited_cities = ['Seattle', 'Portland', 'LA', 'NYC']"
   ]
  },
  {
   "cell_type": "code",
   "execution_count": 6,
   "metadata": {
    "collapsed": false
   },
   "outputs": [
    {
     "name": "stdout",
     "output_type": "stream",
     "text": [
      "['Seattle', 'Portland', 'LA', 'NYC']\n"
     ]
    }
   ],
   "source": [
    "print(visited_cities)"
   ]
  },
  {
   "cell_type": "code",
   "execution_count": 7,
   "metadata": {
    "collapsed": false
   },
   "outputs": [
    {
     "data": {
      "text/plain": [
       "4"
      ]
     },
     "execution_count": 7,
     "metadata": {},
     "output_type": "execute_result"
    }
   ],
   "source": [
    "len(visited_cities)"
   ]
  },
  {
   "cell_type": "code",
   "execution_count": 8,
   "metadata": {
    "collapsed": false
   },
   "outputs": [
    {
     "data": {
      "text/plain": [
       "'LA'"
      ]
     },
     "execution_count": 8,
     "metadata": {},
     "output_type": "execute_result"
    }
   ],
   "source": [
    "visited_cities[-2]"
   ]
  },
  {
   "cell_type": "code",
   "execution_count": 9,
   "metadata": {
    "collapsed": false
   },
   "outputs": [
    {
     "data": {
      "text/plain": [
       "'Seattle'"
      ]
     },
     "execution_count": 9,
     "metadata": {},
     "output_type": "execute_result"
    }
   ],
   "source": [
    "length = len(visited_cities )\n",
    "\n",
    "visited_cities[length*-1]"
   ]
  },
  {
   "cell_type": "code",
   "execution_count": 10,
   "metadata": {
    "collapsed": false
   },
   "outputs": [
    {
     "name": "stdout",
     "output_type": "stream",
     "text": [
      "4\n",
      "-4\n"
     ]
    },
    {
     "data": {
      "text/plain": [
       "'Seattle'"
      ]
     },
     "execution_count": 10,
     "metadata": {},
     "output_type": "execute_result"
    }
   ],
   "source": [
    "length = len(visited_cities)\n",
    "print(length)\n",
    "\n",
    "negative_index = length*-1\n",
    "print(negative_index)\n",
    "\n",
    "visited_cities[negative_index]"
   ]
  },
  {
   "cell_type": "code",
   "execution_count": 11,
   "metadata": {
    "collapsed": false
   },
   "outputs": [
    {
     "name": "stdout",
     "output_type": "stream",
     "text": [
      "Seattle\n",
      "Portland\n",
      "LA\n",
      "NYC\n"
     ]
    }
   ],
   "source": [
    "for city in visited_cities:\n",
    "    print(city)"
   ]
  },
  {
   "cell_type": "code",
   "execution_count": 12,
   "metadata": {
    "collapsed": true
   },
   "outputs": [],
   "source": [
    "import matplotlib.pyplot"
   ]
  },
  {
   "cell_type": "code",
   "execution_count": 14,
   "metadata": {
    "collapsed": false
   },
   "outputs": [
    {
     "data": {
      "text/plain": [
       "{'boxes': [<matplotlib.lines.Line2D at 0xb2eb81ef98>],\n",
       " 'caps': [<matplotlib.lines.Line2D at 0xb2eb82aa58>,\n",
       "  <matplotlib.lines.Line2D at 0xb2eb82abe0>],\n",
       " 'fliers': [<matplotlib.lines.Line2D at 0xb2eb840c50>],\n",
       " 'means': [],\n",
       " 'medians': [<matplotlib.lines.Line2D at 0xb2eb840438>],\n",
       " 'whiskers': [<matplotlib.lines.Line2D at 0xb2eb8249e8>,\n",
       "  <matplotlib.lines.Line2D at 0xb2eb824b70>]}"
      ]
     },
     "execution_count": 14,
     "metadata": {},
     "output_type": "execute_result"
    },
    {
     "data": {
      "image/png": "[encoded data removed]",
      "text/plain": [
       "<matplotlib.figure.Figure at 0xb2eb72d048>"
      ]
     },
     "metadata": {},
     "output_type": "display_data"
    }
   ],
   "source": [
    "%matplotlib inline\n",
    "\n",
    "h = [5.8, 5.7, 6, 6.2, 6.7, 10, 2, 3]\n",
    "\n",
    "matplotlib.pyplot.boxplot(h)"
   ]
  },
  {
   "cell_type": "code",
   "execution_count": 16,
   "metadata": {
    "collapsed": false
   },
   "outputs": [
    {
     "data": {
      "text/plain": [
       "{'boxes': [<matplotlib.lines.Line2D at 0xb2f06924a8>],\n",
       " 'caps': [<matplotlib.lines.Line2D at 0xb2f069bf28>,\n",
       "  <matplotlib.lines.Line2D at 0xb2f06a2780>],\n",
       " 'fliers': [<matplotlib.lines.Line2D at 0xb2f06a77f0>],\n",
       " 'means': [],\n",
       " 'medians': [<matplotlib.lines.Line2D at 0xb2f06a2908>],\n",
       " 'whiskers': [<matplotlib.lines.Line2D at 0xb2f0692eb8>,\n",
       "  <matplotlib.lines.Line2D at 0xb2f0692fd0>]}"
      ]
     },
     "execution_count": 16,
     "metadata": {},
     "output_type": "execute_result"
    },
    {
     "data": {
      "image/png": "[encoded data removed]",
      "text/plain": [
       "<matplotlib.figure.Figure at 0xb2eb7a8a20>"
      ]
     },
     "metadata": {},
     "output_type": "display_data"
    }
   ],
   "source": [
    "%matplotlib inline\n",
    "\n",
    "a = [39250017, 27862596, 20612439, 19745289, 12801539, 12784227, 11614373, 10310371, 10146788, 9928301, 8944469, 8411808, 7288000, 6931071, 6811779, 6651194, 6633053, 6093000, 6016447, 5778708, 5540545, 5519952, 4961119, 4863300, 4681666, 4436974, 4093465, 3923561, 3576452, 3411307, 3134693, 3051217, 2988726, 2988248, 2940058, 2907289, 2081015, 1907116, 1831102, 1683140, 1428557, 1334795, 1331479, 1056426, 1042520, 952065, 865454, 757952, 741894, 681170, 624594, 585501]\n",
    "\n",
    "matplotlib.pyplot.boxplot(a)"
   ]
  },
  {
   "cell_type": "code",
   "execution_count": null,
   "metadata": {
    "collapsed": true
   },
   "outputs": [],
   "source": []
  }
 ],
 "metadata": {
  "anaconda-cloud": {},
  "kernelspec": {
   "display_name": "Python [conda root]",
   "language": "python",
   "name": "conda-root-py"
  },
  "language_info": {
   "codemirror_mode": {
    "name": "ipython",
    "version": 3
   },
   "file_extension": ".py",
   "mimetype": "text/x-python",
   "name": "python",
   "nbconvert_exporter": "python",
   "pygments_lexer": "ipython3",
   "version": "3.5.2"
  }
 },
 "nbformat": 4,
 "nbformat_minor": 1
}
