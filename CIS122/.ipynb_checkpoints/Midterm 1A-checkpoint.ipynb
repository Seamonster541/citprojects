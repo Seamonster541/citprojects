{
 "cells": [
  {
   "cell_type": "markdown",
   "metadata": {},
   "source": [
    "# Midterm 1a Exam "
   ]
  },
  {
   "cell_type": "code",
   "execution_count": null,
   "metadata": {
    "collapsed": true
   },
   "outputs": [],
   "source": [
    "# Your name here: Simon Eeds"
   ]
  },
  {
   "cell_type": "markdown",
   "metadata": {},
   "source": [
    "Use **meaningful** names for variables."
   ]
  },
  {
   "cell_type": "markdown",
   "metadata": {
    "collapsed": true
   },
   "source": [
    "1) 5 points<br>\n",
    "**Create a variable** to hold a college **major** like **History**,\n",
    "then **print** the variable's value"
   ]
  },
  {
   "cell_type": "code",
   "execution_count": 3,
   "metadata": {
    "collapsed": false
   },
   "outputs": [
    {
     "name": "stdout",
     "output_type": "stream",
     "text": [
      "History\n"
     ]
    }
   ],
   "source": [
    "# 1)\n",
    "college_major = 'History'\n",
    "print(college_major)\n"
   ]
  },
  {
   "cell_type": "markdown",
   "metadata": {
    "collapsed": true
   },
   "source": [
    "2) 5 points<br>\n",
    "**Update** the variable you created in question 1) to \n",
    "a different major like **Journalism** then **print** the variable's value"
   ]
  },
  {
   "cell_type": "code",
   "execution_count": 4,
   "metadata": {
    "collapsed": false
   },
   "outputs": [
    {
     "name": "stdout",
     "output_type": "stream",
     "text": [
      "Journalism\n"
     ]
    }
   ],
   "source": [
    "# 2)\n",
    "college_major = 'Journalism'\n",
    "print(college_major)\n"
   ]
  },
  {
   "cell_type": "markdown",
   "metadata": {
    "collapsed": true
   },
   "source": [
    "3) 5 points<br>\n",
    "For each of these variables, identify the type<br>\n",
    "**&lt;int>   &lt;float>    &lt;str>**"
   ]
  },
  {
   "cell_type": "code",
   "execution_count": null,
   "metadata": {
    "collapsed": true
   },
   "outputs": [],
   "source": [
    "# 3)  Fill in the blanks with the right answers (str, int or float)\n",
    "\n",
    "friend = 'Roger'                     # Type of friend is <str>\n",
    "\n",
    "my_name = input('Type your name: ')  #  Type of my_name is <str>\n",
    "\n",
    "money_owed = 56.75                   # Type of money_owed is <float>\n",
    "\n",
    "request = \"Type your favorite number\"\n",
    "favorite = input(request)            # Type of favorite is <str>\n",
    "\n",
    "big_number = 1234567890223445        # Type of big_number is <int>\n"
   ]
  },
  {
   "cell_type": "markdown",
   "metadata": {
    "collapsed": true
   },
   "source": [
    "4) 5 points<br>\n",
    "\n",
    "Create the variable **assignments** that is a **list of 5 numbers**<br><br>\n",
    "Each item in the list is a number *from 0 - 30*, showing points on \n",
    "a student's assignment. Each number is a *whole number*<br>"
   ]
  },
  {
   "cell_type": "code",
   "execution_count": 5,
   "metadata": {
    "collapsed": true
   },
   "outputs": [],
   "source": [
    "# 4\n",
    "list_numbers = [0, 1, 2, 3, 4]\n"
   ]
  },
  {
   "cell_type": "markdown",
   "metadata": {
    "collapsed": true
   },
   "source": [
    "5) 5 points<br>\n",
    "**round** a value to **2** decimal places, then print it"
   ]
  },
  {
   "cell_type": "code",
   "execution_count": 16,
   "metadata": {
    "collapsed": false
   },
   "outputs": [
    {
     "name": "stdout",
     "output_type": "stream",
     "text": [
      "1.4285714285714286 not rounded\n",
      "1.43 is rounded\n"
     ]
    }
   ],
   "source": [
    "# 5\n",
    "total_price = 10.00\n",
    "number = 7\n",
    "each_price = total_price / number\n",
    "\n",
    "print(each_price, \"not rounded\")\n",
    "\n",
    "# Round each_price to 2 decimal places, then print each_price\n",
    "\n",
    "each_price = round(each_price, 2) #I could change the variable such as rounded_price = ..., but not needed\n",
    "print(each_price, \"is rounded\")\n"
   ]
  },
  {
   "cell_type": "markdown",
   "metadata": {
    "collapsed": true
   },
   "source": [
    "6) 5 points<br>\n",
    "**Iterate** through the list of *noble gases* **printing** each on a\n",
    "**separate line**"
   ]
  },
  {
   "cell_type": "code",
   "execution_count": 13,
   "metadata": {
    "collapsed": false
   },
   "outputs": [
    {
     "name": "stdout",
     "output_type": "stream",
     "text": [
      "Helium\n",
      "Neon\n",
      "Argon\n",
      "Krypton\n",
      "Xenon\n",
      "Radon\n"
     ]
    }
   ],
   "source": [
    "# 6)\n",
    "noble_gases = ['Helium', 'Neon', 'Argon', 'Krypton', 'Xenon', 'Radon']\n",
    "\n",
    "for list in noble_gases:\n",
    "    print(list)\n",
    "    "
   ]
  },
  {
   "cell_type": "markdown",
   "metadata": {
    "collapsed": true
   },
   "source": [
    "7) 5 points<br>\n",
    "Compute and **print** the **total** of the values in this list.<br>\n",
    "Remember to **round** the total to 2 decimals.<br><br>\n",
    "*The same Python program must print the total correctly **even if the list had different numbers***. "
   ]
  },
  {
   "cell_type": "code",
   "execution_count": 15,
   "metadata": {
    "collapsed": false
   },
   "outputs": [
    {
     "name": "stdout",
     "output_type": "stream",
     "text": [
      "433.67\n"
     ]
    }
   ],
   "source": [
    "# 7\n",
    "donations = [32.15, 66.00, 99.22, 17.85, 19.32, 87.91, 111.22]\n",
    "\n",
    "total = sum(donations)\n",
    "total = round(total, 2)\n",
    "print(total)\n"
   ]
  },
  {
   "cell_type": "markdown",
   "metadata": {
    "collapsed": true
   },
   "source": [
    "8) 5 points<br>\n",
    "Find the **smallest** and **largest** donation from the donations list.<br>\n",
    "Assign each to a variable.\n",
    "Print the **smallest** and **largest** donations.<br><br> \n",
    "*Your solution must work correctly **even if** the list of donations had **different numbers**.*\n",
    "\n",
    "\n"
   ]
  },
  {
   "cell_type": "code",
   "execution_count": 17,
   "metadata": {
    "collapsed": false
   },
   "outputs": [
    {
     "name": "stdout",
     "output_type": "stream",
     "text": [
      "Smallest donation:  7.85\n",
      "Largest donation:  166.0\n"
     ]
    }
   ],
   "source": [
    "# 8)\n",
    "donations_list = [62.15, 166.00, 9.25, 7.85, 49.00, 57.91, 117.28, 9.45]\n",
    "\n",
    "smallest_donation = min(donations_list)\n",
    "largest_donation = max(donations_list)\n",
    "\n",
    "print(\"Smallest donation: \", smallest_donation)\n",
    "print(\"Largest donation: \", largest_donation)\n"
   ]
  },
  {
   "cell_type": "markdown",
   "metadata": {
    "collapsed": true
   },
   "source": [
    "9) 5 points<br>\n",
    "**Repeat 5 times** -- print the following 2 lines 5 times<br>\n",
    "```\n",
    "Go Ducks, Go!\n",
    "Happy New Year!\n",
    "```\n",
    "**After** the repeat loop ends, print  **Done!** (once)\n"
   ]
  },
  {
   "cell_type": "code",
   "execution_count": 19,
   "metadata": {
    "collapsed": false
   },
   "outputs": [
    {
     "name": "stdout",
     "output_type": "stream",
     "text": [
      "Go Ducks, go!\n",
      "Happy New Year!\n",
      "Go Ducks, go!\n",
      "Happy New Year!\n",
      "Go Ducks, go!\n",
      "Happy New Year!\n",
      "Go Ducks, go!\n",
      "Happy New Year!\n",
      "Go Ducks, go!\n",
      "Happy New Year!\n",
      "Done!\n"
     ]
    }
   ],
   "source": [
    "# 9) \n",
    "\n",
    "for i in range(5):\n",
    "    print(\"Go Ducks, go!\")\n",
    "    print(\"Happy New Year!\")\n",
    "\n",
    "print(\"Done!\")    "
   ]
  },
  {
   "cell_type": "markdown",
   "metadata": {
    "collapsed": true
   },
   "source": [
    "10) 5 points<br>\n",
    "Use an **input( )** function to request typing the name \n",
    "of a favorite kind of pet such as a kitten<br>\n",
    "assuming the pet was a 'kitten' print a message like<br>\n",
    "```\n",
    "Your favorite pet is a kitten```"
   ]
  },
  {
   "cell_type": "code",
   "execution_count": 25,
   "metadata": {
    "collapsed": false
   },
   "outputs": [
    {
     "name": "stdout",
     "output_type": "stream",
     "text": [
      "Your favorite pet is a Dog\n",
      "Your favorite pet is a Dog\n"
     ]
    }
   ],
   "source": [
    "#10\n",
    "\n",
    "pet = input(\"Your favorite pet is a \")\n",
    "#If you wanted to be printed with a print command rather than 'input'\n",
    "print(\"Your favorite pet is a\", pet)\n"
   ]
  },
  {
   "cell_type": "markdown",
   "metadata": {},
   "source": [
    "11) 5 points<br>\n",
    "Use an **input( )** function to request typing the amount you will **donate every month** to the American Cancer Society.<br><br>\n",
    "Compute the **total amount donated** during the **12 months** of a year.<br><br>\n",
    "**Print** the **monthly amount** and the **year's total** (assuming 12 months of donation).\n"
   ]
  },
  {
   "cell_type": "code",
   "execution_count": 32,
   "metadata": {
    "collapsed": false
   },
   "outputs": [
    {
     "name": "stdout",
     "output_type": "stream",
     "text": [
      "How much will you donate every month: 53.32\n",
      "Monthly donation: $ 53.32\n",
      "Year's total donation: $ 639.84\n"
     ]
    }
   ],
   "source": [
    "# 11\n",
    "\n",
    "donation = float(input(\"How much will you donate every month: \"))\n",
    "yearly_donation = donation * 12\n",
    "\n",
    "print(\"Monthly donation: $\", round(donation, 2))\n",
    "print(\"Year's total donation: $\", round(yearly_donation, 2))\n"
   ]
  },
  {
   "cell_type": "markdown",
   "metadata": {},
   "source": [
    "12) 5 points<br>\n",
    "Your GPA is stored in a variable called **my_GPA**.\n",
    "When my_GPA is **3.5 or higher**, print \"Eligible for advanced course\" else print \"Not eligible\".<br><br>\n",
    "Write Python code to decide which to print.<br><br>\n",
    "**Test your code** by changing my_GPA to 2.7, 3.49, 3.5, 3.9. The first two should cause printing \"Not eligible\", the last two \"Eligible for advanced course.\"\n"
   ]
  },
  {
   "cell_type": "code",
   "execution_count": 40,
   "metadata": {
    "collapsed": false
   },
   "outputs": [
    {
     "name": "stdout",
     "output_type": "stream",
     "text": [
      "Not eligible\n"
     ]
    }
   ],
   "source": [
    "# 12\n",
    "my_GPA = 2.7\n",
    "\n",
    "if my_GPA >= 3.5:\n",
    "    print(\"Eligible for advanced course\")\n",
    "else:\n",
    "    print(\"Not eligible\")\n"
   ]
  },
  {
   "cell_type": "markdown",
   "metadata": {},
   "source": [
    "13) 5 points<br>\n",
    "Iterate through a list of birds. **Print each bird on a separate line**. If the bird is an **eagle**, add a comment * Wow! * **on the same line** as the bird.<br>\n",
    "Partial example of printing<br>\n",
    "```\n",
    "Sparrow\n",
    "Eagle Wow!\n",
    "Turkey\n",
    "```\n",
    "Your program should work even if the list showed birds in a different order.\n"
   ]
  },
  {
   "cell_type": "code",
   "execution_count": 86,
   "metadata": {
    "collapsed": false
   },
   "outputs": [
    {
     "name": "stdout",
     "output_type": "stream",
     "text": [
      "Sparrow\n",
      "Eagle Wow!\n",
      "Turkey\n",
      "Duck\n",
      "Hummingbird\n"
     ]
    }
   ],
   "source": [
    "#13  An example list of birds \n",
    "bird_list = ['Sparrow', 'Eagle', 'Turkey', 'Duck', 'Hummingbird']\n",
    "\n",
    "special_message = 'Wow!'\n",
    "\n",
    "for bird in bird_list:\n",
    "    if bird in ['Eagle']:\n",
    "        print('Eagle', 'Wow!')\n",
    "    else:\n",
    "        print(bird)"
   ]
  },
  {
   "cell_type": "markdown",
   "metadata": {},
   "source": [
    "14) 5 points<br>\n",
    "You are getting ready to work with a very large list of cities. You need to print the number of cities in the list. Using this example list you would see\n",
    "```\n",
    "There are 6 cities in the list\n",
    "```\n",
    "Your program should work even if the list had a lot more cities in it."
   ]
  },
  {
   "cell_type": "code",
   "execution_count": 54,
   "metadata": {
    "collapsed": false
   },
   "outputs": [
    {
     "name": "stdout",
     "output_type": "stream",
     "text": [
      "There are 6 cities in the list\n"
     ]
    }
   ],
   "source": [
    "#14  An example list of cities \n",
    "city_list = ['Peoria', 'Paris', 'Salem', 'Seattle', 'Boise', 'San Jose']\n",
    "\n",
    "cities = len(city_list)\n",
    "print(\"There are\", cities, \"cities in the list\")\n"
   ]
  },
  {
   "cell_type": "markdown",
   "metadata": {},
   "source": [
    "15) 5 points<br>\n",
    "Create an empty list of brands of cars."
   ]
  },
  {
   "cell_type": "code",
   "execution_count": 57,
   "metadata": {
    "collapsed": false
   },
   "outputs": [],
   "source": [
    "# 15\n",
    "car_brands = []"
   ]
  },
  {
   "cell_type": "markdown",
   "metadata": {},
   "source": [
    "16) 5 points<br>\n",
    "Create an **empty list** of Asian countries<br>\n",
    "Repeat 5 times<br>\n",
    "&nbsp;&nbsp;&nbsp;&nbsp;Use **input( )** to ask for the name of an Asian country<br>\n",
    "&nbsp;&nbsp;&nbsp;&nbsp;**append** the name of the country to your Asian countries list.<br>\n",
    "When done, print the entire list."
   ]
  },
  {
   "cell_type": "code",
   "execution_count": 60,
   "metadata": {
    "collapsed": false
   },
   "outputs": [
    {
     "name": "stdout",
     "output_type": "stream",
     "text": [
      "type in an Asian country: Thailand\n",
      "type in an Asian country: China\n",
      "type in an Asian country: Japan\n",
      "type in an Asian country: Vietnam\n",
      "type in an Asian country: Hong Kong\n",
      "['Thailand', 'China', 'Japan', 'Vietnam', 'Hong Kong']\n"
     ]
    }
   ],
   "source": [
    "# 16\n",
    "asian_countries = []\n",
    "\n",
    "for i in range (5):\n",
    "    countries = input(\"type in an Asian country: \")\n",
    "    asian_countries.append(countries)\n",
    "    \n",
    "print(asian_countries)\n"
   ]
  },
  {
   "cell_type": "markdown",
   "metadata": {},
   "source": [
    "17) 5 points<br>\n",
    "You are working for a company that sells products and often offers discounts.\n",
    "Define a function **compute_total_due(price, discount):**<br><br>\n",
    "The function will **return a net_price** resulting from subtracting discount amount from price, **rounded** to 2 decimals.\n"
   ]
  },
  {
   "cell_type": "code",
   "execution_count": 69,
   "metadata": {
    "collapsed": false
   },
   "outputs": [
    {
     "name": "stdout",
     "output_type": "stream",
     "text": [
      "Please pay $ 10.77 You saved $ 5.0\n",
      "Please pay $ 22.27 You saved $ 3.5\n"
     ]
    }
   ],
   "source": [
    "#17 Define your function here:\n",
    "\n",
    "def compute_total_due(price, discount):\n",
    "    net_price = price - discount\n",
    "    \n",
    "    rounded_price = round(net_price, 2)\n",
    "    \n",
    "    return rounded_price\n",
    "\n",
    "\n",
    "# Call your function\n",
    "standard_price = 15.77\n",
    "discount = 5.00\n",
    "payment_due = compute_total_due(standard_price, discount)\n",
    "print(\"Please pay $\", payment_due, \"You saved $\", discount)\n",
    "\n",
    "# Call your function again with a different discount\n",
    "standard_price = 25.77\n",
    "discount = 3.50\n",
    "payment_due = compute_total_due(standard_price, discount)\n",
    "print(\"Please pay $\", payment_due, \"You saved $\", discount)"
   ]
  },
  {
   "cell_type": "markdown",
   "metadata": {},
   "source": [
    "18) 5 points<br>\n",
    "You have a list with a bad number in it. Write the code to change the item in the list that has a value of 999; it should be 9.\n"
   ]
  },
  {
   "cell_type": "code",
   "execution_count": 79,
   "metadata": {
    "collapsed": false
   },
   "outputs": [],
   "source": [
    "# 18\n",
    "class_sizes = [42, 11, 999, 120, 110, 60, 22]  \n",
    "# DO NOT type over the list above.\n",
    "\n",
    "# Instead, add Python statements to change the item in the list \n",
    "# from 999 to 9.\n",
    "\n",
    "class_sizes[2] = 9\n",
    "#print(class_sizes)\n"
   ]
  },
  {
   "cell_type": "markdown",
   "metadata": {},
   "source": [
    "19) 5 points<br>\n",
    "You need to iterate through the list to get the **total of items that are 10 or less**. <br>Your program should work correctly even if the list had different numbers."
   ]
  },
  {
   "cell_type": "code",
   "execution_count": 74,
   "metadata": {
    "collapsed": false
   },
   "outputs": [
    {
     "name": "stdout",
     "output_type": "stream",
     "text": [
      "27\n"
     ]
    }
   ],
   "source": [
    "sample_data = [55, 21, 15, 4, 8, 9, 11, 22, 33, 67, 88, 10, -4, 22]\n",
    "\n",
    "total = 0\n",
    "\n",
    "for items in sample_data:\n",
    "    if items <= 10:\n",
    "        total += items\n",
    "print(total)\n"
   ]
  },
  {
   "cell_type": "markdown",
   "metadata": {},
   "source": [
    "20) 5 points<br>\n",
    "You have 5 days of data showing amount of snow on a mountain.\n",
    "```python \n",
    "days = [1, 2, 3, 4, 5]\n",
    "snow = [33, 16.2, 22.3, 0.5, 28.7]\n",
    "```\n",
    "The days data will form the x-axis (across) data, snow will form the y-axis (how high) data. You will create a **bar chart** showing the daily snowfall.\n"
   ]
  },
  {
   "cell_type": "code",
   "execution_count": 63,
   "metadata": {
    "collapsed": false
   },
   "outputs": [
    {
     "data": {
      "image/png": "[encoded data removed]",
      "text/plain": [
       "<matplotlib.figure.Figure at 0xc3c0996390>"
      ]
     },
     "metadata": {},
     "output_type": "display_data"
    }
   ],
   "source": [
    "import matplotlib.pyplot as plt\n",
    "%matplotlib inline\n",
    "# %matplotlib inline means 'show the plot in the notebook'\n",
    "\n",
    "days = [1, 2, 3, 4, 5]\n",
    "snow = [33, 16.2, 22.3, 0.5, 28.7]\n",
    "\n",
    "# Fill in commands to create a bar chart:\n",
    "\n",
    "plt.xlabel('Day')\n",
    "plt.ylabel('Snowfall')\n",
    "plt.title(\"Snow fall per day\")\n",
    "\n",
    "plt.bar(days, snow, align='center')\n",
    "plt.show()\n",
    "\n",
    "\n",
    "\n",
    "\n",
    "\n",
    "\n"
   ]
  }
 ],
 "metadata": {
  "anaconda-cloud": {},
  "kernelspec": {
   "display_name": "Python [conda root]",
   "language": "python",
   "name": "conda-root-py"
  },
  "language_info": {
   "codemirror_mode": {
    "name": "ipython",
    "version": 3
   },
   "file_extension": ".py",
   "mimetype": "text/x-python",
   "name": "python",
   "nbconvert_exporter": "python",
   "pygments_lexer": "ipython3",
   "version": "3.5.2"
  }
 },
 "nbformat": 4,
 "nbformat_minor": 1
}
