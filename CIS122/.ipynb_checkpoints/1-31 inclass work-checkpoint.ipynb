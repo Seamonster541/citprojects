{
 "cells": [
  {
   "cell_type": "markdown",
   "metadata": {},
   "source": [
    "# List vs. \"Tuples\""
   ]
  },
  {
   "cell_type": "code",
   "execution_count": 21,
   "metadata": {
    "collapsed": false
   },
   "outputs": [
    {
     "name": "stdout",
     "output_type": "stream",
     "text": [
      "Type points 42\n",
      "22\n",
      "20\n",
      "35\n",
      "30\n",
      "42\n"
     ]
    }
   ],
   "source": [
    "projects = [22, 20, 35, 30] # list - can add to, can change\n",
    "points = (22, 20, 35, 30)  #tuple - cannot modify\n",
    "\n",
    "input_string = input(\"Type points \")\n",
    "score = int(input_string)\n",
    "\n",
    "# Add on to end of projects list\n",
    "projects.append(score)\n",
    "#points[0] = score   - tuple object does not support item assignment\n",
    "\n",
    "##projects.insert(4, score) position and number i want to add to the list\n",
    "\n",
    "# Then print project list\n",
    "for item in projects:\n",
    "    print(item)\n",
    "    \n",
    "#for item in points: - uses tuple so doesn't add values from the input or other\n",
    "#     print(item)"
   ]
  },
  {
   "cell_type": "markdown",
   "metadata": {},
   "source": [
    "# Review notes 1"
   ]
  },
  {
   "cell_type": "code",
   "execution_count": 22,
   "metadata": {
    "collapsed": false
   },
   "outputs": [
    {
     "name": "stdout",
     "output_type": "stream",
     "text": [
      "0 some note\n",
      " \n",
      "1 some note\n",
      " \n",
      "2 some note\n",
      " \n",
      "3 some note\n",
      " \n",
      "4 some note\n",
      " \n"
     ]
    }
   ],
   "source": [
    "number_of_repeats = 5\n",
    "for some_variable in range(number_of_repeats):\n",
    "    # indented block of statements get repeated\n",
    "    print(some_variable, 'some note')\n",
    "    print(\" \")\n",
    "#"
   ]
  },
  {
   "cell_type": "code",
   "execution_count": 23,
   "metadata": {
    "collapsed": false
   },
   "outputs": [
    {
     "name": "stdout",
     "output_type": "stream",
     "text": [
      "0\n",
      "Go Ducks!\n",
      "1\n",
      "Go Ducks!\n",
      "2\n",
      "Go Ducks!\n",
      "3\n",
      "Go Ducks!\n"
     ]
    }
   ],
   "source": [
    "for count in range(4):\n",
    "    print(count)\n",
    "    print(\"Go Ducks!\")\n"
   ]
  },
  {
   "cell_type": "code",
   "execution_count": 26,
   "metadata": {
    "collapsed": false
   },
   "outputs": [
    {
     "name": "stdout",
     "output_type": "stream",
     "text": [
      "Typea city name: d\n",
      "d is not here\n"
     ]
    }
   ],
   "source": [
    "city = input('Typea city name: ')\n",
    "if city == 'Eugene':\n",
    "    print(city, 'is home of the Ducks!')\n",
    "else:\n",
    "    print(city, 'is not here')\n",
    "#\n"
   ]
  },
  {
   "cell_type": "code",
   "execution_count": 27,
   "metadata": {
    "collapsed": false
   },
   "outputs": [
    {
     "ename": "NameError",
     "evalue": "name 'a' is not defined",
     "output_type": "error",
     "traceback": [
      "\u001b[0;31m---------------------------------------------------------------------------\u001b[0m",
      "\u001b[0;31mNameError\u001b[0m                                 Traceback (most recent call last)",
      "\u001b[0;32m<ipython-input-27-2622b001164c>\u001b[0m in \u001b[0;36m<module>\u001b[0;34m()\u001b[0m\n\u001b[0;32m----> 1\u001b[0;31m \u001b[1;32mif\u001b[0m \u001b[0ma\u001b[0m \u001b[1;33m==\u001b[0m \u001b[0mb\u001b[0m\u001b[1;33m:\u001b[0m\u001b[1;33m\u001b[0m\u001b[0m\n\u001b[0m\u001b[1;32m      2\u001b[0m     \u001b[0mprint\u001b[0m\u001b[1;33m(\u001b[0m\u001b[0ma\u001b[0m\u001b[1;33m,\u001b[0m \u001b[1;34m'has same value as'\u001b[0m\u001b[1;33m,\u001b[0m \u001b[0mb\u001b[0m\u001b[1;33m)\u001b[0m\u001b[1;33m\u001b[0m\u001b[0m\n\u001b[1;32m      3\u001b[0m \u001b[1;32mif\u001b[0m \u001b[0ma\u001b[0m \u001b[1;33m!=\u001b[0m \u001b[0mb\u001b[0m\u001b[1;33m:\u001b[0m\u001b[1;33m\u001b[0m\u001b[0m\n\u001b[1;32m      4\u001b[0m     \u001b[0mprint\u001b[0m\u001b[1;33m(\u001b[0m\u001b[0ma\u001b[0m\u001b[1;33m,\u001b[0m \u001b[1;34m''\u001b[0m\u001b[1;33m)\u001b[0m\u001b[1;33m\u001b[0m\u001b[0m\n",
      "\u001b[0;31mNameError\u001b[0m: name 'a' is not defined"
     ]
    }
   ],
   "source": [
    "if a == b:\n",
    "    print(a, 'has same value as', b)\n",
    "if a != b:\n",
    "    print(a, '')"
   ]
  },
  {
   "cell_type": "code",
   "execution_count": 29,
   "metadata": {
    "collapsed": false
   },
   "outputs": [
    {
     "name": "stdout",
     "output_type": "stream",
     "text": [
      "Type your car brand such as Jeep: VW\n",
      "VW is one of the best cars in 2019\n"
     ]
    }
   ],
   "source": [
    "best_cars = ['VW', 'Toyota', 'Ford', 'Jeep']\n",
    "my_car = input('Type your car brand such as Jeep: ')\n",
    "# is an item in a list?\n",
    "if my_car in best_cars:\n",
    "    print(my_car, 'is one of the best cars in 2019')"
   ]
  },
  {
   "cell_type": "code",
   "execution_count": 30,
   "metadata": {
    "collapsed": false
   },
   "outputs": [
    {
     "name": "stdout",
     "output_type": "stream",
     "text": [
      "List of new friends this term\n",
      "Dana\n",
      "Anna\n",
      "Taylor\n",
      "Andy\n"
     ]
    }
   ],
   "source": [
    "new_friends = ['Dana', 'Anna', 'Taylor', 'Andy']\n",
    "\n",
    "# Iterate through the list\n",
    "print(\"List of new friends this term\")\n",
    "for a_friend in new_friends:\n",
    "    print(a_friend)\n",
    "#"
   ]
  },
  {
   "cell_type": "code",
   "execution_count": 31,
   "metadata": {
    "collapsed": true
   },
   "outputs": [],
   "source": [
    "#list\n",
    "daily_cold_temperatures = [14, 22, 34, 19, -5]"
   ]
  },
  {
   "cell_type": "code",
   "execution_count": 32,
   "metadata": {
    "collapsed": true
   },
   "outputs": [],
   "source": [
    "a_list = [6, 4, 3, 1, 77, 23.55, 16.7, 3.3]\n",
    "total = sum(a_list)\n",
    "number_of_items = len(a_list)\n",
    "small = min(a_list)\n",
    "big = max(a_list)"
   ]
  },
  {
   "cell_type": "code",
   "execution_count": 35,
   "metadata": {
    "collapsed": false
   },
   "outputs": [
    {
     "ename": "SyntaxError",
     "evalue": "invalid syntax (<ipython-input-35-3aa71ab4b00f>, line 3)",
     "output_type": "error",
     "traceback": [
      "\u001b[0;36m  File \u001b[0;32m\"<ipython-input-35-3aa71ab4b00f>\"\u001b[0;36m, line \u001b[0;32m3\u001b[0m\n\u001b[0;31m    nice_number round(value, 2)\u001b[0m\n\u001b[0m                    ^\u001b[0m\n\u001b[0;31mSyntaxError\u001b[0m\u001b[0;31m:\u001b[0m invalid syntax\n"
     ]
    }
   ],
   "source": [
    "#round numbers\n",
    "value = 67.57 / 3\n",
    "nice_number round(value, 2)"
   ]
  },
  {
   "cell_type": "code",
   "execution_count": 36,
   "metadata": {
    "collapsed": false
   },
   "outputs": [
    {
     "ename": "NameError",
     "evalue": "name 'total_due' is not defined",
     "output_type": "error",
     "traceback": [
      "\u001b[0;31m---------------------------------------------------------------------------\u001b[0m",
      "\u001b[0;31mNameError\u001b[0m                                 Traceback (most recent call last)",
      "\u001b[0;32m<ipython-input-36-09d71c616ced>\u001b[0m in \u001b[0;36m<module>\u001b[0;34m()\u001b[0m\n\u001b[0;32m----> 1\u001b[0;31m \u001b[0mrounded_total\u001b[0m \u001b[1;33m=\u001b[0m \u001b[0mround\u001b[0m\u001b[1;33m(\u001b[0m\u001b[0mtotal_due\u001b[0m\u001b[1;33m,\u001b[0m \u001b[1;36m2\u001b[0m\u001b[1;33m)\u001b[0m\u001b[1;33m\u001b[0m\u001b[0m\n\u001b[0m\u001b[1;32m      2\u001b[0m \u001b[0mprint\u001b[0m\u001b[1;33m(\u001b[0m\u001b[1;34m'Total due $'\u001b[0m\u001b[1;33m)\u001b[0m\u001b[1;33m\u001b[0m\u001b[0m\n",
      "\u001b[0;31mNameError\u001b[0m: name 'total_due' is not defined"
     ]
    }
   ],
   "source": [
    "rounded_total = round(total_due, 2)\n",
    "print('Total due $')"
   ]
  },
  {
   "cell_type": "code",
   "execution_count": 38,
   "metadata": {
    "collapsed": false
   },
   "outputs": [
    {
     "name": "stdout",
     "output_type": "stream",
     "text": [
      "Type cost of Yearbook: 5\n",
      "$ 4.23\n",
      "$ 11.65\n",
      "$ 17.9\n",
      "$ 3.75\n",
      "$ 2.47\n",
      "$ 5.0\n"
     ]
    }
   ],
   "source": [
    "costs =[4.23, 11.65, 17.90, 3.75, 2.47]\n",
    "yearbook_string = input('Type cost of Yearbook: ')\n",
    "yearbook_cost = float(yearbook_string)\n",
    "\n",
    "# append to costs\n",
    "costs.append(yearbook_cost)\n",
    "for each_cost in costs:\n",
    "    print(\"$\", each_cost)"
   ]
  },
  {
   "cell_type": "code",
   "execution_count": 39,
   "metadata": {
    "collapsed": true
   },
   "outputs": [],
   "source": [
    "candidates_next_year = [ ]\n",
    "\n",
    "best_prices = [ ]"
   ]
  },
  {
   "cell_type": "code",
   "execution_count": 40,
   "metadata": {
    "collapsed": true
   },
   "outputs": [],
   "source": [
    "some_states = ['AK', 'WA', 'FL', 'CA', 'AZ', 'NV', 'UT', 'OR']"
   ]
  },
  {
   "cell_type": "code",
   "execution_count": 45,
   "metadata": {
    "collapsed": false
   },
   "outputs": [
    {
     "data": {
      "text/plain": [
       "<Container object of 4 artists>"
      ]
     },
     "execution_count": 45,
     "metadata": {},
     "output_type": "execute_result"
    },
    {
     "data": {
      "image/png": "[encoded data removed]",
      "text/plain": [
       "<matplotlib.figure.Figure at 0x7591e70940>"
      ]
     },
     "metadata": {},
     "output_type": "display_data"
    }
   ],
   "source": [
    "import matplotlib.pyplot as plt\n",
    "%matplotlib inline\n",
    "\n",
    "x =[1, 2, 3, 4]\n",
    "students = [31, 15, 17, 29]\n",
    "# names not number for x-axis\n",
    "x_names = ['resh', 'Soph', 'Junior', 'Senior']\n",
    "# add the names to te bar chart's x axis\n",
    "plt.xticks(x, x_names)\n",
    "# align the labels to the center and create bar chart\n",
    "plt.bar(x, students, align='center')\n"
   ]
  },
  {
   "cell_type": "code",
   "execution_count": 47,
   "metadata": {
    "collapsed": false
   },
   "outputs": [
    {
     "name": "stdout",
     "output_type": "stream",
     "text": [
      "AK a great state\n",
      "WA a great state\n",
      "FL a great state\n",
      "CA a great state\n",
      "AZ *** one of the best states to visit ***\n",
      "NV a great state\n",
      "UT *** one of the best states to visit ***\n",
      "OR a great state\n"
     ]
    }
   ],
   "source": [
    "normal_message = 'a great state'\n",
    "special_message = '*** one of the best states to visit ***'\n",
    "\n",
    "for a_state in some_states:\n",
    "    if a_state in ['AZ', 'UT']:\n",
    "        message = special_message\n",
    "    else:\n",
    "        message = normal_message\n",
    "    \n",
    "    print(a_state, message)"
   ]
  },
  {
   "cell_type": "code",
   "execution_count": null,
   "metadata": {
    "collapsed": true
   },
   "outputs": [],
   "source": []
  }
 ],
 "metadata": {
  "anaconda-cloud": {},
  "kernelspec": {
   "display_name": "Python [conda root]",
   "language": "python",
   "name": "conda-root-py"
  },
  "language_info": {
   "codemirror_mode": {
    "name": "ipython",
    "version": 3
   },
   "file_extension": ".py",
   "mimetype": "text/x-python",
   "name": "python",
   "nbconvert_exporter": "python",
   "pygments_lexer": "ipython3",
   "version": "3.5.2"
  }
 },
 "nbformat": 4,
 "nbformat_minor": 1
}
