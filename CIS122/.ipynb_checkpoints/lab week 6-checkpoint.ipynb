{
 "cells": [
  {
   "cell_type": "markdown",
   "metadata": {},
   "source": [
    "# Motivating the need for funcitons"
   ]
  },
  {
   "cell_type": "markdown",
   "metadata": {},
   "source": [
    "Define a list of numbers called **list1** and calculate average of them:"
   ]
  },
  {
   "cell_type": "code",
   "execution_count": 1,
   "metadata": {
    "collapsed": false
   },
   "outputs": [
    {
     "name": "stdout",
     "output_type": "stream",
     "text": [
      "12.5\n"
     ]
    }
   ],
   "source": [
    "list1 = [1, 10, 14, 25]\n",
    "avg = sum(list1)/len(list1)\n",
    "print(avg)"
   ]
  },
  {
   "cell_type": "markdown",
   "metadata": {},
   "source": [
    "Define a second list of numbers called **list2** and calculate average for that as well:"
   ]
  },
  {
   "cell_type": "code",
   "execution_count": 3,
   "metadata": {
    "collapsed": false
   },
   "outputs": [
    {
     "name": "stdout",
     "output_type": "stream",
     "text": [
      "268.5\n"
     ]
    }
   ],
   "source": [
    "list2 = [45, 26, 1000, 3]\n",
    "avg = sum(list2)/len(list2)\n",
    "print(avg)"
   ]
  },
  {
   "cell_type": "markdown",
   "metadata": {},
   "source": [
    "Define a third list of numbers called **list3** and calculate average ...:"
   ]
  },
  {
   "cell_type": "code",
   "execution_count": 4,
   "metadata": {
    "collapsed": false
   },
   "outputs": [
    {
     "name": "stdout",
     "output_type": "stream",
     "text": [
      "99.2\n"
     ]
    }
   ],
   "source": [
    "list3 = [300, 55, 66, 44, 31]\n",
    "avg = sum(list3)/len(list3)\n",
    "print(avg)"
   ]
  },
  {
   "cell_type": "markdown",
   "metadata": {},
   "source": [
    "### Define a function which takes a list of numbers as an input and returns the average of them:"
   ]
  },
  {
   "cell_type": "code",
   "execution_count": 6,
   "metadata": {
    "collapsed": false
   },
   "outputs": [],
   "source": [
    "def average(list_of_numbers):\n",
    "    avg = sum(list_of_numbers)/len(list_of_numbers)\n",
    "    return avg"
   ]
  },
  {
   "cell_type": "code",
   "execution_count": 8,
   "metadata": {
    "collapsed": false
   },
   "outputs": [
    {
     "name": "stdout",
     "output_type": "stream",
     "text": [
      "12.5\n",
      "268.5\n",
      "99.2\n"
     ]
    }
   ],
   "source": [
    "print(average(list1))\n",
    "print(average(list2))\n",
    "print(average(list3))\n"
   ]
  },
  {
   "cell_type": "markdown",
   "metadata": {},
   "source": [
    "Recalculate the average for all three lists **list1, list2 and list3** by calling the function that we defined:"
   ]
  },
  {
   "cell_type": "markdown",
   "metadata": {},
   "source": [
    "# Caesar's Cipher"
   ]
  },
  {
   "cell_type": "markdown",
   "metadata": {},
   "source": [
    "Caesar's cipher replaces each letter with another letter, a **fixed** number of positions down the alphabet.\n",
    "\n",
    "Goal is to define two functions, one for *encrypting* text and another for *decrypting* it.\n",
    "\n",
    "Using a shift size of **3** the word **computer** would become **frpsxwhu** in its encrypted form which is incomprehensible! Fortunately we can decrypt it back to its original form."
   ]
  },
  {
   "cell_type": "code",
   "execution_count": 11,
   "metadata": {
    "collapsed": false
   },
   "outputs": [],
   "source": [
    "alphabet = ['a', 'b', 'c', 'd', 'e', 'f', 'g', 'h', 'i', 'j', 'k', 'l', 'm', 'n', 'o', 'p', 'q', 'r', 's', 't', 'u', 'v', 'w', 'x', 'y', 'z', ' ']"
   ]
  },
  {
   "cell_type": "markdown",
   "metadata": {},
   "source": [
    "Define a function that **accepts** a plain text **string** and a **shift** value and **returns** the the string in an encrypted form:"
   ]
  },
  {
   "cell_type": "code",
   "execution_count": 40,
   "metadata": {
    "collapsed": true
   },
   "outputs": [],
   "source": [
    "def encrypt(message, shift):\n",
    "    encrypted_message = ''\n",
    "    for letter in message:\n",
    "        ## find shiffted value\n",
    "        letter_index = alphabet.index(letter) # letter_index = 20\n",
    "        encrypted_index = (letter_index + shift) # encrypted_index = 20 + shift\n",
    "        encrypted_letter = alphabet[encrypted_index] # encrypted_letter = 'v'\n",
    "        encrypted_message = encrypted_message + encrypted_letter\n",
    "        \n",
    "    return encrypted_message"
   ]
  },
  {
   "cell_type": "code",
   "execution_count": 15,
   "metadata": {
    "collapsed": false
   },
   "outputs": [
    {
     "data": {
      "text/plain": [
       "'whvw'"
      ]
     },
     "execution_count": 15,
     "metadata": {},
     "output_type": "execute_result"
    }
   ],
   "source": [
    "encrypt('test', 3)"
   ]
  },
  {
   "cell_type": "markdown",
   "metadata": {},
   "source": [
    "Define a function that **accepts** an encrypted **string** and a **shift** value and **returns** the the string in plain text form:"
   ]
  },
  {
   "cell_type": "code",
   "execution_count": 39,
   "metadata": {
    "collapsed": true
   },
   "outputs": [],
   "source": [
    "def decrypt(message, shift):\n",
    "    decrypted_message = ''\n",
    "    for letter in message:\n",
    "        ## find shiffted value\n",
    "        letter_index = alphabet.index(letter) # letter_index = 20\n",
    "        decrypted_index = (letter_index - shift) # encrypted_index = 20 + shift\n",
    "        decrypted_letter = alphabet[decrypted_index] # encrypted_letter = 'v'\n",
    "        decrypted_message = decrypted_message + decrypted_letter\n",
    "        \n",
    "    return decrypted_message"
   ]
  },
  {
   "cell_type": "code",
   "execution_count": 30,
   "metadata": {
    "collapsed": false
   },
   "outputs": [
    {
     "data": {
      "text/plain": [
       "'test'"
      ]
     },
     "execution_count": 30,
     "metadata": {},
     "output_type": "execute_result"
    }
   ],
   "source": []
  },
  {
   "cell_type": "markdown",
   "metadata": {},
   "source": [
    "Try to encrypt and decrypt a text with the functions that you defined, you should get the initial text if everything is working correctly."
   ]
  },
  {
   "cell_type": "code",
   "execution_count": 34,
   "metadata": {
    "collapsed": false
   },
   "outputs": [
    {
     "data": {
      "text/plain": [
       "'test'"
      ]
     },
     "execution_count": 34,
     "metadata": {},
     "output_type": "execute_result"
    }
   ],
   "source": [
    "decrypt('whvw', 3)"
   ]
  },
  {
   "cell_type": "markdown",
   "metadata": {},
   "source": [
    "**Extra:** try to find a way to decrypt this message 'ogcakjzysxcb'"
   ]
  },
  {
   "cell_type": "code",
   "execution_count": 43,
   "metadata": {
    "collapsed": false
   },
   "outputs": [
    {
     "name": "stdout",
     "output_type": "stream",
     "text": [
      "0 ogcakjzysxcb\n",
      "1 nfb jiyxrwba\n",
      "2 meazihxwqva \n",
      "3 ld yhgwvpu z\n",
      "4 kczxgfvuotzy\n",
      "5 jbywfeutnsyx\n",
      "6 iaxvedtsmrxw\n",
      "7 h wudcsrlqwv\n",
      "8 gzvtcbrqkpvu\n",
      "9 fyusbaqpjout\n",
      "10 extra points\n",
      "11 dwsq zonhmsr\n",
      "12 cvrpzynmglrq\n",
      "13 buqoyxmlfkqp\n",
      "14 atpnxwlkejpo\n",
      "15  somwvkjdion\n",
      "16 zrnlvujichnm\n",
      "17 yqmkutihbgml\n",
      "18 xpljtshgaflk\n",
      "19 wokisrgf ekj\n",
      "20 vnjhrqfezdji\n",
      "21 umigqpedycih\n",
      "22 tlhfpodcxbhg\n",
      "23 skgeoncbwagf\n",
      "24 rjfdnmbav fe\n",
      "25 qiecmla uzed\n",
      "26 phdblk ztydc\n"
     ]
    }
   ],
   "source": [
    "for shift in range(len(alphabet)):\n",
    "    decrypted_message = decrypt('ogcakjzysxcb', shift)\n",
    "    print(shift, decrypted_message)"
   ]
  },
  {
   "cell_type": "code",
   "execution_count": null,
   "metadata": {
    "collapsed": true
   },
   "outputs": [],
   "source": []
  }
 ],
 "metadata": {
  "anaconda-cloud": {},
  "kernelspec": {
   "display_name": "Python [default]",
   "language": "python",
   "name": "python3"
  },
  "language_info": {
   "codemirror_mode": {
    "name": "ipython",
    "version": 3
   },
   "file_extension": ".py",
   "mimetype": "text/x-python",
   "name": "python",
   "nbconvert_exporter": "python",
   "pygments_lexer": "ipython3",
   "version": "3.5.2"
  }
 },
 "nbformat": 4,
 "nbformat_minor": 2
}
