{
 "cells": [
  {
   "cell_type": "code",
   "execution_count": 2,
   "metadata": {
    "collapsed": false
   },
   "outputs": [
    {
     "name": "stdout",
     "output_type": "stream",
     "text": [
      "Number: 25 Square root: 5.0\n",
      "Value: 121 Square root: 11.0\n"
     ]
    }
   ],
   "source": [
    "#Good and simple function\n",
    "def square_root(x):\n",
    "    sq_root = x ** 0.5\n",
    "    return sq_root\n",
    "\n",
    "number = 25\n",
    "root = square_root(number)\n",
    "print('Number:', number, 'Square root:', root)\n",
    "\n",
    "value = 121\n",
    "sq_value = square_root(value)\n",
    "print('Value:', value, 'Square root:', sq_value)"
   ]
  },
  {
   "cell_type": "code",
   "execution_count": null,
   "metadata": {
    "collapsed": true
   },
   "outputs": [],
   "source": [
    "def calculate_tax(value):\n",
    "    data = value * 0.10\n",
    "    return data\n",
    "\n",
    "data = 6.7895\n",
    "\n",
    "purchase = 50.00\n",
    "print(\"Purchase price\", purchase, \"data\", data)\n"
   ]
  },
  {
   "cell_type": "code",
   "execution_count": null,
   "metadata": {
    "collapsed": true
   },
   "outputs": [],
   "source": []
  }
 ],
 "metadata": {
  "anaconda-cloud": {},
  "kernelspec": {
   "display_name": "Python [conda root]",
   "language": "python",
   "name": "conda-root-py"
  },
  "language_info": {
   "codemirror_mode": {
    "name": "ipython",
    "version": 3
   },
   "file_extension": ".py",
   "mimetype": "text/x-python",
   "name": "python",
   "nbconvert_exporter": "python",
   "pygments_lexer": "ipython3",
   "version": "3.5.2"
  }
 },
 "nbformat": 4,
 "nbformat_minor": 1
}
