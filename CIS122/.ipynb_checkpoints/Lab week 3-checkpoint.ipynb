{
 "cells": [
  {
   "cell_type": "markdown",
   "metadata": {},
   "source": [
    "# Challenge question pj 2"
   ]
  },
  {
   "cell_type": "code",
   "execution_count": 13,
   "metadata": {
    "collapsed": false
   },
   "outputs": [
    {
     "name": "stdout",
     "output_type": "stream",
     "text": [
      "Godzilla(1998)\n",
      "SupermanVBatman\n",
      "SuicideSquad\n",
      "Ghostbusters(2016)\n",
      "Avatar: The last Airbender\n",
      "Dragonball\n",
      "Catwoman\n",
      "Jack and Jill\n",
      "Birdemic: Shock and Terror\n",
      "The Room\n"
     ]
    }
   ],
   "source": [
    "worst_movies_ever = ['Godzilla(1998)', 'SupermanVBatman', 'SuicideSquad', 'Ghostbusters(2016)', 'Avatar: The last Airbender',\n",
    "                    'Dragonball', 'Catwoman', 'Jack and Jill', 'Birdemic: Shock and Terror', 'The Room']\n",
    "\n",
    "for i in range(10):\n",
    "    print(worst_movies_ever[i])"
   ]
  },
  {
   "cell_type": "markdown",
   "metadata": {},
   "source": [
    "# lab"
   ]
  },
  {
   "cell_type": "code",
   "execution_count": 3,
   "metadata": {
    "collapsed": false
   },
   "outputs": [
    {
     "name": "stdout",
     "output_type": "stream",
     "text": [
      "type in the name of the last city you visited:eugene\n"
     ]
    },
    {
     "data": {
      "text/plain": [
       "'eugene'"
      ]
     },
     "execution_count": 3,
     "metadata": {},
     "output_type": "execute_result"
    }
   ],
   "source": [
    "input(\"type in the name of the last city you visited:\")"
   ]
  },
  {
   "cell_type": "code",
   "execution_count": null,
   "metadata": {
    "collapsed": false
   },
   "outputs": [],
   "source": [
    "for i in range(3):\n",
    "    pin_code = input(\"please type in the end code:\")\n",
    "    numerical_pin_code = int(pin_code)\n",
    "    \n",
    "    if numerical_pin_code ==2345:\n",
    "        print('You gained access to the secret message.')\n",
    "        break"
   ]
  },
  {
   "cell_type": "code",
   "execution_count": null,
   "metadata": {
    "collapsed": true
   },
   "outputs": [],
   "source": [
    "l = ['first', 'second', 'third']"
   ]
  },
  {
   "cell_type": "code",
   "execution_count": null,
   "metadata": {
    "collapsed": true
   },
   "outputs": [],
   "source": [
    "l[0] = 'FIRST'"
   ]
  },
  {
   "cell_type": "code",
   "execution_count": null,
   "metadata": {
    "collapsed": true
   },
   "outputs": [],
   "source": [
    "print(l)"
   ]
  },
  {
   "cell_type": "code",
   "execution_count": null,
   "metadata": {
    "collapsed": true
   },
   "outputs": [],
   "source": []
  }
 ],
 "metadata": {
  "anaconda-cloud": {},
  "kernelspec": {
   "display_name": "Python [conda root]",
   "language": "python",
   "name": "conda-root-py"
  },
  "language_info": {
   "codemirror_mode": {
    "name": "ipython",
    "version": 3
   },
   "file_extension": ".py",
   "mimetype": "text/x-python",
   "name": "python",
   "nbconvert_exporter": "python",
   "pygments_lexer": "ipython3",
   "version": "3.5.2"
  }
 },
 "nbformat": 4,
 "nbformat_minor": 1
}
