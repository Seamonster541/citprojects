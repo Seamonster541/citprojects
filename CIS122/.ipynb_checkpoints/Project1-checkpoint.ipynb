{
 "cells": [
  {
   "cell_type": "markdown",
   "metadata": {},
   "source": [
    "# Part a) Hello world"
   ]
  },
  {
   "cell_type": "code",
   "execution_count": 51,
   "metadata": {
    "collapsed": false
   },
   "outputs": [
    {
     "name": "stdout",
     "output_type": "stream",
     "text": [
      "Hello World!\n"
     ]
    }
   ],
   "source": [
    "print(\"Hello World!\")"
   ]
  },
  {
   "cell_type": "markdown",
   "metadata": {},
   "source": [
    "# Part b) Variables"
   ]
  },
  {
   "cell_type": "code",
   "execution_count": 52,
   "metadata": {
    "collapsed": false
   },
   "outputs": [
    {
     "name": "stdout",
     "output_type": "stream",
     "text": [
      "Place: Oregon\n",
      "Cost: $ 3.32\n",
      "Language: English\n",
      "speak: 1\n"
     ]
    }
   ],
   "source": [
    "vacation = \"Oregon\"\n",
    "icecream = 3.32\n",
    "language = \"English\"\n",
    "speak = 1\n",
    "\n",
    "print(\"Place:\", vacation)\n",
    "print(\"Cost:\", \"$\", icecream)\n",
    "print(\"Language:\", language)\n",
    "print(\"speak:\", speak)"
   ]
  },
  {
   "cell_type": "markdown",
   "metadata": {},
   "source": [
    "# Part c) for loop"
   ]
  },
  {
   "cell_type": "code",
   "execution_count": 47,
   "metadata": {
    "collapsed": false
   },
   "outputs": [
    {
     "name": "stdout",
     "output_type": "stream",
     "text": [
      "I want to visit thailand\n",
      "in the winter\n",
      "\n",
      "I want to visit thailand\n",
      "in the winter\n",
      "\n",
      "I want to visit thailand\n",
      "in the winter\n",
      "\n",
      "I want to visit thailand\n",
      "in the winter\n",
      "\n",
      "I want to visit thailand\n",
      "in the winter\n",
      "\n",
      "I want to visit thailand\n",
      "in the winter\n",
      "\n",
      "Done!\n"
     ]
    }
   ],
   "source": [
    "#variables\n",
    "country = \"thailand\"\n",
    "season = \"winter\"\n",
    "\n",
    "#for loop\n",
    "for i in range(6) :\n",
    "    print(\"I want to visit\", country)\n",
    "    print(\"in the\", season)\n",
    "    print()\n",
    "\n",
    "print(\"Done!\")"
   ]
  },
  {
   "cell_type": "markdown",
   "metadata": {},
   "source": [
    "# Part d) if loop"
   ]
  },
  {
   "cell_type": "code",
   "execution_count": 50,
   "metadata": {
    "collapsed": false
   },
   "outputs": [
    {
     "name": "stdout",
     "output_type": "stream",
     "text": [
      "current budget: 100.0\n",
      "current price: 75.0\n",
      "Price is within the budget.\n"
     ]
    }
   ],
   "source": [
    "#variables\n",
    "budget = 100.00\n",
    "price = 75.00\n",
    "\n",
    "print(\"current budget:\", budget)\n",
    "print(\"current price:\", price)\n",
    "\n",
    "#if loop\n",
    "if price > budget :\n",
    "    print(\"Price is more than the budget.\")\n",
    "else :\n",
    "    print(\"Price is within the budget.\")\n",
    "    "
   ]
  },
  {
   "cell_type": "markdown",
   "metadata": {},
   "source": [
    "# Challenge"
   ]
  },
  {
   "cell_type": "code",
   "execution_count": 59,
   "metadata": {
    "collapsed": false
   },
   "outputs": [
    {
     "name": "stdout",
     "output_type": "stream",
     "text": [
      "current budget: 100.0\n",
      "current price: 225.0\n",
      "Price is more than the budget.\n",
      "Loan: 125.0\n"
     ]
    }
   ],
   "source": [
    "#variables\n",
    "budget = 100.00\n",
    "price = 225.00\n",
    "\n",
    "print(\"current budget:\", budget)\n",
    "print(\"current price:\", price)\n",
    "\n",
    "#if loop\n",
    "if price > budget :\n",
    "    print(\"Price is more than the budget.\")\n",
    "    loan = price - budget\n",
    "    print(\"Loan:\", loan)\n",
    "else :\n",
    "    print(\"Price is within the budget.\")\n",
    "    remaining = budget - price\n",
    "    budget = remaining\n",
    "    print(\"New budget:\", budget)"
   ]
  },
  {
   "cell_type": "code",
   "execution_count": null,
   "metadata": {
    "collapsed": true
   },
   "outputs": [],
   "source": []
  }
 ],
 "metadata": {
  "anaconda-cloud": {},
  "kernelspec": {
   "display_name": "Python [conda root]",
   "language": "python",
   "name": "conda-root-py"
  },
  "language_info": {
   "codemirror_mode": {
    "name": "ipython",
    "version": 3
   },
   "file_extension": ".py",
   "mimetype": "text/x-python",
   "name": "python",
   "nbconvert_exporter": "python",
   "pygments_lexer": "ipython3",
   "version": "3.5.2"
  }
 },
 "nbformat": 4,
 "nbformat_minor": 1
}
