{
 "cells": [
  {
   "cell_type": "markdown",
   "metadata": {
    "collapsed": true
   },
   "source": [
    "# Problem Solving Sampler\n",
    "### More involved than previous <span style='color:blue'>start early</span>"
   ]
  },
  {
   "cell_type": "markdown",
   "metadata": {},
   "source": [
    "# Caesar code  'abc', key 2 -> 'cde'<br>\n",
    "Implement a **Caesar code** that works with **lower case messages**<br>\n",
    "\n",
    "A \"Caesar code\" uses an alphabet treated like a circle and a number key from 1 through 25.<br><br>\n",
    "\n",
    "To code a message like \"zap them\" using a key of 1<br>\n",
    "```\n",
    "    the letter \"z\" + 1 gives \"a\"\n",
    "    the letter \"a\" + 1 gives \"b\"\n",
    "    \n",
    "    so the coded value of the message is \n",
    "    abq uifn\n",
    "```\n",
    "Your program must also decode a coded message, given the number key<br>\n",
    "\n",
    "Do not code spaces, punctuation (.;,? and so on) or numbers.<br>\n",
    "\n",
    "Test<br>\n",
    "Decode this 'secret' message using the key of 12<br>\n",
    "*qhqdkftuzs etagxp nq me euybxq me baeeunxq, ngf za euybxqd.*\n",
    "\n",
    "Use your program to decode ... don't do it manually\n",
    "\n"
   ]
  },
  {
   "cell_type": "code",
   "execution_count": 1,
   "metadata": {
    "collapsed": false
   },
   "outputs": [
    {
     "name": "stdout",
     "output_type": "stream",
     "text": [
      "everything should be as simple as possible, but no simpler.\n"
     ]
    }
   ],
   "source": [
    "# 1)  4 points Caesar code\n",
    "\n",
    "#     We've worked on a Caesar code in class,\n",
    "#     Encode a message using a key of 6\n",
    "#     Decode the following message using a key of 12\n",
    "def encode_letter(letter, key):\n",
    "    letter = letter.lower()\n",
    "    alphabet = 'abcdefghijklmnopqrstuvwxyz'\n",
    "    length = len(alphabet)\n",
    "    if letter not in alphabet:\n",
    "        return letter\n",
    "    \n",
    "    number = ord(letter) - ord('a')\n",
    "    code_number = number + key\n",
    "    code_position = code_number % length\n",
    "    code_letter = alphabet[code_position]\n",
    "    return code_letter\n",
    "\n",
    "def decode_letter(letter, key):\n",
    "    decode_key = - key\n",
    "    good_letter = encode_letter(letter, decode_key)\n",
    "    return good_letter\n",
    "\n",
    "secret = \"qhqdkftuzs etagxp nq me euybxq me baeeunxq, ngf za euybxqd.\"\n",
    "code_msg = ''\n",
    "key = 12\n",
    "key_encode = 6\n",
    "\n",
    "\n",
    "for letter in secret:\n",
    "    code_letter = decode_letter(letter, key)\n",
    "    code_msg = code_msg + code_letter\n",
    "\n",
    "print(code_msg)    "
   ]
  },
  {
   "cell_type": "markdown",
   "metadata": {},
   "source": [
    "2<br> Road one starts in Eugene, ends in Florence<br> \n",
    "Eugene --- **bridge a** ------ **bridge b** -----Florence<br><br>\n",
    "Your program must find the **largest load** you can take safely from Eugene to Florence<br><br>\n",
    "Print the **weight limit** of each bridge on road one<br> \n",
    "Print the **largest load** you can take without taking more than any of the bridges can carry.<br><br>\n",
    "*Example*\n",
    "```python\n",
    "Road one  bridge a  11 tons weight limit\n",
    "          bridge b  25 tons weight limit\n",
    "Largest load        11 tons\n",
    "```"
   ]
  },
  {
   "cell_type": "code",
   "execution_count": 2,
   "metadata": {
    "collapsed": false
   },
   "outputs": [
    {
     "name": "stdout",
     "output_type": "stream",
     "text": [
      "Road one\n",
      "Bridge a 24 tons\n",
      "Bridge b 23 tons\n",
      "Largest load is 23 tons\n"
     ]
    }
   ],
   "source": [
    "# 2) 1 point  Bridges, part 1\n",
    "\n",
    "import random\n",
    "# Bridge weight in tons  -- leave this code alone\n",
    "a = random.randint(10, 25)\n",
    "b = random.randint(15, 30)\n",
    "\n",
    "print('Road one')\n",
    "print('Bridge a', a, 'tons')\n",
    "print('Bridge b', b, 'tons')\n",
    "\n",
    "# Your code goes here:\n",
    "   \n",
    "if a <= b:\n",
    "    print('Largest load is', a, 'tons')\n",
    "else:\n",
    "    print('Largest load is', b, 'tons')\n"
   ]
  },
  {
   "cell_type": "markdown",
   "metadata": {},
   "source": [
    "3<br>\n",
    "**Road one** starts in Eugene, ends in Florence<br><br>\n",
    "Eugene --- bridge a ------ bridge b ---------- Florence<br><br>\n",
    "**Road 2** (another route between Eugene and Florence)<br>\n",
    "Eugene --- bridge c --- bridge d ----bridge e-- Florence<br><br>\n",
    "\n",
    "Your program must find the *largest load* you can take from Eugene to Florence<br>\n",
    "Print the **weight limit** of each bridge on **road one**<br>\n",
    "Print the **weight limit** of each bridge on **road two**<br>\n",
    "Print the **largest load** you can take and **the road to use**.<br>\n",
    "\n",
    "*Example*<br>\n",
    "```\n",
    "Road one  bridge a  16 tons weight limit\n",
    "          bridge b  25 tons weight limit\n",
    "          \n",
    "Road two  bridge c  28 tons weight limit\n",
    "          bridge d  22 tons weight limit\n",
    "          bridge e  27 tons weight limit\n",
    "          \n",
    "Largest load        22 tons via Road two\n",
    "```"
   ]
  },
  {
   "cell_type": "code",
   "execution_count": 3,
   "metadata": {
    "collapsed": false
   },
   "outputs": [
    {
     "name": "stdout",
     "output_type": "stream",
     "text": [
      "Road one\n",
      "Bridge a 20 tons weight limit\n",
      "Bridge b 26 tons weight limit\n",
      "\n",
      "Road two\n",
      "Bridge c 35 tons weight limit\n",
      "Bridge d 27 tons weight limit\n",
      "Bridge e 46 tons weight limit\n",
      "\n",
      "Largest load is 27 tons via Road two\n"
     ]
    }
   ],
   "source": [
    "# 3) 2 points  Bridges, part 2\n",
    "\n",
    "import random\n",
    "# Bridge weight in tons  -- leave this code alone\n",
    "a = random.randint(15, 25)\n",
    "b = random.randint(10, 30)\n",
    "\n",
    "c = random.randint(20, 40)\n",
    "d = random.randint(10, 30)\n",
    "e = random.randint(5, 50)\n",
    "\n",
    "# Your code goes here:\n",
    "print('Road one')\n",
    "print('Bridge a', a, 'tons weight limit')\n",
    "print('Bridge b', b, 'tons weight limit\\n')\n",
    "\n",
    "print('Road two')\n",
    "print('Bridge c', c, 'tons weight limit')\n",
    "print('Bridge d', d, 'tons weight limit')\n",
    "print('Bridge e', e, 'tons weight limit\\n')\n",
    "\n",
    "if a <= b:\n",
    "    road_one = a\n",
    "else:\n",
    "    road_one = b\n",
    "\n",
    "if c <= d:\n",
    "    if c <= e:\n",
    "        road_two = c\n",
    "elif d <= c:\n",
    "    if d <= e:\n",
    "        road_two = d\n",
    "else:\n",
    "    road_two = e\n",
    "\n",
    "if road_one >= road_two:\n",
    "    print('Largest load is', road_one, 'tons via Road one')\n",
    "else:\n",
    "    print('Largest load is', road_two, 'tons via Road two')\n"
   ]
  },
  {
   "cell_type": "markdown",
   "metadata": {},
   "source": [
    "4<br>\n",
    "Road one starts in Eugene, ends in Florence<br>\n",
    "Road two is another way between Eugene and Florence<br><br>\n",
    "**Short road** connects roads one and two after the first bridge on each road.<br><br>\n",
    "You now have *several routes* between Eugene and Florence.<br>\n",
    "\n",
    "```\n",
    "Eugene --- bridge a ------ bridge b -------------- Florence\n",
    "                      |\n",
    "Eugene --- bridge c ------ bridge d ----bridge e-- Florence\n",
    "```\n",
    "Your program must find the largest load you can safely take from Eugene to Florence<br>\n",
    "Print the **weight limit** of **each bridge** on road one<br>\n",
    "Print the **weight limit** of **each bridge** on road two<br><br>\n",
    "Print the **largest load** you can take and the **route to use**.<br>\n",
    "*Example*<br>\n",
    "```\n",
    "Road one  bridge a  27 tons weight limit\n",
    "          bridge b  25 tons weight limit\n",
    "\n",
    "Road two  bridge c  25 tons weight limit\n",
    "          bridge d  28 tons weight limit\n",
    "          bridge e  37 tons weight limit\n",
    "\n",
    "Largest load        27 tons\n",
    "\n",
    "Route \n",
    "Road one  bridge a  27 tons\n",
    "Short road\n",
    "Road two  bridge d  28 tons\n",
    "          bridge e  37 tons\n",
    "```\n",
    "*Optional* 1 point extra credit<br>\n",
    "Print each route and its largest load"
   ]
  },
  {
   "cell_type": "code",
   "execution_count": 4,
   "metadata": {
    "collapsed": false
   },
   "outputs": [
    {
     "name": "stdout",
     "output_type": "stream",
     "text": [
      "Road one\n",
      "Bridge a 29 tons weight limit\n",
      "Bridge b 28 tons weight limit\n",
      "\n",
      "Road two\n",
      "Bridge c 29 tons weight limit\n",
      "Bridge d 29 tons weight limit\n",
      "Bridge e 35 tons weight limit\n",
      "\n",
      "Largest load is 29 tons via Road two\n",
      "\n",
      "Route one largest load is 28 tons\n",
      "Route two largest load is 29 tons\n",
      "Route three largest load is 29 tons\n",
      "Route four largest load is 28 tons\n"
     ]
    }
   ],
   "source": [
    "# 4) 4 points   Bridges, part 3\n",
    "\n",
    "# Road one, Short Road, Road 2  Select best route\n",
    "\n",
    "import random\n",
    "# Bridge weight in tons  -- leave this code alone\n",
    "a = random.randint(25, 32)\n",
    "b = random.randint(15, 30)\n",
    "\n",
    "c = random.randint(25, 32)\n",
    "d = random.randint(20, 30)\n",
    "e = random.randint(15, 50)\n",
    "\n",
    "# Your code:\n",
    "\n",
    "print('Road one')\n",
    "print('Bridge a', a, 'tons weight limit')\n",
    "print('Bridge b', b, 'tons weight limit\\n')\n",
    "\n",
    "print('Road two')\n",
    "print('Bridge c', c, 'tons weight limit')\n",
    "print('Bridge d', d, 'tons weight limit')\n",
    "print('Bridge e', e, 'tons weight limit\\n')\n",
    "\n",
    "#nuked code\n",
    "\"\"\"if a <= b:\n",
    "    road_one = a\n",
    "else:\n",
    "    road_one = b\n",
    "\n",
    "\n",
    "if c <= d:\n",
    "    if c <= e:\n",
    "        road_two = c\n",
    "elif d <= c:\n",
    "    if d <= e:\n",
    "        road_two = d\n",
    "else:\n",
    "    road_two = e\n",
    "\n",
    "if a >= c:\n",
    "    if a <= d:\n",
    "        if a <= e:\n",
    "            short_road = a\n",
    "    elif d <= a:\n",
    "        if d <= e:\n",
    "            short_road = d\n",
    "    else:\n",
    "        short_road = e\n",
    "elif c >= a:\n",
    "    if c <= b:\n",
    "        short_road = c\n",
    "    else:\n",
    "        short_road = b\n",
    "\n",
    "\n",
    "if ((road_one >= road_two) and (road_one >= short_road)):\n",
    "    print('Largest load is', road_one, 'tons via Road one')\n",
    "elif ((road_two >= road_one) and (road_two >= short_road)):\n",
    "    print('Largest load is', road_two, 'tons via Road two')\n",
    "else:\n",
    "    print('Largest load is', short_road, 'tons via short road')\"\"\"\n",
    "route1 = min(a,b)\n",
    "route2 = min(c,d,e)\n",
    "route3 = min(a,d,e)\n",
    "route4 = min(c,b)\n",
    "\n",
    "best = max(route1, route2, route3, route4)\n",
    "if best == route1:\n",
    "    print('Largest load is', route1, 'tons via Road one\\n')\n",
    "elif best == route2:\n",
    "    print('Largest load is', route2, 'tons via Road two\\n')\n",
    "elif best == route3:\n",
    "    print('Largest load is', route3, 'tons via short road A\\n')\n",
    "else:\n",
    "    print('Largest load is', route4, 'tons via short road C\\n')\n",
    "\n",
    "print(\"Route one largest load is\", route1, 'tons')\n",
    "print(\"Route two largest load is\", route2, 'tons')\n",
    "print(\"Route three largest load is\", route3, 'tons')\n",
    "print(\"Route four largest load is\", route4, 'tons')"
   ]
  },
  {
   "cell_type": "markdown",
   "metadata": {},
   "source": [
    "## Calendar - Day of Week \n",
    "January 1, 2017 was a Sunday<br>\n",
    "Using a weekday list\n",
    "```python\n",
    "['Sun', 'Mon', 'Tue', 'Wed', 'Thu', 'Fri', 'Sat']\n",
    "```\n",
    "display the weekday for any given **month number** and **day** in 2017<br>\n",
    "Given **month 3**, **day 21**, your program should display **'Tue'**<br>\n",
    "\n",
    "Hint: <a href='#calendar'>Calendar hint - click here</a>\n"
   ]
  },
  {
   "cell_type": "code",
   "execution_count": 5,
   "metadata": {
    "collapsed": false
   },
   "outputs": [
    {
     "name": "stdout",
     "output_type": "stream",
     "text": [
      "month 3 day 21 is a Tue\n"
     ]
    }
   ],
   "source": [
    "# 5)  6 points,  Calendar Day of Week\n",
    "\n",
    "days_of_week = ['Sun', 'Mon', 'Tue', 'Wed', 'Thu', 'Fri', 'Sat']\n",
    "\n",
    "# your code:\n",
    "\n",
    "days_in_month = [31, 28, 31, 30, 31, 30, 31, 31, 30, 31, 30, 31]\n",
    "\n",
    "month = 3\n",
    "day = 21\n",
    "days = []\n",
    "\n",
    "for i in range(month-1):\n",
    "    days.append(days_in_month[i]) \n",
    "    \n",
    "sum_days = sum(days)\n",
    "total_days = sum_days + day\n",
    "\n",
    "the_day = (total_days % 7) - 1\n",
    "weekday = days_of_week[the_day]\n",
    "print('month', month, 'day', day, 'is a', weekday)"
   ]
  },
  {
   "cell_type": "markdown",
   "metadata": {},
   "source": [
    "### Count runs of dice 6's<br>\n",
    "Example:<br>\n",
    "\n",
    "```\n",
    "  #  0  1  2  3  4  5\n",
    "  [  1, 6, 6, 5, 4, 6]\n",
    "  print\n",
    "  Longest series of 6's:  2  starting at index 1\n",
    "```\n",
    "<br>\n",
    "Bonus: if you find 2 or more sequences all of the same \n",
    "longest length, announce how many you found<br><br>\n",
    "\n",
    "\n",
    "Bonus 2: if you find 2 or more sequences all the same longest\n",
    "length, announce both the number in the longest sequence\n",
    "and the starting offsets for each of those sequences<br>\n",
    "\n",
    "```\n",
    "     # 0  1  2  3  4  5  6  7\n",
    "     [ 2, 6, 6, 6, 3, 6, 6, 6]\n",
    "     print\n",
    "     Longest sequence: 3 6's in a row\n",
    "     Number of longest sequences found: 2\n",
    "     Starting locations 1, 5\n",
    "```"
   ]
  },
  {
   "cell_type": "code",
   "execution_count": 6,
   "metadata": {
    "collapsed": false
   },
   "outputs": [
    {
     "name": "stdout",
     "output_type": "stream",
     "text": [
      "[3, 6, 4, 3, 1, 3, 4, 1, 2, 1, 4, 5, 6, 2, 4, 6, 6, 2, 1, 4]\n",
      "ammount of 6's:  4\n"
     ]
    }
   ],
   "source": [
    "# 6) 3 points  Dice roll runs of 6's\n",
    "\n",
    "import random\n",
    "\n",
    "dice_rolls = []\n",
    "count = 0\n",
    "n_rolls = 20       # Change to 300 when code works well\n",
    "for i in range(n_rolls):\n",
    "    dice = random.randint(1,6) # roll a die\n",
    "    dice_rolls.append(dice)\n",
    "#\n",
    "# Your code will search for runs of 6's\n",
    "\n",
    "    if dice == 6:\n",
    "        count += 1  \n",
    "        \n",
    "        \n",
    "print(dice_rolls)\n",
    "print(\"ammount of 6's: \", count) \n",
    "\n"
   ]
  },
  {
   "cell_type": "markdown",
   "metadata": {},
   "source": [
    "7)  A **prime number** is a number like 23 that is **not evenly\n",
    "divisible** by any number other than 1 and itself<br>\n",
    "\n",
    "The first prime number is 2, the next 3.<br>\n",
    "\n",
    "A number like 21 is divisble by 3, so it's not a prime.<br>\n",
    "\n",
    "### Create and print a list of the prime numbers less than 1000.<br>\n",
    "\n",
    "**Hint**: start smaller, first get all the primes up to 20\n",
    "then up to 100, finally, up to 1000.<br>\n",
    "  \n",
    "To check:<br>\n",
    "Primes up to 20:\n",
    "\n",
    "```\n",
    "2, 3, 5, 7, 11, 13, 17, 19\n",
    "```\n",
    "\n",
    "\n",
    "Bonus:<br> \n",
    "Find two distinctly different ways for your program\n",
    "to find all the prime numbers less than 1000.<br><br>\n",
    "\n",
    "Bonus 2:<br>\n",
    "Numbers of the form   ```(2**n) -1```  where n is also prime\n",
    "are often prime<br> \n",
    "Examples<br>\n",
    "\n",
    "``` \n",
    "2**3 -1 is 7, a prime\n",
    "2**5 -1 is 31, a prime \n",
    "```\n",
    "<ul>\n",
    "<li>Can you find some additional numbers of this form?</li>\n",
    "\n",
    "<li>Are they all prime?</li>\n",
    "<li>Note:</li> \n",
    "<li>2\\*\\*n - 1 gives you a binary number with n 1's,</li>\n",
    "<li>2\\*\\*3 - 1 gives your binary 111  &nbsp; &nbsp; 4+2+1 is 7</li>\n",
    "</ul>\n",
    "\n",
    "\n"
   ]
  },
  {
   "cell_type": "code",
   "execution_count": 7,
   "metadata": {
    "collapsed": false
   },
   "outputs": [
    {
     "name": "stdout",
     "output_type": "stream",
     "text": [
      "[2, 3, 5, 7, 11, 13, 17, 19, 23, 29, 31, 37, 41, 43, 47, 53, 59, 61, 67, 71, 73, 79, 83, 89, 97, 101, 103, 107, 109, 113, 127, 131, 137, 139, 149, 151, 157, 163, 167, 173, 179, 181, 191, 193, 197, 199, 211, 223, 227, 229, 233, 239, 241, 251, 257, 263, 269, 271, 277, 281, 283, 293, 307, 311, 313, 317, 331, 337, 347, 349, 353, 359, 367, 373, 379, 383, 389, 397, 401, 409, 419, 421, 431, 433, 439, 443, 449, 457, 461, 463, 467, 479, 487, 491, 499, 503, 509, 521, 523, 541, 547, 557, 563, 569, 571, 577, 587, 593, 599, 601, 607, 613, 617, 619, 631, 641, 643, 647, 653, 659, 661, 673, 677, 683, 691, 701, 709, 719, 727, 733, 739, 743, 751, 757, 761, 769, 773, 787, 797, 809, 811, 821, 823, 827, 829, 839, 853, 857, 859, 863, 877, 881, 883, 887, 907, 911, 919, 929, 937, 941, 947, 953, 967, 971, 977, 983, 991, 997]\n"
     ]
    }
   ],
   "source": [
    "# 7) 5 points  - Prime numbers\n",
    "\n",
    "# Your code here:\n",
    "\n",
    "primes = []\n",
    "yes = True\n",
    "no = False\n",
    "\n",
    "n = 1000\n",
    "for number in range(2,n):\n",
    "    prime = yes\n",
    "    for j in range(2,number):\n",
    "        if ((number % j) == 0):\n",
    "            prime = no\n",
    "            break\n",
    "    if prime == True:\n",
    "        primes.append(number)\n",
    "    \n",
    "print(primes)\n",
    "            \n"
   ]
  },
  {
   "cell_type": "code",
   "execution_count": 8,
   "metadata": {
    "collapsed": false
   },
   "outputs": [
    {
     "name": "stdout",
     "output_type": "stream",
     "text": [
      "[0, 1, 3, 7, 15, 31, 63, 127, 255, 511, 1023]\n"
     ]
    }
   ],
   "source": [
    "#Bonus 2\n",
    "prime_list = []\n",
    "for n in range(11):\n",
    "    number = (2**n) - 1\n",
    "    prime_list.append(number)\n",
    "print(prime_list)\n",
    "\n",
    "#you can find numbers of 2 ^ n -1 but not all are primes\n",
    "#primes are powers at 2,3,5,7 in the current list"
   ]
  },
  {
   "cell_type": "markdown",
   "metadata": {},
   "source": [
    "<br>\n",
    "### Find 2 smallest numbers in a list<br>\n",
    "\n",
    "Example 1  [4, 17, -1, 2]  # Smallest **-1, 2**<br>\n",
    "Example 2  [4, 17, 2, 2]  # Smallest **2, 4**<br>  \n",
    "Note treat multiple 2's as one smallest value; ignore multiple smallests<br>\n",
    "Do this two ways<br><br>\n",
    "a) \"Find, filter, find again\"  Hint:<a href='#smallest'>Click here for hint</a><br><br>\n",
    "b) Iterate, tracking two lowest values so far. Hint:<a href='#smallest2'>Click here for another hint.</a><br><br>\n",
    "You may assume your list has at least two distinct numbers in it.\n",
    "\n"
   ]
  },
  {
   "cell_type": "code",
   "execution_count": 9,
   "metadata": {
    "collapsed": false
   },
   "outputs": [
    {
     "name": "stdout",
     "output_type": "stream",
     "text": [
      "(1, 2)\n",
      "(21, 32)\n",
      "(3, 4)\n"
     ]
    }
   ],
   "source": [
    "# 8)  5 pts\n",
    "\n",
    "# You can assume your list has at least 2 distinct numbers in it.\n",
    "\n",
    "# You could test your program using these two lists\n",
    "\n",
    "first_list = [5, 6, 1, 16, 87, 3, 4, 2, 15] # Should get 1, 2\n",
    "\n",
    "another_list = [65, 87, 119, 21, 55, 21, 32, 97] # Should get 21, 32\n",
    "\n",
    "final_list = [3, 4, 6]\n",
    "\n",
    "# Your code here:\n",
    "\n",
    "def smallest_two(L):\n",
    "    #find the index of the minimum and remove that item (though don't need index)\n",
    "    smallest = min(L)\n",
    "    min1 = L.index(smallest)\n",
    "    L.remove(smallest)\n",
    "    \n",
    "    #find the index of the new minimum (though don't need index)\n",
    "    smallest2 = min(L)\n",
    "    min2 = L.index(smallest2)\n",
    "    \n",
    "    while (smallest == smallest2):\n",
    "        L.remove(smallest2)\n",
    "        smallest2 = min(L)\n",
    "        \n",
    "\n",
    "    \n",
    "    #put smallest back into L\n",
    "    L.insert(min1, smallest)\n",
    "    \n",
    "    #Fix min2 in cas it was affected by the reinsertion\n",
    "    if min1 <= min2:\n",
    "        min2 += 1\n",
    "\n",
    "    return(smallest, smallest2)\n",
    "\n",
    "first = (smallest_two(first_list))\n",
    "print(first)\n",
    "second = (smallest_two(another_list))\n",
    "print(second)\n",
    "third = (smallest_two(final_list))\n",
    "print(third)"
   ]
  },
  {
   "cell_type": "markdown",
   "metadata": {},
   "source": [
    "### Some hints"
   ]
  },
  {
   "cell_type": "markdown",
   "metadata": {},
   "source": [
    "<a id='calendar'></a><br>\n",
    "\n",
    "**Hint**: compute the **day number** - number of days since Jan 1\n",
    "and use remainder arithmetic on the day number to get day of week.<br><br>"
   ]
  },
  {
   "cell_type": "markdown",
   "metadata": {},
   "source": [
    "<a id='calendar2'></a><br>\n",
    "\n",
    "**Hint**: use a **list of number of days in months**<br>\n",
    "```python\n",
    "month_days = [31, 28, 31, ... ]\n",
    "```<br><br><br>"
   ]
  },
  {
   "cell_type": "markdown",
   "metadata": {},
   "source": [
    "<a id='smallest'></a>\n",
    "\n",
    "**Hint**: After creating a copy of list without the smallest value, use **min** on the copy.<br><br>\n",
    "\n",
    "\n"
   ]
  },
  {
   "cell_type": "markdown",
   "metadata": {},
   "source": [
    "<a id='smallest2'></a>\n",
    "\n",
    "**Hint**: Check your text pages **chapter 12** starting at page 224<br><br>\n",
    "\n"
   ]
  }
 ],
 "metadata": {
  "anaconda-cloud": {},
  "kernelspec": {
   "display_name": "Python [conda root]",
   "language": "python",
   "name": "conda-root-py"
  },
  "language_info": {
   "codemirror_mode": {
    "name": "ipython",
    "version": 3
   },
   "file_extension": ".py",
   "mimetype": "text/x-python",
   "name": "python",
   "nbconvert_exporter": "python",
   "pygments_lexer": "ipython3",
   "version": "3.5.2"
  }
 },
 "nbformat": 4,
 "nbformat_minor": 2
}
