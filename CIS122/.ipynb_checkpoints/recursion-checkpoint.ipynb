{
 "cells": [
  {
   "cell_type": "code",
   "execution_count": 2,
   "metadata": {
    "collapsed": true
   },
   "outputs": [],
   "source": [
    "from PIL import Image, ImageDraw\n",
    "import math"
   ]
  },
  {
   "cell_type": "code",
   "execution_count": 3,
   "metadata": {
    "collapsed": true
   },
   "outputs": [],
   "source": [
    "def blank_image(width, height):\n",
    "    '''creates an image with the given dimensions and returns it'''\n",
    "    img = Image.new(mode='1', size=(width, height))\n",
    "    return img"
   ]
  },
  {
   "cell_type": "code",
   "execution_count": 4,
   "metadata": {
    "collapsed": true
   },
   "outputs": [],
   "source": [
    "def draw_line(img, x0, y0, x1, y1):\n",
    "    '''draw a white line within the\n",
    "    variable img starting from coordinate (x0, y0)\n",
    "    and ending at (x1, y1)'''\n",
    "    draw = ImageDraw.Draw(img)\n",
    "    draw.line([(x0, y0), (x1, y1)], 1)"
   ]
  },
  {
   "cell_type": "code",
   "execution_count": 5,
   "metadata": {
    "collapsed": true
   },
   "outputs": [],
   "source": [
    "def get_distance(length, angle):\n",
    "    '''given a hypotenuse of size length and\n",
    "    an angle return size of adjacent and opposite sides'''\n",
    "    y = math.sin(math.radians(angle))*length\n",
    "    x = math.cos(math.radians(angle))*length\n",
    "    \n",
    "    return (x, y)"
   ]
  },
  {
   "cell_type": "code",
   "execution_count": 6,
   "metadata": {
    "collapsed": false
   },
   "outputs": [],
   "source": [
    "img = blank_image(2000, 2000)"
   ]
  },
  {
   "cell_type": "code",
   "execution_count": 12,
   "metadata": {
    "collapsed": false
   },
   "outputs": [],
   "source": [
    "def recursive_line(img, x0, y0, length, angle):\n",
    "    if length > 0:\n",
    "        dx, dy = get_distance(length, angle)\n",
    "        draw_line(img, x0, y0, x0 + dx, y0 + dy)\n",
    "        mx = int(x0 + dx/2)\n",
    "        my = int(y0 + dy/2)\n",
    "        new_length = int(length/2)\n",
    "        new_angle = angle + 90\n",
    "        recursive_line(img, mx, my, new_length, new_angle)"
   ]
  },
  {
   "cell_type": "code",
   "execution_count": 19,
   "metadata": {
    "collapsed": false
   },
   "outputs": [],
   "source": [
    "recursive_line(img, 0, img.height//2, img.width, 0)"
   ]
  },
  {
   "cell_type": "code",
   "execution_count": 14,
   "metadata": {
    "collapsed": false
   },
   "outputs": [
    {
     "data": {
      "image/png": "[encoded data removed]",
      "text/plain": [
       "<PIL.Image.Image image mode=1 size=2000x2000 at 0xBEF34CCF28>"
      ]
     },
     "execution_count": 14,
     "metadata": {},
     "output_type": "execute_result"
    }
   ],
   "source": [
    "img"
   ]
  },
  {
   "cell_type": "code",
   "execution_count": 15,
   "metadata": {
    "collapsed": true
   },
   "outputs": [],
   "source": [
    "img2 = blank_image(2000, 2000)"
   ]
  },
  {
   "cell_type": "code",
   "execution_count": 27,
   "metadata": {
    "collapsed": true
   },
   "outputs": [],
   "source": [
    "def recursive_quaters(img, x0, y0, length, angle):\n",
    "    if length:\n",
    "        dx, dy = get_distance(length, angle)\n",
    "        draw_line(img, x0, y0, x0 + dx, y0 + dy)\n",
    "        qx = int(x0 + dx/4)\n",
    "        qy = int(y0 + dy/4)\n",
    "        new_length = int(length/2)\n",
    "        new_angle = angle + 90\n",
    "        recursive_quaters(img, qx, qy, new_length, new_angle)\n",
    "        \n",
    "        qx = int(x0 + 3*dx/4)\n",
    "        qy = int(y0 + 3*dy/4)\n",
    "        new_length = int(length/2)\n",
    "        new_angle = angle - 90\n",
    "        recursive_quaters(img, qx, qy, new_length, new_angle)"
   ]
  },
  {
   "cell_type": "code",
   "execution_count": 28,
   "metadata": {
    "collapsed": true
   },
   "outputs": [],
   "source": [
    "recursive_quaters(img2, 0, img2.height//2, img2.width, 0)"
   ]
  },
  {
   "cell_type": "code",
   "execution_count": 29,
   "metadata": {
    "collapsed": false
   },
   "outputs": [
    {
     "data": {
      "image/png": "[encoded data removed]",
      "text/plain": [
       "<PIL.Image.Image image mode=1 size=2000x2000 at 0xBEF3ACA0B8>"
      ]
     },
     "execution_count": 29,
     "metadata": {},
     "output_type": "execute_result"
    }
   ],
   "source": [
    "img2"
   ]
  },
  {
   "cell_type": "code",
   "execution_count": 30,
   "metadata": {
    "collapsed": true
   },
   "outputs": [],
   "source": [
    "img3 = blank_image(2000, 2000)"
   ]
  },
  {
   "cell_type": "code",
   "execution_count": 34,
   "metadata": {
    "collapsed": true
   },
   "outputs": [],
   "source": [
    "def recursive_tree(img, x0, y0, length, angle):\n",
    "    if length > 0:\n",
    "        dx, dy = get_distance(length, angle)\n",
    "        draw_line(img, x0, y0, x0 - dx, y0 - dy)\n",
    "        \n",
    "        bx = int(x0 - dx/3)\n",
    "        by = int(y0 - dy/3)\n",
    "        new_length = int(length/3)\n",
    "        new_angle = angle + 30\n",
    "        recursive_tree(img, bx, by, new_length, new_angle)\n",
    "        \n",
    "        bx = int(x0 - 2*dx/3)\n",
    "        by = int(y0 - 2*dy/3)\n",
    "        new_length = int(length/3)\n",
    "        new_angle = angle - 30\n",
    "        recursive_tree(img, bx, by, new_length, new_angle)\n",
    "        "
   ]
  },
  {
   "cell_type": "code",
   "execution_count": 35,
   "metadata": {
    "collapsed": false
   },
   "outputs": [],
   "source": [
    "recursive_tree(img3, img3.width//2, img3.height, img3.height//2, 90)"
   ]
  },
  {
   "cell_type": "code",
   "execution_count": 36,
   "metadata": {
    "collapsed": false
   },
   "outputs": [
    {
     "data": {
      "image/png": "[encoded data removed]",
      "text/plain": [
       "<PIL.Image.Image image mode=1 size=2000x2000 at 0xBEF35C63C8>"
      ]
     },
     "execution_count": 36,
     "metadata": {},
     "output_type": "execute_result"
    }
   ],
   "source": [
    "img3"
   ]
  },
  {
   "cell_type": "code",
   "execution_count": null,
   "metadata": {
    "collapsed": true
   },
   "outputs": [],
   "source": []
  }
 ],
 "metadata": {
  "anaconda-cloud": {},
  "kernelspec": {
   "display_name": "Python [default]",
   "language": "python",
   "name": "python3"
  },
  "language_info": {
   "codemirror_mode": {
    "name": "ipython",
    "version": 3
   },
   "file_extension": ".py",
   "mimetype": "text/x-python",
   "name": "python",
   "nbconvert_exporter": "python",
   "pygments_lexer": "ipython3",
   "version": "3.5.2"
  }
 },
 "nbformat": 4,
 "nbformat_minor": 2
}
