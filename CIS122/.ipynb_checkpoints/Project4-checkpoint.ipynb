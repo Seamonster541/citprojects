{
 "cells": [
  {
   "cell_type": "markdown",
   "metadata": {},
   "source": [
    "#  Project 4 by Simon Eeds"
   ]
  },
  {
   "cell_type": "markdown",
   "metadata": {},
   "source": [
    "# Part A"
   ]
  },
  {
   "cell_type": "code",
   "execution_count": 8,
   "metadata": {
    "collapsed": false
   },
   "outputs": [
    {
     "name": "stdout",
     "output_type": "stream",
     "text": [
      "How many sea gulls did you see today? 20\n",
      "You saw 20 seagulls today\n",
      "How many laptops computers do you own? 30\n",
      "You own 30 laptop computers\n",
      "How much does a gallon of gas cost today? 14.55\n",
      "Gas costs $ 14.55 per gallon today\n",
      "How much does a Starbucks 20 ounce latte cost? 20.55\n",
      "Starbucks charges about 20.55 for a large latte\n"
     ]
    }
   ],
   "source": [
    "def input_int(request_string):\n",
    "    user_string = input(request_string)\n",
    "    result = int(user_string)\n",
    "    return result\n",
    "\n",
    "prompt = \"How many sea gulls did you see today? \"\n",
    "seagulls = input_int(prompt)\n",
    "print(\"You saw\", seagulls, \"seagulls today\")\n",
    "computer_count = input_int(\"How many laptops computers do you own? \")\n",
    "print(\"You own\", computer_count, \"laptop computers\")\n"
   ]
  },
  {
   "cell_type": "code",
   "execution_count": 9,
   "metadata": {
    "collapsed": false
   },
   "outputs": [
    {
     "name": "stdout",
     "output_type": "stream",
     "text": [
      "How much does a gallon of gas cost today? 20.55\n",
      "Gas costs $ 20.55 per gallon today\n",
      "How much does a Starbucks 20 ounce latte cost? 13.44\n",
      "Starbucks charges about 13.44 for a large latte\n"
     ]
    }
   ],
   "source": [
    "def input_float(request_string):\n",
    "    user_string = input(request_string)\n",
    "    result = float(user_string)\n",
    "    return result\n",
    "\n",
    "price_prompt = \"How much does a gallon of gas cost today? \"\n",
    "gas_price = input_float(price_prompt)\n",
    "print(\"Gas costs $\", gas_price, \"per gallon today\")\n",
    "latte_prompt = \"How much does a Starbucks 20 ounce latte cost? \"\n",
    "latte_cost = input_float(latte_prompt)\n",
    "print(\"Starbucks charges about\", latte_cost, \"for a large latte\")\n"
   ]
  },
  {
   "cell_type": "code",
   "execution_count": 15,
   "metadata": {
    "collapsed": false
   },
   "outputs": [
    {
     "name": "stdout",
     "output_type": "stream",
     "text": [
      "36 inches = 432 feet\n",
      "11.8 inches = 141.6 feet\n"
     ]
    }
   ],
   "source": [
    "def inches_to_feet(inches):\n",
    "    inches_to_feet = round((inches * 12), 2)\n",
    "    return inches_to_feet\n",
    "    \n",
    "number_of_inches = 36\n",
    "number_of_feet = inches_to_feet(number_of_inches)\n",
    "my_distance = 11.8 # inches\n",
    "my_feet = inches_to_feet(my_distance)\n",
    "print(number_of_inches, 'inches =', number_of_feet, 'feet')\n",
    "print(my_distance, 'inches =', my_feet, 'feet')"
   ]
  },
  {
   "cell_type": "code",
   "execution_count": 5,
   "metadata": {
    "collapsed": false
   },
   "outputs": [
    {
     "name": "stdout",
     "output_type": "stream",
     "text": [
      "20 degrees C = 68.0 degrees F\n"
     ]
    }
   ],
   "source": [
    "def C_to_F(C_degrees):\n",
    "    C_to_F = ((C_degrees * 9/5) + 32)\n",
    "    return C_to_F\n",
    "    \n",
    "    \n",
    "C_temperature = 20\n",
    "F_degrees = C_to_F(C_temperature)\n",
    "print(C_temperature, 'degrees C =', F_degrees, 'degrees F')"
   ]
  },
  {
   "cell_type": "code",
   "execution_count": 1,
   "metadata": {
    "collapsed": false
   },
   "outputs": [
    {
     "name": "stdout",
     "output_type": "stream",
     "text": [
      "68 degrees F = 20.0 degrees C\n"
     ]
    }
   ],
   "source": [
    "def F_to_C(F_degrees):\n",
    "    F_to_C = ((F_degrees - 32) * 5/9)\n",
    "    return F_to_C\n",
    "    \n",
    "F_temperature = 68\n",
    "C_degrees = F_to_C(F_temperature)\n",
    "print(F_temperature, 'degrees F =', C_degrees, 'degrees C')"
   ]
  },
  {
   "cell_type": "code",
   "execution_count": 6,
   "metadata": {
    "collapsed": false
   },
   "outputs": [
    {
     "name": "stdout",
     "output_type": "stream",
     "text": [
      "3.1 miles = 5.0 km\n"
     ]
    }
   ],
   "source": [
    "def miles_to_km(miles):\n",
    "    miles_to_km = miles * 1.60934\n",
    "    km = round(miles_to_km, 1)\n",
    "    return km\n",
    "    \n",
    "miles_run = 3.1\n",
    "km_run = miles_to_km(miles_run)\n",
    "print(miles_run, 'miles =', km_run, 'km')"
   ]
  },
  {
   "cell_type": "code",
   "execution_count": 10,
   "metadata": {
    "collapsed": false
   },
   "outputs": [
    {
     "name": "stdout",
     "output_type": "stream",
     "text": [
      "3.1 miles = 5.0 km\n"
     ]
    }
   ],
   "source": [
    "def km_to_miles(km):\n",
    "    km_to_miles = km * 0.621371\n",
    "    miles_round = round(km_to_miles, 1)\n",
    "    return miles_round\n",
    "    \n",
    "kilometers = 5.0\n",
    "miles = km_to_miles(kilometers)\n",
    "print(miles, 'miles =', kilometers, 'km')"
   ]
  },
  {
   "cell_type": "code",
   "execution_count": 16,
   "metadata": {
    "collapsed": false
   },
   "outputs": [
    {
     "name": "stdout",
     "output_type": "stream",
     "text": [
      "higest radiation are:  [7.6, 1.1, 4.7, 3.2, 4.8]\n",
      "The total is:  21.4\n",
      "amount of radiation levels:  5\n"
     ]
    }
   ],
   "source": [
    "radiation_levels = [0.2, 0.4, 7.6, 1.1, 0.98, 4.7, 0.5, 3.2, 4.8, 0.2]\n",
    "highest_radiation = []\n",
    "\n",
    "for radiation in radiation_levels:\n",
    "    if radiation >= 1.0:\n",
    "        highest_radiation.append(radiation)\n",
    "\n",
    "print(\"higest radiation are: \", highest_radiation)\n",
    "total = sum(highest_radiation)\n",
    "print(\"The total is: \", total)\n",
    "ammount = len(highest_radiation)\n",
    "print(\"amount of radiation levels: \", ammount)"
   ]
  },
  {
   "cell_type": "code",
   "execution_count": 18,
   "metadata": {
    "collapsed": false
   },
   "outputs": [
    {
     "name": "stdout",
     "output_type": "stream",
     "text": [
      "lowest radiation are:  [0.2, 0.4, 0.98, 0.5, 0.2]\n",
      "The total is:  2.3\n",
      "amount of radiation levels:  5\n"
     ]
    }
   ],
   "source": [
    "radiation_levels = [0.2, 0.4, 7.6, 1.1, 0.98, 4.7, 0.5, 3.2, 4.8, 0.2]\n",
    "lowest_radiation = []\n",
    "\n",
    "for radiation in radiation_levels:\n",
    "    if radiation < 1.0:\n",
    "        lowest_radiation.append(radiation)\n",
    "\n",
    "print(\"lowest radiation are: \", lowest_radiation)\n",
    "total = sum(lowest_radiation)\n",
    "print(\"The total is: \", round(total, 1))\n",
    "ammount = len(lowest_radiation)\n",
    "print(\"amount of radiation levels: \", ammount)"
   ]
  },
  {
   "cell_type": "code",
   "execution_count": 6,
   "metadata": {
    "collapsed": false
   },
   "outputs": [
    {
     "name": "stdout",
     "output_type": "stream",
     "text": [
      "Enter the score 50\n",
      "Your score is  50  and your grade is  F\n",
      "Enter the score 62\n",
      "Your score is  62  and your grade is  F\n",
      "Enter the score 20\n",
      "Your score is  20  and your grade is  F\n",
      "Enter the score 100\n",
      "Your score is  100  and your grade is  A\n",
      "Enter the score 70\n",
      "Your score is  70  and your grade is  D\n"
     ]
    }
   ],
   "source": [
    "def get_grade(score):\n",
    "    if score >= 90:\n",
    "        grade = 'A'\n",
    "        return grade\n",
    "        \n",
    "    elif score >= 80:\n",
    "        grade = 'B'\n",
    "        return grade\n",
    "        \n",
    "    elif score >= 75:\n",
    "        grade = 'C'\n",
    "        return grade\n",
    "        \n",
    "    elif score >= 65:\n",
    "        grade = 'D'\n",
    "        return grade\n",
    "\n",
    "    else:\n",
    "        grade = 'F'\n",
    "        return grade\n",
    "\n",
    "for i in range(5):        \n",
    "    points = int(input(\"Enter the score \"))\n",
    "    print(\"Your score is \", points, \" and your grade is \", get_grade(points))"
   ]
  },
  {
   "cell_type": "code",
   "execution_count": 5,
   "metadata": {
    "collapsed": false
   },
   "outputs": [
    {
     "name": "stdout",
     "output_type": "stream",
     "text": [
      "1600 is a leap year\n"
     ]
    }
   ],
   "source": [
    "def leap_year(year):\n",
    "    \n",
    "    if ((year % 400) == 0):\n",
    "        leap_year = 1\n",
    "        return leap_year\n",
    "   \n",
    "    elif ((year % 100) == 0):\n",
    "        leap_year = 0\n",
    "        return leap_year\n",
    "    \n",
    "    elif ((year % 4) == 0):\n",
    "        leap_year = 1\n",
    "        return leap_year\n",
    "    \n",
    "    else:\n",
    "        leap_year = 0\n",
    "        return leap_year\n",
    "\n",
    "    \n",
    "\n",
    "year = 1600\n",
    "leap = leap_year(year)\n",
    "if leap == 1:\n",
    " print(year, 'is a leap year')\n",
    "else:\n",
    " print(year, 'not a leap year')\n"
   ]
  },
  {
   "cell_type": "code",
   "execution_count": 11,
   "metadata": {
    "collapsed": false
   },
   "outputs": [
    {
     "name": "stdout",
     "output_type": "stream",
     "text": [
      "Enter how many contour lines there are 2\n",
      "Enter what the interval distance is 20\n",
      "Enter the distance of the slope 400\n",
      "The slope is  0.1\n"
     ]
    }
   ],
   "source": [
    "#geology finding the gradient/slope (rise over run)(contour lines and the interval distance)\n",
    "def gradient(distance, contour_lines, contour_interval):\n",
    "    rise = contour_lines * contour_interval\n",
    "    gradient = rise / distance\n",
    "    return gradient\n",
    "\n",
    "user_lines = int(input(\"Enter how many contour lines there are \"))\n",
    "user_interval = float(input(\"Enter what the interval distance is \"))\n",
    "user_distance = float(input(\"Enter the distance of the slope \" ))\n",
    "print(\"The slope is \", round(gradient(user_distance, user_lines, user_interval), 2))"
   ]
  },
  {
   "cell_type": "code",
   "execution_count": null,
   "metadata": {
    "collapsed": true
   },
   "outputs": [],
   "source": []
  }
 ],
 "metadata": {
  "anaconda-cloud": {},
  "kernelspec": {
   "display_name": "Python [conda root]",
   "language": "python",
   "name": "conda-root-py"
  },
  "language_info": {
   "codemirror_mode": {
    "name": "ipython",
    "version": 3
   },
   "file_extension": ".py",
   "mimetype": "text/x-python",
   "name": "python",
   "nbconvert_exporter": "python",
   "pygments_lexer": "ipython3",
   "version": "3.5.2"
  }
 },
 "nbformat": 4,
 "nbformat_minor": 1
}
