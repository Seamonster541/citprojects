{
 "cells": [
  {
   "cell_type": "markdown",
   "metadata": {},
   "source": [
    "# Create random list of dice rolls"
   ]
  },
  {
   "cell_type": "code",
   "execution_count": 7,
   "metadata": {
    "collapsed": false
   },
   "outputs": [
    {
     "name": "stdout",
     "output_type": "stream",
     "text": [
      "[2, 4, 5, 4, 1, 2, 6, 6, 1, 6]\n"
     ]
    }
   ],
   "source": [
    "import random\n",
    "\n",
    "n = 10\n",
    "dice_rolls = []\n",
    "for count in range(n):\n",
    "    dice = random.randint(1,6)\n",
    "    dice_rolls.append(dice)\n",
    "#\n",
    "\n",
    "#check short lists with a print\n",
    "print(dice_rolls)\n"
   ]
  },
  {
   "cell_type": "code",
   "execution_count": 8,
   "metadata": {
    "collapsed": false
   },
   "outputs": [
    {
     "name": "stdout",
     "output_type": "stream",
     "text": [
      "Got a 6, add 1 to now\n",
      "\n",
      "Need to check best_so_far with 1\n",
      "then zero out now\n",
      "\n",
      "Need to check best_so_far with 1\n",
      "then zero out now\n",
      "\n",
      "Got a 6, add 1 to now\n",
      "\n",
      "Got a 6, add 1 to now\n",
      "\n",
      "Need to check best_so_far with 3\n",
      "then zero out now\n",
      "\n",
      "Need to check best_so_far with 3\n",
      "then zero out now\n",
      "\n",
      "Need to check best_so_far with 3\n",
      "then zero out now\n",
      "\n",
      "Need to check best_so_far with 3\n",
      "then zero out now\n",
      "\n",
      "Need to check best_so_far with 3\n",
      "then zero out now\n",
      "\n"
     ]
    }
   ],
   "source": [
    "dice_rolls = [6, 3, 3, 6, 6, 3, 3, 4, 3, 3]\n",
    "\n",
    "best_so_far = 0\n",
    "now = 0\n",
    "\n",
    "for dice in dice_rolls:\n",
    "    print(\"looking at dice roll\", dice)\n",
    "    if dice == 6:\n",
    "        print(\"Got a 6, add 1 to now\")\n",
    "        new_now = now + 1\n",
    "        now = new_now\n",
    "        print()\n",
    "    elif now > 0:\n",
    "        print(\"Need to check best_so_far with\", now)\n",
    "        print(\"then zero out now\")\n",
    "        print()\n",
    "    else:\n",
    "        print(\"Nothing much to do\")\n",
    "        print()\n",
    "\n",
    "print(\"Do anything at end of loop?\")\n",
    "print()"
   ]
  },
  {
   "cell_type": "code",
   "execution_count": 9,
   "metadata": {
    "collapsed": false
   },
   "outputs": [
    {
     "name": "stdout",
     "output_type": "stream",
     "text": [
      "Got a 6, add 1 to now\n",
      "\n",
      "New best: 1\n",
      "Zero out now 0\n",
      "\n",
      "Nothing interesting, now is 0\n",
      "\n",
      "Got a 6, add 1 to now\n",
      "\n",
      "Got a 6, add 1 to now\n",
      "\n",
      "New best: 2\n",
      "Zero out now 0\n",
      "\n",
      "Nothing interesting, now is 0\n",
      "\n",
      "Nothing interesting, now is 0\n",
      "\n",
      "Nothing interesting, now is 0\n",
      "\n",
      "Nothing interesting, now is 0\n",
      "\n",
      "Do anything at end of loop?\n",
      "Best run length 2\n"
     ]
    }
   ],
   "source": [
    "dice_rolls = [6, 3, 3, 6, 6, 3, 3, 4, 3, 3]\n",
    "\n",
    "best_so_far = 0\n",
    "now = 0\n",
    "\n",
    "for dice in dice_rolls:\n",
    "    print(\"Looking at dice roll\", dice)\n",
    "    if dice == 6:\n",
    "        print(\"Got a 6, add 1 to now\")\n",
    "        new_now = now + 1\n",
    "        now = new_now\n",
    "        print()\n",
    "    elif now > 0:\n",
    "        best_so_far = now\n",
    "        print(\"New best:\", now)\n",
    "        now = 0\n",
    "        print(\"Zero out now\", now)\n",
    "        print()\n",
    "    else:\n",
    "        now = 0\n",
    "        print(\"Nothing interesting, now is\", now)\n",
    "        print()\n",
    "\n",
    "print(\"Do anything at end of loop?\")\n",
    "print(\"Best run length\", best_so_far)"
   ]
  },
  {
   "cell_type": "code",
   "execution_count": 22,
   "metadata": {
    "collapsed": false
   },
   "outputs": [
    {
     "name": "stdout",
     "output_type": "stream",
     "text": [
      "[4, 4, 6, 3, 2, 1, 4, 6, 4, 6, 4, 6, 1, 2, 5, 4, 4, 3, 5, 4, 5, 4, 5, 6, 3, 5, 3, 3, 6, 5, 1, 4, 5, 1, 3, 6, 2, 5, 2, 4, 4, 1, 6, 3, 1, 6, 1, 4, 5, 5, 3, 5, 1, 3, 4, 6, 4, 4, 2, 3, 2, 3, 6, 5, 1, 4, 5, 1, 5, 1, 5, 5, 3, 4, 6, 6, 4, 6, 4, 1, 4, 1, 4, 5, 6, 3, 4, 4, 2, 5, 4, 3, 2, 2, 4, 5, 2, 3, 3, 5]\n",
      "Best run length 1\n"
     ]
    }
   ],
   "source": [
    "import random\n",
    "\n",
    "n = 100\n",
    "dice_rolls = []\n",
    "for count in range(n):\n",
    "    dice = random.randint(1,6)\n",
    "    dice_rolls.append(dice)\n",
    "#\n",
    "\n",
    "#check short lists with a print\n",
    "print(dice_rolls)\n",
    "\n",
    "best_so_far = 0\n",
    "now = 0\n",
    "\n",
    "for dice in dice_rolls:\n",
    "    if dice == 6:\n",
    "        new_now = now + 1\n",
    "        now = new_now\n",
    "\n",
    "    elif now > 0:\n",
    "        best_so_far = now\n",
    "        now = 0\n",
    "\n",
    "    else:\n",
    "        now = 0\n",
    "\n",
    "if now > best_so_far:\n",
    "    best_so_far = now\n",
    "\n",
    "print(\"Best run length\", best_so_far)"
   ]
  },
  {
   "cell_type": "code",
   "execution_count": null,
   "metadata": {
    "collapsed": true
   },
   "outputs": [],
   "source": []
  }
 ],
 "metadata": {
  "kernelspec": {
   "display_name": "Python [conda root]",
   "language": "python",
   "name": "conda-root-py"
  },
  "language_info": {
   "codemirror_mode": {
    "name": "ipython",
    "version": 3
   },
   "file_extension": ".py",
   "mimetype": "text/x-python",
   "name": "python",
   "nbconvert_exporter": "python",
   "pygments_lexer": "ipython3",
   "version": "3.5.2"
  }
 },
 "nbformat": 4,
 "nbformat_minor": 1
}
