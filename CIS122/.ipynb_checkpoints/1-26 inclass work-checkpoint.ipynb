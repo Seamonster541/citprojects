{
 "cells": [
  {
   "cell_type": "markdown",
   "metadata": {},
   "source": [
    "# Defines a new function"
   ]
  },
  {
   "cell_type": "markdown",
   "metadata": {},
   "source": [
    "# compute_sales_tax version 0"
   ]
  },
  {
   "cell_type": "code",
   "execution_count": 2,
   "metadata": {
    "collapsed": false
   },
   "outputs": [
    {
     "name": "stdout",
     "output_type": "stream",
     "text": [
      "Total prices of purchasesd items: 32\n",
      "Price       32.0\n",
      "Sales tax   1.28\n",
      "Please pay  33.28\n"
     ]
    }
   ],
   "source": [
    "#Your state uses a 4% sales tax\n",
    "\n",
    "def compute_sales_tax(amount):\n",
    "    tax_rate = 0.04 # 4% sales\n",
    "    tax = amount * tax_rate\n",
    "    return tax  #e exit function, sending tax as the value\n",
    "#\n",
    "\n",
    "total_price_string = input(\"Total prices of purchasesd items: \")\n",
    "total_price = float(total_price_string)\n",
    "\n",
    "sales_tax = compute_sales_tax(total_price)\n",
    "total_due = total_price + sales_tax\n",
    "\n",
    "print(\"Price      \", total_price)\n",
    "print(\"Sales tax  \", sales_tax)\n",
    "print(\"Please pay \", total_due)\n"
   ]
  },
  {
   "cell_type": "markdown",
   "metadata": {},
   "source": [
    "# return rounded tax value"
   ]
  },
  {
   "cell_type": "code",
   "execution_count": 6,
   "metadata": {
    "collapsed": false
   },
   "outputs": [
    {
     "name": "stdout",
     "output_type": "stream",
     "text": [
      "Total prices of purchasesd items: 50\n",
      "Price       50.0\n",
      "Sales tax   2.0\n",
      "Please pay  52.0\n"
     ]
    }
   ],
   "source": [
    "#Your state uses a 4% sales tax\n",
    "\n",
    "def compute_sales_tax(amount):\n",
    "    tax_rate = 0.04 # 4% sales\n",
    "    tax = amount * tax_rate\n",
    "    \n",
    "    # Round the tax amount to 2 decimals\n",
    "    rounded_tax = round(tax, 2)\n",
    "    # send rounded tax to caller\n",
    "    return rounded_tax  #e exit function, sending tax as the value\n",
    "#\n",
    "\n",
    "total_price_string = input(\"Total prices of purchasesd items: \")\n",
    "total_price = float(total_price_string)\n",
    "sales_tax = compute_sales_tax(total_price)\n",
    "total_due = total_price + sales_tax\n",
    "\n",
    "sales_tax = compute_sales_tax(total_price)\n",
    "total_due = total_price + sales_tax\n",
    "\n",
    "print(\"Price      \", total_price)\n",
    "print(\"Sales tax  \", sales_tax)\n",
    "print(\"Please pay \", total_due)"
   ]
  },
  {
   "cell_type": "markdown",
   "metadata": {},
   "source": [
    "# Note private variables known only within function"
   ]
  },
  {
   "cell_type": "code",
   "execution_count": 5,
   "metadata": {
    "collapsed": false
   },
   "outputs": [
    {
     "ename": "SyntaxError",
     "evalue": "unexpected EOF while parsing (<ipython-input-5-5b0f6eb7882d>, line 6)",
     "output_type": "error",
     "traceback": [
      "\u001b[0;36m  File \u001b[0;32m\"<ipython-input-5-5b0f6eb7882d>\"\u001b[0;36m, line \u001b[0;32m6\u001b[0m\n\u001b[0;31m    # 2\u001b[0m\n\u001b[0m        ^\u001b[0m\n\u001b[0;31mSyntaxError\u001b[0m\u001b[0;31m:\u001b[0m unexpected EOF while parsing\n"
     ]
    }
   ],
   "source": [
    "# not finished\n",
    "def compute_sales_tax(amount):\n",
    "    \n",
    "    # Private ariables - have a value only within funtion\n",
    "    # 1 - amount     copy of the value passed by the caller\n",
    "    # 2 "
   ]
  },
  {
   "cell_type": "markdown",
   "metadata": {},
   "source": [
    "# Sales tax v2 - give funtion the tax rate"
   ]
  },
  {
   "cell_type": "code",
   "execution_count": 8,
   "metadata": {
    "collapsed": false
   },
   "outputs": [
    {
     "name": "stdout",
     "output_type": "stream",
     "text": [
      "Total prices of purchasesd items: 30\n",
      "Price       30.0\n",
      "Sales tax   1.2\n",
      "Please pay  31.2\n"
     ]
    }
   ],
   "source": [
    "#Your state may change the sales tax rate\n",
    "\n",
    "def compute_sales_tax(amount, rate):\n",
    "    # rate of 4 means 4%\n",
    "    tax_rate = rate / 100.0 \n",
    "    tax = amount * tax_rate\n",
    "    \n",
    "    # Round the tax amount to 2 decimals\n",
    "    rounded_tax = round(tax, 2)\n",
    "    # send rounded tax to caller\n",
    "    return rounded_tax  #e exit function, sending tax as the value\n",
    "#\n",
    "\n",
    "total_price_string = input(\"Total prices of purchasesd items: \")\n",
    "total_price = float(total_price_string)\n",
    "sales_tax_percent = 4.0\n",
    "sales_tax = compute_sales_tax(total_price, sales_tax_percent)\n",
    "#                             ------------ *****************\n",
    "total_due = round(total_price + sales_tax, 2)\n",
    "\n",
    "print(\"Price      \", total_price)\n",
    "print(\"Sales tax  \", sales_tax)\n",
    "print(\"Please pay \", total_due)"
   ]
  },
  {
   "cell_type": "markdown",
   "metadata": {},
   "source": [
    "# Any values or variable names OK in the call"
   ]
  },
  {
   "cell_type": "code",
   "execution_count": 15,
   "metadata": {
    "collapsed": false
   },
   "outputs": [
    {
     "name": "stdout",
     "output_type": "stream",
     "text": [
      "Total prices of purchasesd items: 32\n",
      "Price       32.0 Tax Rate 4.0 &\n",
      "Sales tax   2.56\n",
      "Please pay  34.56\n",
      "\n",
      "Sale 67.33 tax rate 8.5 &\n",
      "Sales tax $ 5.72\n",
      "Please pay $ 75.83\n"
     ]
    }
   ],
   "source": [
    "#Your state may change the sales tax rate\n",
    "\n",
    "def compute_sales_tax(amount, rate):\n",
    "    # rate of 4 means 4%\n",
    "    tax_rate = rate / 100.0 \n",
    "    tax = amount * tax_rate\n",
    "    \n",
    "    # Round the tax amount to 2 decimals\n",
    "    rounded_tax = round(tax, 2)\n",
    "    # send rounded tax to caller\n",
    "    return rounded_tax  #e exit function, sending tax as the value\n",
    "#\n",
    "\n",
    "total_price_string = input(\"Total prices of purchasesd items: \")\n",
    "total_price = float(total_price_string)\n",
    "sales_tax_percent = 4.0\n",
    "sales_tax = compute_sales_tax(total_price * 2, sales_tax_percent)\n",
    "total_due = round(total_price + sales_tax, 2)\n",
    "\n",
    "print(\"Price      \", total_price, \"Tax Rate\", sales_tax_percent, \"&\")\n",
    "print(\"Sales tax  \", sales_tax)\n",
    "print(\"Please pay \", total_due)\n",
    "\n",
    "# we can use any variables or values in the call;\n",
    "# no special names required\n",
    "amount_to_spend = 67.33\n",
    "sales_tax_rate = 8.5\n",
    "tax_due = compute_sales_tax(amount_to_spend, sales_tax_rate)\n",
    "\n",
    "print()\n",
    "print(\"Sale\", amount_to_spend, 'tax rate', sales_tax_rate, \"&\")\n",
    "print(\"Sales tax $\", tax_due)\n",
    "print(\"Please pay $\", round(amount_to_spend + sales_tax_rate, 2))"
   ]
  }
 ],
 "metadata": {
  "kernelspec": {
   "display_name": "Python [conda root]",
   "language": "python",
   "name": "conda-root-py"
  },
  "language_info": {
   "codemirror_mode": {
    "name": "ipython",
    "version": 3
   },
   "file_extension": ".py",
   "mimetype": "text/x-python",
   "name": "python",
   "nbconvert_exporter": "python",
   "pygments_lexer": "ipython3",
   "version": "3.5.2"
  }
 },
 "nbformat": 4,
 "nbformat_minor": 1
}
