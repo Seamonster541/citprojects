{
 "cells": [
  {
   "cell_type": "markdown",
   "metadata": {},
   "source": [
    "# Topics to know\n",
    "----------------------------\n",
    "# if   elif    elif    else\n",
    "----------------------------\n",
    "# def\n",
    "##     &nbsp;&nbsp;&nbsp;&nbsp;return x\n",
    "----------------------------------\n",
    "# iterate  --  for  --     while\n",
    "----------------------------------\n",
    "# pandas\n",
    "\n",
    "### simple plots   line, pie, bar"
   ]
  },
  {
   "cell_type": "markdown",
   "metadata": {},
   "source": [
    "### if elif ... elif else"
   ]
  },
  {
   "cell_type": "code",
   "execution_count": 11,
   "metadata": {
    "collapsed": false
   },
   "outputs": [
    {
     "name": "stdout",
     "output_type": "stream",
     "text": [
      "Type income in dollars: 67000\n",
      "Income: 67000.0 Rate 2.0 % Tax Due 1340.0\n"
     ]
    }
   ],
   "source": [
    "# income tax example\n",
    "\n",
    "# 0 - 30000   1.0 %\n",
    "#   - 80000   2.0 %\n",
    "# over 80000  3.0%\n",
    "\n",
    "income = float(input(\"Type income in dollars: \"))\n",
    "\n",
    "if income <= 30000:\n",
    "    tax_rate = 1.0\n",
    "\n",
    "elif income <= 80000:\n",
    "    tax_rate = 2.0\n",
    "\n",
    "else:\n",
    "    tax_rate = 3.0\n",
    "\n",
    "rate = tax_rate / 100\n",
    "tax_due = round(income * rate, 2)\n",
    "print(\"Income:\", income, \"Rate\", tax_rate,\"% Tax Due\",  tax_due)\n"
   ]
  },
  {
   "cell_type": "markdown",
   "metadata": {},
   "source": [
    "# Avoid is<br>     Instead use  =="
   ]
  },
  {
   "cell_type": "code",
   "execution_count": 1,
   "metadata": {
    "collapsed": false
   },
   "outputs": [
    {
     "name": "stdout",
     "output_type": "stream",
     "text": [
      "Bonus $ 40\n"
     ]
    }
   ],
   "source": [
    "# This works as expected\n",
    "pay = 34.00\n",
    "amt = 34\n",
    "\n",
    "if pay == amt:\n",
    "    print(\"Bonus $\", 40)\n",
    "else:\n",
    "    print('You owe $', 5)"
   ]
  },
  {
   "cell_type": "code",
   "execution_count": 2,
   "metadata": {
    "collapsed": false
   },
   "outputs": [
    {
     "name": "stdout",
     "output_type": "stream",
     "text": [
      "Please pay $ 650\n"
     ]
    }
   ],
   "source": [
    "# OOPS! This failed because 'is' \n",
    "# checks to see if the values point to\n",
    "# the exact same location in memory \n",
    "# (they don't -- one is an int, the other a float)\n",
    "\n",
    "if pay is amt:\n",
    "    print('Bonus!  $', 4000)\n",
    "else:\n",
    "    print(\"Please pay $\", 650)"
   ]
  },
  {
   "cell_type": "code",
   "execution_count": null,
   "metadata": {
    "collapsed": true
   },
   "outputs": [],
   "source": [
    "my_list = ['Star Wars', 'X Men']\n",
    "your_list = ['Star Wars', 'X Men']\n",
    "\n",
    "if my_list == your_list:\n",
    "    print('Similar taste in movies')\n",
    "    \n",
    "if my_list is your_list:\n",
    "    print('Same')\n",
    "else:\n",
    "    print(\"So not the same\")\n",
    "\n",
    "    \n",
    "another_list = my_list\n",
    "if another_list is my_list:\n",
    "    print('assignment of a list does not copy it!')"
   ]
  },
  {
   "cell_type": "markdown",
   "metadata": {},
   "source": [
    "# Prefer calculated variables to raw numbers"
   ]
  },
  {
   "cell_type": "code",
   "execution_count": 9,
   "metadata": {
    "collapsed": false
   },
   "outputs": [
    {
     "name": "stdout",
     "output_type": "stream",
     "text": [
      "7 \n",
      "4 \n",
      "2 smallest\n",
      "11 \n",
      "90 \n",
      "88 \n"
     ]
    }
   ],
   "source": [
    "my_list = [7, 4, 2, 11, 90, 88]\n",
    "\n",
    "smallest = 2  # This only works with this specific list\n",
    "\n",
    "smallest = min(my_list)  # Better...\n",
    "\n",
    "for item in my_list:\n",
    "    if item == smallest:\n",
    "        note = 'smallest'\n",
    "    else:\n",
    "        note = ''\n",
    "    print(item, note)"
   ]
  }
 ],
 "metadata": {
  "kernelspec": {
   "display_name": "Python [conda root]",
   "language": "python",
   "name": "conda-root-py"
  },
  "language_info": {
   "codemirror_mode": {
    "name": "ipython",
    "version": 3
   },
   "file_extension": ".py",
   "mimetype": "text/x-python",
   "name": "python",
   "nbconvert_exporter": "python",
   "pygments_lexer": "ipython3",
   "version": "3.5.2"
  }
 },
 "nbformat": 4,
 "nbformat_minor": 2
}
