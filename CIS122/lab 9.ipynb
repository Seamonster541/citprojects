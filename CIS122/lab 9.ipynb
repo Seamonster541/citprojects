{
 "cells": [
  {
   "cell_type": "code",
   "execution_count": 10,
   "metadata": {
    "collapsed": false
   },
   "outputs": [
    {
     "name": "stdout",
     "output_type": "stream",
     "text": [
      "is palindrome\n"
     ]
    }
   ],
   "source": [
    "word = 'anna'\n",
    "\n",
    "reverse_word = ''\n",
    "\n",
    "#last_letter = word[-1]\n",
    "#reverse_word = reverse_word + last_letter\n",
    "\n",
    "for letter in word:\n",
    "    reverse_word = letter + reverse_word\n",
    "\n",
    "if reverse_word == word:\n",
    "    print('is palindrome')\n",
    "else:\n",
    "    print('is not palidrome')"
   ]
  },
  {
   "cell_type": "code",
   "execution_count": 13,
   "metadata": {
    "collapsed": false
   },
   "outputs": [
    {
     "name": "stdout",
     "output_type": "stream",
     "text": [
      "is palindrome\n"
     ]
    }
   ],
   "source": [
    "word = 'civic'\n",
    "\n",
    "reverse_word = ''\n",
    "\n",
    "index = -1\n",
    "while len(reverse_word) < len(word):\n",
    "    letter = word[index]\n",
    "    reverse_word = reverse_word + letter\n",
    "    index = index - 1\n",
    "\n",
    "if reverse_word == word:\n",
    "    print('is palindrome')\n",
    "else:\n",
    "    print('is not palidrome')"
   ]
  },
  {
   "cell_type": "code",
   "execution_count": 18,
   "metadata": {
    "collapsed": false
   },
   "outputs": [
    {
     "name": "stdout",
     "output_type": "stream",
     "text": [
      "is not palidrome\n"
     ]
    }
   ],
   "source": [
    "word = 'dance'\n",
    "\n",
    "reverse_word = ''\n",
    "\n",
    "for i in range(len(word)):\n",
    "    letter = word[-(i + 1)]\n",
    "    reverse_word = reverse_word + letter\n",
    "    \n",
    "if reverse_word == word:\n",
    "    print('is palindrome')\n",
    "else:\n",
    "    print('is not palidrome')"
   ]
  },
  {
   "cell_type": "code",
   "execution_count": 19,
   "metadata": {
    "collapsed": false
   },
   "outputs": [
    {
     "name": "stdout",
     "output_type": "stream",
     "text": [
      "ecnad\n"
     ]
    }
   ],
   "source": [
    "print(reverse_word)"
   ]
  },
  {
   "cell_type": "code",
   "execution_count": 20,
   "metadata": {
    "collapsed": false
   },
   "outputs": [
    {
     "name": "stdout",
     "output_type": "stream",
     "text": [
      "jon is attentive\n",
      "jon is smart\n",
      "jon is tall\n",
      "dave is attentive\n",
      "dave is smart\n",
      "dave is tall\n",
      "ali is attentive\n",
      "ali is smart\n",
      "ali is tall\n",
      "john is attentive\n",
      "john is smart\n",
      "john is tall\n"
     ]
    }
   ],
   "source": [
    "names = ['jon', 'dave', 'ali', 'john']\n",
    "adjectives = ['attentive', 'smart', 'tall']\n",
    "\n",
    "for name in names:\n",
    "    sentence = name + ' is '\n",
    "    for adj in adjectives:\n",
    "        print(sentence + adj)\n",
    "        \n",
    "        "
   ]
  },
  {
   "cell_type": "code",
   "execution_count": null,
   "metadata": {
    "collapsed": true
   },
   "outputs": [],
   "source": []
  }
 ],
 "metadata": {
  "anaconda-cloud": {},
  "kernelspec": {
   "display_name": "Python [conda root]",
   "language": "python",
   "name": "conda-root-py"
  },
  "language_info": {
   "codemirror_mode": {
    "name": "ipython",
    "version": 3
   },
   "file_extension": ".py",
   "mimetype": "text/x-python",
   "name": "python",
   "nbconvert_exporter": "python",
   "pygments_lexer": "ipython3",
   "version": "3.5.2"
  }
 },
 "nbformat": 4,
 "nbformat_minor": 1
}
