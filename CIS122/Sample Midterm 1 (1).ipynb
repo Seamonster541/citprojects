{
 "cells": [
  {
   "cell_type": "markdown",
   "metadata": {},
   "source": [
    "# Sample Midterm 1"
   ]
  },
  {
   "cell_type": "code",
   "execution_count": 1,
   "metadata": {
    "collapsed": false
   },
   "outputs": [
    {
     "name": "stdout",
     "output_type": "stream",
     "text": [
      "Apple\n"
     ]
    }
   ],
   "source": [
    "# 1)  1 point\n",
    "\n",
    "# Create a variable to hold the string 'Apple', \n",
    "# then print that variable\n",
    "\n",
    "fruit = 'Apple'\n",
    "print(fruit)\n",
    "\n"
   ]
  },
  {
   "cell_type": "code",
   "execution_count": 3,
   "metadata": {
    "collapsed": false
   },
   "outputs": [
    {
     "name": "stdout",
     "output_type": "stream",
     "text": [
      "List of companies\n",
      "Microsoft\n",
      "\n",
      "Baidu\n",
      "\n",
      "Google\n",
      "\n",
      "Dell\n",
      "\n"
     ]
    }
   ],
   "source": [
    "# 2)  1 point\n",
    "\n",
    "# Create a variable that holds a list of several computer companies:\n",
    "#   Microsoft, Baidu, Google, Dell\n",
    "# Then iterate through your list to print each company on \n",
    "# a separate line (Use only 1 print statement, not several)\n",
    "\n",
    "companies = ['Microsoft', 'Baidu', 'Google', 'Dell']\n",
    "\n",
    "print(\"List of companies\")\n",
    "for list in companies:\n",
    "    print(list)\n",
    "    print()"
   ]
  },
  {
   "cell_type": "code",
   "execution_count": null,
   "metadata": {
    "collapsed": true
   },
   "outputs": [],
   "source": []
  }
 ],
 "metadata": {
  "anaconda-cloud": {},
  "kernelspec": {
   "display_name": "Python [conda root]",
   "language": "python",
   "name": "conda-root-py"
  },
  "language_info": {
   "codemirror_mode": {
    "name": "ipython",
    "version": 3
   },
   "file_extension": ".py",
   "mimetype": "text/x-python",
   "name": "python",
   "nbconvert_exporter": "python",
   "pygments_lexer": "ipython3",
   "version": "3.5.2"
  }
 },
 "nbformat": 4,
 "nbformat_minor": 1
}
