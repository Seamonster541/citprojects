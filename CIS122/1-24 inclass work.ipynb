{
 "cells": [
  {
   "cell_type": "markdown",
   "metadata": {},
   "source": [
    "# if statement examples - LIST"
   ]
  },
  {
   "cell_type": "code",
   "execution_count": 3,
   "metadata": {
    "collapsed": false
   },
   "outputs": [
    {
     "name": "stdout",
     "output_type": "stream",
     "text": [
      "Amount is smaller\n",
      "Amount is smaller or same as limit\n",
      "Amount is different that limit\n",
      "Ann is in the list of friends\n"
     ]
    }
   ],
   "source": [
    "amount = 5\n",
    "limit = 6\n",
    "if amount > limit:\n",
    "    print(\"Amount is bigger\")\n",
    "if amount < limit:\n",
    "    print(\"Amount is smaller\")\n",
    "if amount == limit:\n",
    "    print(\"Same\")\n",
    "if amount >= limit:\n",
    "    print(\"Amount is bigger or same as limit\")\n",
    "if amount <= limit:\n",
    "    print(\"Amount is smaller or same as limit\")\n",
    "if amount != limit:  # different\n",
    "    print(\"Amount is different that limit\")\n",
    "friends = ['Jan', 'Tom', 'Ann', 'Joan']\n",
    "who = 'Ann'\n",
    "if who in friends:\n",
    "    print(who, \"is in the list of friends\")\n",
    "else:\n",
    "    print(who, \"is not in the list\")"
   ]
  },
  {
   "cell_type": "markdown",
   "metadata": {},
   "source": [
    "# if a_state == 'AZ' or a_state =='UT':"
   ]
  },
  {
   "cell_type": "code",
   "execution_count": 11,
   "metadata": {
    "collapsed": false
   },
   "outputs": [
    {
     "name": "stdout",
     "output_type": "stream",
     "text": [
      "AK a great state\n",
      "WA a great state\n",
      "FL a great state\n",
      "CA a great state\n",
      "AZ *** one of the best states to visit ***\n",
      "UT *** one of the best states to visit ***\n",
      "OR a great state\n",
      "ME a great state\n",
      "\n",
      "Done!\n"
     ]
    }
   ],
   "source": [
    "some_states = ['AK', 'WA', 'FL', 'CA', 'AZ',\n",
    "             'UT', 'OR', 'ME']\n",
    "\n",
    "normal_message = 'a great state'\n",
    "special_message = '*** one of the best states to visit ***'\n",
    "\n",
    "for a_state in some_states: # iterate through the list\n",
    "    if a_state == 'AZ' or a_state == 'UT':\n",
    "        message = special_message\n",
    "    else:\n",
    "        message = normal_message\n",
    "    #\n",
    "    print(a_state, message)\n",
    "#\n",
    "print('\\nDone!')"
   ]
  },
  {
   "cell_type": "markdown",
   "metadata": {},
   "source": [
    "# if a_state in ['AZ', 'UT']"
   ]
  },
  {
   "cell_type": "code",
   "execution_count": 13,
   "metadata": {
    "collapsed": false
   },
   "outputs": [
    {
     "name": "stdout",
     "output_type": "stream",
     "text": [
      "AK a great state\n",
      "WA a great state\n",
      "FL a great state\n",
      "CA a great state\n",
      "AZ *** one of the best states to visit ***\n",
      "UT *** one of the best states to visit ***\n",
      "OR *** one of the best states to visit ***\n",
      "ME a great state\n",
      "\n",
      "Done!\n"
     ]
    }
   ],
   "source": [
    "some_states = ['AK', 'WA', 'FL', 'CA', 'AZ',\n",
    "             'UT', 'OR', 'ME']\n",
    "\n",
    "normal_message = 'a great state'\n",
    "special_message = '*** one of the best states to visit ***'\n",
    "\n",
    "for a_state in some_states: # iterate through the list\n",
    "    if a_state in ['AZ', 'UT', 'OR']:\n",
    "        message = special_message\n",
    "    else:\n",
    "        message = normal_message\n",
    "    #\n",
    "    print(a_state, message)\n",
    "#\n",
    "print('\\nDone!')"
   ]
  },
  {
   "cell_type": "markdown",
   "metadata": {},
   "source": [
    "# input()"
   ]
  },
  {
   "cell_type": "code",
   "execution_count": null,
   "metadata": {
    "collapsed": true
   },
   "outputs": [],
   "source": [
    "ask_for_data = 'Type you first name: '\n",
    "\n",
    "first_name = input(ask_for_data)\n",
    "\n",
    "print()\n",
    "print(type(first_name))\n",
    "\n",
    "print(\"\\nHello\", first_name)"
   ]
  },
  {
   "cell_type": "markdown",
   "metadata": {},
   "source": [
    "# What happens if you type some numbers?"
   ]
  },
  {
   "cell_type": "code",
   "execution_count": 16,
   "metadata": {
    "collapsed": false
   },
   "outputs": [
    {
     "name": "stdout",
     "output_type": "stream",
     "text": [
      "Type your UO ID number: 40\n",
      "\n",
      "<class 'str'>\n",
      "\n",
      "Hello 40\n"
     ]
    }
   ],
   "source": [
    "ask_for_data = 'Type your UO ID number: '\n",
    "uo_id_number = input(ask_for_data)\n",
    "\n",
    "print()\n",
    "print(type(uo_id_number))\n",
    "\n",
    "print(\"\\nHello\", uo_id_number)"
   ]
  },
  {
   "cell_type": "code",
   "execution_count": null,
   "metadata": {
    "collapsed": true
   },
   "outputs": [],
   "source": [
    "ask_for_data = 'Type your age in years: '\n",
    "age = input(ask_for_data)\n",
    "print(type(age))\n",
    "ask_for_data = 'Type number of years to add to age: '\n",
    "number_of_years = input(ask_for_data)\n",
    "\n",
    "print(type(number_of_years))\n",
    "print(\"\\nAge\", age)\n",
    "print(\"\\nYears to add to age\", number_of_years)\n",
    "# add age and years together\n",
    "age_later = age + number_of_years\n",
    "print(type(age_later))\n",
    "print(\"\\nAge\", age)\n",
    "print(\"\\nAge\", number_of_years, \"years from now:\", age_later)\n"
   ]
  },
  {
   "cell_type": "markdown",
   "metadata": {},
   "source": [
    "# String to int"
   ]
  },
  {
   "cell_type": "code",
   "execution_count": 20,
   "metadata": {
    "collapsed": false
   },
   "outputs": [
    {
     "name": "stdout",
     "output_type": "stream",
     "text": [
      "Type your age in years: 42\n",
      "<class 'str'>\n",
      "42 \n",
      "\n",
      "<class 'int'>\n",
      "42 \n",
      "\n"
     ]
    }
   ],
   "source": [
    "ask_for_data = 'Type your age in years: '\n",
    "age_string = input(ask_for_data)\n",
    "print(type(age_string))\n",
    "print(age_string, '\\n')\n",
    "age = int(age_string)\n",
    "print(type(age))\n",
    "print(age, '\\n')"
   ]
  },
  {
   "cell_type": "code",
   "execution_count": 21,
   "metadata": {
    "collapsed": false
   },
   "outputs": [
    {
     "name": "stdout",
     "output_type": "stream",
     "text": [
      "Type your age in years: 20\n",
      "Type number of years to add to age: 2\n",
      "\n",
      "Age 20\n",
      "\n",
      "Years to add to age 2\n",
      "\n",
      "Age 20\n",
      "\n",
      "Age 2 years from now: 22\n"
     ]
    }
   ],
   "source": [
    "ask_for_data = 'Type your age in years: '\n",
    "age_string = input(ask_for_data)\n",
    "age = int(age_string)\n",
    "ask_for_data = 'Type number of years to add to age: '\n",
    "years_string = input(ask_for_data)\n",
    "number_of_years = int(years_string)\n",
    "print(\"\\nAge\", age)\n",
    "print(\"\\nYears to add to age\", number_of_years)\n",
    "# add age and years together\n",
    "age_later = age + number_of_years\n",
    "print(\"\\nAge\", age)\n",
    "print(\"\\nAge\", number_of_years, \"years from now:\", age_later)"
   ]
  },
  {
   "cell_type": "markdown",
   "metadata": {},
   "source": [
    "# lists change individual items"
   ]
  },
  {
   "cell_type": "code",
   "execution_count": 24,
   "metadata": {
    "collapsed": false
   },
   "outputs": [
    {
     "name": "stdout",
     "output_type": "stream",
     "text": [
      "['AK', 'WA', 'FL', 'CA', 'AZ', 'NV', 'UH', 'OR', 'ME']\n"
     ]
    }
   ],
   "source": [
    "#               0      1     2    3     4     5     6     7     8\n",
    "some_states = ['AK', 'WA', 'FL', 'CB', 'AZ', 'NV', 'UH', 'OR', 'ME']\n",
    "\n",
    "# length of list (number of items in list)\n",
    "\n",
    "# Cange CB to CA\n",
    "some_states[3] = 'CA'\n",
    "print(some_states)"
   ]
  },
  {
   "cell_type": "code",
   "execution_count": null,
   "metadata": {
    "collapsed": true
   },
   "outputs": [],
   "source": []
  }
 ],
 "metadata": {
  "anaconda-cloud": {},
  "kernelspec": {
   "display_name": "Python [conda root]",
   "language": "python",
   "name": "conda-root-py"
  },
  "language_info": {
   "codemirror_mode": {
    "name": "ipython",
    "version": 3
   },
   "file_extension": ".py",
   "mimetype": "text/x-python",
   "name": "python",
   "nbconvert_exporter": "python",
   "pygments_lexer": "ipython3",
   "version": "3.5.2"
  }
 },
 "nbformat": 4,
 "nbformat_minor": 1
}
