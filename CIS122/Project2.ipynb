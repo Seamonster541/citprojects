{
 "cells": [
  {
   "cell_type": "markdown",
   "metadata": {},
   "source": [
    "# Part a) create a variable"
   ]
  },
  {
   "cell_type": "code",
   "execution_count": 1,
   "metadata": {
    "collapsed": false
   },
   "outputs": [
    {
     "name": "stdout",
     "output_type": "stream",
     "text": [
      "The temperature is  28  degrees\n",
      "The new temperature is  16  degrees\n"
     ]
    }
   ],
   "source": [
    "cold_temp = 28\n",
    "print(\"The temperature is \", cold_temp,\" degrees\")\n",
    "\n",
    "cold_temp = 16\n",
    "print(\"The new temperature is \", cold_temp, \" degrees\")"
   ]
  },
  {
   "cell_type": "markdown",
   "metadata": {},
   "source": [
    "# Part b) create a variable 2"
   ]
  },
  {
   "cell_type": "code",
   "execution_count": 2,
   "metadata": {
    "collapsed": false
   },
   "outputs": [
    {
     "name": "stdout",
     "output_type": "stream",
     "text": [
      "The worst movie of 2016:  Suicide Squad\n",
      "The worst movie I heard about:  Godzilla(1998)\n"
     ]
    }
   ],
   "source": [
    "worst_movie = 'Suicide Squad'\n",
    "print(\"The worst movie of 2016: \", worst_movie)\n",
    "\n",
    "worst_movie = 'Godzilla(1998)'\n",
    "print(\"The worst movie I heard about: \", worst_movie)"
   ]
  },
  {
   "cell_type": "markdown",
   "metadata": {},
   "source": [
    "# Part c) Static list"
   ]
  },
  {
   "cell_type": "code",
   "execution_count": 4,
   "metadata": {
    "collapsed": false
   },
   "outputs": [
    {
     "name": "stdout",
     "output_type": "stream",
     "text": [
      "The last 5 coldest temperatures are:\n",
      "22  degrees\n",
      "\n",
      "27  degrees\n",
      "\n",
      "30  degrees\n",
      "\n",
      "24  degrees\n",
      "\n",
      "19  degrees\n",
      "\n"
     ]
    }
   ],
   "source": [
    "temp_cold =[22, 27, 30, 24, 19]\n",
    "\n",
    "print(\"The last 5 coldest temperatures are:\")\n",
    "for days in temp_cold:\n",
    "    print(days, \" degrees\")\n",
    "    print()"
   ]
  },
  {
   "cell_type": "markdown",
   "metadata": {},
   "source": [
    "# Part d) Bar chart"
   ]
  },
  {
   "cell_type": "code",
   "execution_count": 5,
   "metadata": {
    "collapsed": false
   },
   "outputs": [
    {
     "data": {
      "image/png": "[encoded data removed]",
      "text/plain": [
       "<matplotlib.figure.Figure at 0x582ed648d0>"
      ]
     },
     "metadata": {},
     "output_type": "display_data"
    }
   ],
   "source": [
    "# Required\n",
    "import matplotlib.pyplot as plt\n",
    "# \"Magic\" notebook ommand - shows plot \"inline\"\n",
    "%matplotlib inline\n",
    "\n",
    "temp_cold = [22, 27, 34, 24, 19]\n",
    "#days\n",
    "x = [1, 2, 3, 4, 5]\n",
    "\n",
    "# create a bar chart\n",
    "plt.bar(x, temp_cold, align='center')\n",
    "\n",
    "# label the axes\n",
    "plt.xlabel('Days')\n",
    "plt.ylabel('Temperature')\n",
    "\n",
    "# show the bar chart\n",
    "plt.show()"
   ]
  },
  {
   "cell_type": "markdown",
   "metadata": {},
   "source": [
    "# Challenge Problem"
   ]
  },
  {
   "cell_type": "code",
   "execution_count": 7,
   "metadata": {
    "collapsed": false
   },
   "outputs": [
    {
     "name": "stdout",
     "output_type": "stream",
     "text": [
      "My selection of worst movies are:\n",
      "\n",
      "Godzilla(1998)\n",
      "\n",
      "SupermanVBatman\n",
      "\n",
      "SuicideSquad\n",
      "\n",
      "Ghostbusters(2016)\n",
      "\n",
      "Avatar: The last Airbender\n",
      "\n",
      "Dragonball\n",
      "\n",
      "Catwoman\n",
      "\n",
      "Jack and Jill\n",
      "\n",
      "Birdemic: Shock and Terror\n",
      "\n",
      "The Room\n"
     ]
    }
   ],
   "source": [
    "worst_movies_ever = ['Godzilla(1998)', 'SupermanVBatman', 'SuicideSquad', 'Ghostbusters(2016)', 'Avatar: The last Airbender',\n",
    "                    'Dragonball', 'Catwoman', 'Jack and Jill', 'Birdemic: Shock and Terror', 'The Room']\n",
    "\n",
    "print(\"My selection of worst movies are:\")\n",
    "for list in worst_movies_ever:\n",
    "    print()\n",
    "    print(list)"
   ]
  }
 ],
 "metadata": {
  "anaconda-cloud": {},
  "kernelspec": {
   "display_name": "Python [conda root]",
   "language": "python",
   "name": "conda-root-py"
  },
  "language_info": {
   "codemirror_mode": {
    "name": "ipython",
    "version": 3
   },
   "file_extension": ".py",
   "mimetype": "text/x-python",
   "name": "python",
   "nbconvert_exporter": "python",
   "pygments_lexer": "ipython3",
   "version": "3.5.2"
  }
 },
 "nbformat": 4,
 "nbformat_minor": 1
}
