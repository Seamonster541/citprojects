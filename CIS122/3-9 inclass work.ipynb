{
 "cells": [
  {
   "cell_type": "code",
   "execution_count": 1,
   "metadata": {
    "collapsed": false
   },
   "outputs": [
    {
     "name": "stdout",
     "output_type": "stream",
     "text": [
      "Chapman 1939 Honors College\n",
      "Condon 1925 Geography, Anthropology\n",
      "Deschutes 1990 Computer Science\n",
      "Lillis 2003 Business College\n",
      "Willamette 1990 Physics - General, Materials, Theory\n",
      "Chapman         built 1939   Honors College\n",
      "Condon          built 1925   Geography, Anthropology\n",
      "Deschutes       built 1990   Computer Science\n",
      "Lillis          built 2003   Business College\n",
      "Willamette      built 1990   Physics - General, Materials, Theory\n"
     ]
    }
   ],
   "source": [
    "UO_dictionary = {'Chapman': [1939, 'Honors College'],\n",
    "                'Condon': [1925, 'Geography, Anthropology'],\n",
    "                'Deschutes': [1990, 'Computer Science'],\n",
    "                'Lillis': [2003, 'Business College'],\n",
    "                'Willamette': [1990,\n",
    "                              'Physics - General, Materials, Theory']}\n",
    "\n",
    "for building in sorted(UO_dictionary):\n",
    "    data_list = UO_dictionary[building]\n",
    "    year= data_list[0]\n",
    "    note = data_list[1]\n",
    "    print(building, year, note)\n",
    "#\n",
    "for building in sorted(UO_dictionary):\n",
    "    # value     dictionary [key]\n",
    "    data_list = UO_dictionary[building]\n",
    "    year = data_list[0]\n",
    "    note = data_list[1]\n",
    "    #      string len 15    4 digits string\n",
    "    print(\"{0:15s} built {1:4d}   {2:s}\" \\\n",
    "         .format(building, year, note))"
   ]
  },
  {
   "cell_type": "markdown",
   "metadata": {},
   "source": [
    "# Create thumbnails of images"
   ]
  },
  {
   "cell_type": "code",
   "execution_count": 2,
   "metadata": {
    "collapsed": false
   },
   "outputs": [],
   "source": [
    "from PIL import Image\n",
    "\n",
    "for building in UO_dictionary:\n",
    "    file_name = building\n",
    "    infile = file_name + '.jpg'\n",
    "    image = Image.open(infile)\n",
    "    \n",
    "    #create thumbnail file\n",
    "    size = (128, 128)\n",
    "    outfile = file_name + '_thumbnail.jpg'\n",
    "    image_thumb = image\n",
    "    image_thumb.thumbnail(size)\n",
    "    image_thumb.save(outfile, \"JPEG\")\n",
    "    image_thumb.show()\n",
    "    "
   ]
  },
  {
   "cell_type": "markdown",
   "metadata": {},
   "source": [
    "# Report on buildings; include a picture"
   ]
  },
  {
   "cell_type": "code",
   "execution_count": 3,
   "metadata": {
    "collapsed": false
   },
   "outputs": [
    {
     "name": "stdout",
     "output_type": "stream",
     "text": [
      "Willamette 1990 Physics - General, Materials, Theory Condon_thumbnail.jpg\n",
      "Chapman 1939 Honors College Condon_thumbnail.jpg\n",
      "Lillis 2003 Business College Condon_thumbnail.jpg\n",
      "Deschutes 1990 Computer Science Condon_thumbnail.jpg\n",
      "Condon 1925 Geography, Anthropology Condon_thumbnail.jpg\n"
     ]
    }
   ],
   "source": [
    "for building in UO_dictionary:\n",
    "    data_list = UO_dictionary[building]\n",
    "    year = data_list[0]\n",
    "    note = data_list[1]\n",
    "    \n",
    "    fule_name = building\n",
    "    infile = file_name + '_thumbnail.jpg'\n",
    "    image = Image.open(infile)\n",
    "    print(building, year, note, infile)\n",
    "    image.show()"
   ]
  },
  {
   "cell_type": "code",
   "execution_count": 6,
   "metadata": {
    "collapsed": false
   },
   "outputs": [
    {
     "data": {
      "image/jpeg": "[encoded data removed]",
      "text/plain": [
       "<IPython.core.display.Image object>"
      ]
     },
     "metadata": {},
     "output_type": "display_data"
    },
    {
     "name": "stdout",
     "output_type": "stream",
     "text": [
      "Willamette 1990 Physics - General, Materials, Theory\n",
      "----------------------------------------------------------------------\n"
     ]
    },
    {
     "data": {
      "image/jpeg": "[encoded data removed]",
      "text/plain": [
       "<IPython.core.display.Image object>"
      ]
     },
     "metadata": {},
     "output_type": "display_data"
    },
    {
     "name": "stdout",
     "output_type": "stream",
     "text": [
      "Chapman 1939 Honors College\n",
      "----------------------------------------------------------------------\n"
     ]
    },
    {
     "data": {
      "image/jpeg": "[encoded data removed]",
      "text/plain": [
       "<IPython.core.display.Image object>"
      ]
     },
     "metadata": {},
     "output_type": "display_data"
    },
    {
     "name": "stdout",
     "output_type": "stream",
     "text": [
      "Lillis 2003 Business College\n",
      "----------------------------------------------------------------------\n"
     ]
    },
    {
     "data": {
      "image/jpeg": "[encoded data removed]",
      "text/plain": [
       "<IPython.core.display.Image object>"
      ]
     },
     "metadata": {},
     "output_type": "display_data"
    },
    {
     "name": "stdout",
     "output_type": "stream",
     "text": [
      "Deschutes 1990 Computer Science\n",
      "----------------------------------------------------------------------\n"
     ]
    },
    {
     "data": {
      "image/jpeg": "[encoded data removed]",
      "text/plain": [
       "<IPython.core.display.Image object>"
      ]
     },
     "metadata": {},
     "output_type": "display_data"
    },
    {
     "name": "stdout",
     "output_type": "stream",
     "text": [
      "Condon 1925 Geography, Anthropology\n",
      "----------------------------------------------------------------------\n"
     ]
    }
   ],
   "source": [
    "from PIL import Image\n",
    "from IPython.display import display, Image as Im\n",
    "for building in UO_dictionary:\n",
    "    data_list = UO_dictionary[building]\n",
    "    year = data_list[0]\n",
    "    note = data_list[1]\n",
    "    file_name = building\n",
    "    infile = file_name + '_thumbnail.jpg'\n",
    "    image = Image.open(infile)\n",
    "    an_image = Im(filename=infile)\n",
    "    ##an_image = Image(url=image_file_name)\n",
    "    display(an_image)\n",
    "    print(building, year, note)\n",
    "    print('-' * 70)"
   ]
  },
  {
   "cell_type": "markdown",
   "metadata": {},
   "source": [
    "# easier to read code"
   ]
  },
  {
   "cell_type": "code",
   "execution_count": 16,
   "metadata": {
    "collapsed": false
   },
   "outputs": [
    {
     "data": {
      "text/html": [
       "<h1> UO Buildings</h1>"
      ],
      "text/plain": [
       "<IPython.core.display.HTML object>"
      ]
     },
     "metadata": {},
     "output_type": "display_data"
    },
    {
     "data": {
      "text/html": [
       "<table border=\"1\"><thread><tr><th style=\"width:80px; \">Building </th><th style=\"width:136px; \">Picture </th><th style=\"width:8px; \">Year </th><th style=\"width:300px; \">Notes </th></tr></thead>"
      ],
      "text/plain": [
       "<IPython.core.display.HTML object>"
      ]
     },
     "metadata": {},
     "output_type": "display_data"
    },
    {
     "data": {
      "text/html": [
       "</tr><td style=\"width:80px; \">Chapman</td><td style=\"width:136px;\"><img src=\"Chapman_thumbnail.jpg\"></td><td style=\"width:8px; \">1939</td><td style=\"width:300px; \">Honors College</td></tr>"
      ],
      "text/plain": [
       "<IPython.core.display.HTML object>"
      ]
     },
     "metadata": {},
     "output_type": "display_data"
    },
    {
     "data": {
      "text/html": [
       "</tr><td style=\"width:80px; \">Condon</td><td style=\"width:136px;\"><img src=\"Condon_thumbnail.jpg\"></td><td style=\"width:8px; \">1925</td><td style=\"width:300px; \">Geography, Anthropology</td></tr>"
      ],
      "text/plain": [
       "<IPython.core.display.HTML object>"
      ]
     },
     "metadata": {},
     "output_type": "display_data"
    },
    {
     "data": {
      "text/html": [
       "</tr><td style=\"width:80px; \">Deschutes</td><td style=\"width:136px;\"><img src=\"Deschutes_thumbnail.jpg\"></td><td style=\"width:8px; \">1990</td><td style=\"width:300px; \">Computer Science</td></tr>"
      ],
      "text/plain": [
       "<IPython.core.display.HTML object>"
      ]
     },
     "metadata": {},
     "output_type": "display_data"
    },
    {
     "data": {
      "text/html": [
       "</tr><td style=\"width:80px; \">Lillis</td><td style=\"width:136px;\"><img src=\"Lillis_thumbnail.jpg\"></td><td style=\"width:8px; \">2003</td><td style=\"width:300px; \">Business College</td></tr>"
      ],
      "text/plain": [
       "<IPython.core.display.HTML object>"
      ]
     },
     "metadata": {},
     "output_type": "display_data"
    },
    {
     "data": {
      "text/html": [
       "</tr><td style=\"width:80px; \">Willamette</td><td style=\"width:136px;\"><img src=\"Willamette_thumbnail.jpg\"></td><td style=\"width:8px; \">1990</td><td style=\"width:300px; \">Physics - General, Materials, Theory</td></tr>"
      ],
      "text/plain": [
       "<IPython.core.display.HTML object>"
      ]
     },
     "metadata": {},
     "output_type": "display_data"
    }
   ],
   "source": [
    "from IPython.display import display, HTML\n",
    "\n",
    "def create_table_header():\n",
    "    \"\"\"\n",
    "        Returns a string of html for table header for building,\n",
    "        picture, year, note\n",
    "        \"\"\"\n",
    "    h0 = '<table border=\"1\">'   #table\n",
    "    \n",
    "    h1 = '<thread><tr>'\n",
    "    \n",
    "    h2 = '<th style=\"width:80px; \">Building </th>'\n",
    "    \n",
    "    h3 = '<th style=\"width:136px; \">Picture </th>'\n",
    "    \n",
    "    h4 = '<th style=\"width:8px; \">Year </th>'\n",
    "    \n",
    "    h5 = '<th style=\"width:300px; \">Notes </th>'\n",
    "    \n",
    "    h6 = '</tr></thead>'\n",
    "    \n",
    "    html_table_header = h0 + h1 + h2 + h3 + h4 + h5 + h6\n",
    "    return html_table_header\n",
    "\n",
    "def create_table_row(building, year, note):\n",
    "    \"\"\"Returns a string of html for a table row\n",
    "       with a building, a thumbnail image name.thumbnail and\n",
    "       year built, a note about the building;\n",
    "       html sets a width in pixels for each item\n",
    "    \"\"\"\n",
    "    \n",
    "    pic = building + '_thumbnail.jpg'\n",
    "    \n",
    "    part0 = '</tr>'\n",
    "    \n",
    "    part1 = '<td style=\"width:80px; \">' + \\\n",
    "    building + '</td>'\n",
    "    \n",
    "    part2 = '<td style=\"width:136px;\">' + \\\n",
    "    '<img src=\"' + pic +'\"></td>'\n",
    "    \n",
    "    #convert year to a string (ints are not allowed in html)\n",
    "    part3 = '<td style=\"width:8px; \">' + \\\n",
    "    str(year) + '</td>'\n",
    "    \n",
    "    part4 = '<td style=\"width:300px; \">' + \\\n",
    "    note + '</td>'\n",
    "    \n",
    "    part5 = '</tr>'\n",
    "    \n",
    "    row = part0 + part1 + part2 + part3 + part4 + part5\n",
    "    return row\n",
    "\n",
    "html_title = '<h1> UO Buildings</h1>'\n",
    "html_table_head = create_table_header()\n",
    "\n",
    "display(HTML(html_title))\n",
    "display(HTML(html_table_head))\n",
    "\n",
    "for building in sorted(UO_dictionary):\n",
    "    data_list = UO_dictionary[building]\n",
    "    year = data_list[0]\n",
    "    note = data_list[1]\n",
    "    # display an html table row for bulding\n",
    "    my_row = create_table_row(building, year, note)\n",
    "    display(HTML(my_row))\n",
    "    \n",
    "    \n",
    "    "
   ]
  },
  {
   "cell_type": "code",
   "execution_count": null,
   "metadata": {
    "collapsed": true
   },
   "outputs": [],
   "source": []
  }
 ],
 "metadata": {
  "kernelspec": {
   "display_name": "Python [conda root]",
   "language": "python",
   "name": "conda-root-py"
  },
  "language_info": {
   "codemirror_mode": {
    "name": "ipython",
    "version": 3
   },
   "file_extension": ".py",
   "mimetype": "text/x-python",
   "name": "python",
   "nbconvert_exporter": "python",
   "pygments_lexer": "ipython3",
   "version": "3.5.2"
  }
 },
 "nbformat": 4,
 "nbformat_minor": 1
}
