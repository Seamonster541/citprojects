{
 "cells": [
  {
   "cell_type": "code",
   "execution_count": 5,
   "metadata": {
    "collapsed": true
   },
   "outputs": [],
   "source": [
    "text = \"\"\"Never mind the winner of this year's Super Bowl. Who is the winner in the battle of advertisements during the National Football League's championship game? Two UO faculty members will grade that competition in a Quack Chats pub talk Wednesday, Feb. 8.\n",
    "\n",
    "Did one surpass Coca Cola's 1980 Super Bowl ad featuring a little boy giving a Coke to hobbled Mean Joe Greene of the Pittsburgh Steelers after a game?\n",
    "\n",
    "\"Everyone agrees that the Super Bowl is an opportunity to gain attention for a brand, a company, a cause or an issue,\" said T. Bettina Cornwell, head of the Department of Marketing in the Lundquist College of Business. \"And that the best advertisements entertain and inform.\"\n",
    "\n",
    "A lot is stake for the companies that advertise. This year a 30-second ad carries a $5 million price tag. In addition, the brands involved spend more — up to another 25 percent of the ad cost — on related marketing.\n",
    "\n",
    "The pub talk will begin at 6 p.m. at Falling Sky Pizzeria in the Erb Memorial Union. Cornwell, the Edwin E. & June Woldt Cone Professor of Marketing, will review the Super Bowl ads from a marketing perspective. Joining her, to provide an advertising assessment, will be David Koranda, a senior instructor of advertising in the School of Journalism and Communication.\n",
    "\n",
    "The event is open to the public. Participants are encouraged to ask questions and engage in a conversation during the presentation. Quack Chats pub talks, held the second and fourth Wednesdays each month, and Run with a Researcher, which is held on the first Saturday of each month, are part of a public outreach initiative led by University Communications.\n",
    "\n",
    "Koranda has worked on advertising campaigns from local to international levels and has won media awards from several major companies for his teaching approach. He grades ads based on their communication success with a specific audience and overall, as well as the strategies deployed to benefit a brand.\n",
    "\n",
    "\"I view the ads in the Super Bowl through both of those strategic lenses,\" Koranda said. \"Is the Super Bowl the best or proper place to run an ad for brand X, and is the strategy behind the message the right one for the mindset of the audience watching the game.\"\n",
    "\n",
    "From the marketing perspective, part of a successful ad involves the return on investment.\n",
    "\n",
    "\"For this reason, advertisements that demonstrate a product's features while entertaining are valued,\" said Cornwell, a member of the Warsaw Sports Marketing Center. \"On the other hand, marketing and society at large have come to recognize that a brand’s corporate social responsibility now permeates everything, including advertising.\"\n",
    "\n",
    "Join the discussion and see if any of this year's ads stack up to those considered by pundits to be the top five — so far: Coca-Cola's in 1980; McDonald's in 1993; Apple's in 1984; Budweiser's in 1989; and Volkswagen's in 2011.\n",
    "\n",
    "Coming Quack Chats Events\n",
    "\n",
    "To participate in the Feb. 4 Run with a Researcher event, meet up at 9 a.m. at the Erb Memorial Union’s “O” Desk, located on the lower level.\n",
    "\n",
    "Be sure to mark your calendar for the Feb. 22 Quack Chats event featuring UO historian Alex Dracobly, who will share details — and some of his interviews — from his ongoing Veterans Oral History Project. With help from some project participants, Dracobly will lead a discussion on military service, with a focus on what motivates people to join the military, what they do while in the service, and why some decide to return to civilian life.\n",
    "\n",
    "On Wednesday, March 1, the Museum of Natural and Cultural History will present its monthly pub talk, beginning at 6 p.m. at Marketplace@Sprout!, 418 A St., in Springfield. UO law professor Michael Fakhri will address the question: Are international trade agreements good for Oregon? His talk will include the debate over the Trans-Pacific Partnership recently set aside by President Trump, and Fakhri will lead a conversation about how people assess the value of international trade agreements.\n",
    "\n",
    "To find other opportunities to attend UO events that are open to the public, see the university's Events Calendar\"\"\""
   ]
  },
  {
   "cell_type": "code",
   "execution_count": 17,
   "metadata": {
    "collapsed": false
   },
   "outputs": [],
   "source": [
    "#for letter in text:"
   ]
  },
  {
   "cell_type": "code",
   "execution_count": 18,
   "metadata": {
    "collapsed": true
   },
   "outputs": [],
   "source": [
    "#dictionary ={}"
   ]
  },
  {
   "cell_type": "code",
   "execution_count": 19,
   "metadata": {
    "collapsed": false
   },
   "outputs": [],
   "source": [
    "#dictionary['a'] = 2"
   ]
  },
  {
   "cell_type": "code",
   "execution_count": 20,
   "metadata": {
    "collapsed": true
   },
   "outputs": [],
   "source": [
    "#dictionary['b'] = 0"
   ]
  },
  {
   "cell_type": "code",
   "execution_count": 21,
   "metadata": {
    "collapsed": false
   },
   "outputs": [],
   "source": [
    "#dictionary"
   ]
  },
  {
   "cell_type": "code",
   "execution_count": 14,
   "metadata": {
    "collapsed": false
   },
   "outputs": [],
   "source": [
    "letter_frequency = {}\n",
    "\n",
    "for letter in text:\n",
    "    count_frequency(letter, letter_frequency)\n",
    "\n",
    "#frequency_counter = {}\n",
    "\n",
    "#for letter in text:\n",
    "#    if letter in frequency_counter:\n",
    "#        freq = frequency_counter[letter]\n",
    "#        frequency_counter[letter] = freq + 1\n",
    "#    else:\n",
    "#        frequency_counter[letter] = 1"
   ]
  },
  {
   "cell_type": "code",
   "execution_count": 15,
   "metadata": {
    "collapsed": false
   },
   "outputs": [
    {
     "data": {
      "text/plain": [
       "(0, 30)"
      ]
     },
     "execution_count": 15,
     "metadata": {},
     "output_type": "execute_result"
    },
    {
     "data": {
      "image/png": "[encoded data removed]",
      "text/plain": [
       "<matplotlib.figure.Figure at 0x2e80dd3a90>"
      ]
     },
     "metadata": {},
     "output_type": "display_data"
    }
   ],
   "source": [
    "import matplotlib.pyplot as plt\n",
    "%matplotlib inline\n",
    "\n",
    "x = range(1, len(frequency_counter) + 1)\n",
    "letters = list(frequency_counter.keys())\n",
    "frequencies = list(frequency_counter.values())\n",
    "\n",
    "plt.bar(x, frequencies, align='center')\n",
    "plt.xticks(x, letters)\n",
    "plt.xlim(0, 30)"
   ]
  },
  {
   "cell_type": "code",
   "execution_count": 8,
   "metadata": {
    "collapsed": true
   },
   "outputs": [],
   "source": [
    "def double(number):\n",
    "    return number * 2"
   ]
  },
  {
   "cell_type": "code",
   "execution_count": 10,
   "metadata": {
    "collapsed": false
   },
   "outputs": [
    {
     "data": {
      "text/plain": [
       "8"
      ]
     },
     "execution_count": 10,
     "metadata": {},
     "output_type": "execute_result"
    }
   ],
   "source": [
    "double(4)"
   ]
  },
  {
   "cell_type": "code",
   "execution_count": 12,
   "metadata": {
    "collapsed": true
   },
   "outputs": [],
   "source": [
    "def count_frequency(key, dictionary):\n",
    "    if key in dictionary:\n",
    "        freq = dictionary[key]\n",
    "        dictionary[key] = freq + 1\n",
    "    else:\n",
    "        dictionary[key] = 1\n",
    "    return dictionary"
   ]
  },
  {
   "cell_type": "code",
   "execution_count": null,
   "metadata": {
    "collapsed": true
   },
   "outputs": [],
   "source": []
  }
 ],
 "metadata": {
  "anaconda-cloud": {},
  "kernelspec": {
   "display_name": "Python [conda root]",
   "language": "python",
   "name": "conda-root-py"
  },
  "language_info": {
   "codemirror_mode": {
    "name": "ipython",
    "version": 3
   },
   "file_extension": ".py",
   "mimetype": "text/x-python",
   "name": "python",
   "nbconvert_exporter": "python",
   "pygments_lexer": "ipython3",
   "version": "3.5.2"
  }
 },
 "nbformat": 4,
 "nbformat_minor": 1
}
